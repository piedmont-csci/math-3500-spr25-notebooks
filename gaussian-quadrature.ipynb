{
 "cells": [
  {
   "cell_type": "markdown",
   "id": "a9147470",
   "metadata": {},
   "source": [
    "# Gaussian quadrature supplemental notes\n",
    "\n",
    "Recall from class that if we integrate the linear interpolating polynomial to a function $f$ at $\\pm\\frac{1}{\\sqrt 3}$, then it's just as good as integrating a cubic interpolating polynomial thanks to the orthogonality of the Legendre polynomials.\n",
    "\n",
    "Let's finish our computation from class.  Using the Legendre form of the interpolating polynomial, we have:\n",
    "\n",
    "\\begin{align*}\n",
    "p(x) &= f\\left(-\\frac{1}{\\sqrt 3}\\right)\\frac{x - \\frac{1}{\\sqrt 3}}{-\\frac{1}{\\sqrt 3} - \\frac{1}{\\sqrt 3}} + f\\left(\\frac{1}{\\sqrt 3}\\right)\\frac{x + \\frac{1}{\\sqrt 3}}{\\frac{1}{\\sqrt 3} + \\frac{1}{\\sqrt 3}} \\\\\n",
    " &= -\\frac{\\sqrt 3}{2}f\\left(-\\frac{1}{\\sqrt 3}\\right)\\left(x - \\frac{1}{\\sqrt 3}\\right) + \\frac{\\sqrt 3}{2}f\\left(\\frac{1}{\\sqrt 3}\\right)\\left(x + \\frac{1}{\\sqrt 3}\\right) \\\\\n",
    "\\end{align*}\n",
    "\n",
    "So, consequently:\n",
    "\n",
    "\\begin{align*}\n",
    "\\int_{-1}^1 f(x)\\,dx &\\approx \\int_{-1}^1\\left(-\\frac{\\sqrt 3}{2}f\\left(-\\frac{1}{\\sqrt 3}\\right)\\left(x - \\frac{1}{\\sqrt 3}\\right) + \\frac{\\sqrt 3}{2}f\\left(\\frac{1}{\\sqrt 3}\\right)\\left(x + \\frac{1}{\\sqrt 3}\\right)\\right)\\,dx \\\\\n",
    "&= \\left[-\\frac{\\sqrt 3}{4}f\\left(-\\frac{1}{\\sqrt 3}\\right)\\left(x - \\frac{1}{\\sqrt 3}\\right)^2 + \\frac{\\sqrt 3}{4}f\\left(\\frac{1}{\\sqrt 3}\\right)\\left(x + \\frac{1}{\\sqrt 3}\\right)^2\\right]_{-1}^1 \\\\\n",
    "&= \\left[-\\frac{\\sqrt 3}{4}f\\left(-\\frac{1}{\\sqrt 3}\\right)\\left(1 - \\frac{1}{\\sqrt 3}\\right)^2 + \\frac{\\sqrt 3}{4}f\\left(\\frac{1}{\\sqrt 3}\\right)\\left(1 + \\frac{1}{\\sqrt 3}\\right)^2\\right] \\\\\n",
    "&\\quad - \\left[-\\frac{\\sqrt 3}{4}f\\left(-\\frac{1}{\\sqrt 3}\\right)\\left(-1 - \\frac{1}{\\sqrt 3}\\right)^2 + \\frac{\\sqrt 3}{4}f\\left(\\frac{1}{\\sqrt 3}\\right)\\left(-1 + \\frac{1}{\\sqrt 3}\\right)^2\\right] \\\\\n",
    "&= \\left[-\\frac{\\sqrt 3}{4}f\\left(-\\frac{1}{\\sqrt 3}\\right)\\left(1 - \\frac{1}{\\sqrt 3}\\right)^2 + \\frac{\\sqrt 3}{4}f\\left(\\frac{1}{\\sqrt 3}\\right)\\left(1 + \\frac{1}{\\sqrt 3}\\right)^2\\right] \\\\\n",
    "&\\quad- \\left[-\\frac{\\sqrt 3}{4}f\\left(-\\frac{1}{\\sqrt 3}\\right)\\left(-1 - \\frac{1}{\\sqrt 3}\\right)^2 + \\frac{\\sqrt 3}{4}f\\left(\\frac{1}{\\sqrt 3}\\right)\\left(-1 + \\frac{1}{\\sqrt 3}\\right)^2\\right] \\\\\n",
    "&= -\\frac{\\sqrt 3}{4}f\\left(-\\frac{1}{\\sqrt 3}\\right)\\cdot\\frac{4 - 2\\sqrt 3}{3} + \\frac{\\sqrt 3}{4}f\\left(\\frac{1}{\\sqrt 3}\\right)\\cdot\\frac{4 + 2\\sqrt 3}{3} \\\\\n",
    "&\\quad + \\frac{\\sqrt 3}{4}f\\left(-\\frac{1}{\\sqrt 3}\\right)\\cdot\\frac{4 + 2\\sqrt 3}{3} - \\frac{\\sqrt 3}{4}f\\left(\\frac{1}{\\sqrt 3}\\right)\\cdot\\frac{4 - 2\\sqrt 3}{3} \\\\\n",
    "&= f\\left(-\\frac{1}{\\sqrt 3}\\right) + f\\left(\\frac{1}{\\sqrt 3}\\right)\n",
    "\\end{align*}\n",
    "\n",
    "We only got about halfway through that computation in class, and it's a very ugly way to find out that the coefficients are both just 1!"
   ]
  },
  {
   "cell_type": "markdown",
   "id": "9cae4a62",
   "metadata": {},
   "source": [
    "## Method of undetermined coefficients\n",
    "\n",
    "Here's a much nicer way to find those coefficients.  We're looking for coefficients $A$ and $B$ such that\n",
    "\\begin{equation*}\n",
    "\\int_{-1}^1 f(x)\\,dx = Af\\left(-\\frac{1}{\\sqrt 3}\\right) + Bf\\left(\\frac{1}{\\sqrt 3}\\right)\n",
    "\\end{equation*}\n",
    "for any polynomial $f$ with sufficiently small (i.e., $\\leq 3$) degree.  So let's just pick a couple, say 1 and $x$.  We have\n",
    "\\begin{align*}\n",
    "\\int_{-1}^1 \\,dx &= 2 = A + B \\\\\n",
    "\\int_{-1}^1 x\\,dx &= 0 = -\\frac{1}{\\sqrt 3}A + \\frac{1}{\\sqrt 3}B\n",
    "\\end{align*}\n",
    "\n",
    "This system is simple enough to solve by hand, but let's use Macaulay2!  We're solving the matrix equation\n",
    "\\begin{equation*}\n",
    "\\begin{pmatrix}\n",
    "1 & 1 \\\\ -\\frac{1}{\\sqrt 3} & \\frac{1}{\\sqrt 3}\n",
    "\\end{pmatrix}\\begin{pmatrix} A \\\\ B \\end{pmatrix} = \\begin{pmatrix} 2 \\\\ 0 \\end{pmatrix}\n",
    "\\end{equation*}\n",
    "\n"
   ]
  },
  {
   "cell_type": "code",
   "execution_count": 12,
   "id": "cb36a822",
   "metadata": {
    "scrolled": true
   },
   "outputs": [
    {
     "name": "stdout",
     "output_type": "stream",
     "text": [
      "\n",
      "o12 = | 1 |\n",
      "      | 1 |\n",
      "\n",
      "          2\n",
      "o12 : RR\n",
      "        53\n"
     ]
    }
   ],
   "source": [
    "M = matrix {{1, 1}, {-1/sqrt 3, 1/sqrt 3}}\n",
    "v = vector(RR, {2, 0})\n",
    "solve(M, v)"
   ]
  },
  {
   "cell_type": "markdown",
   "id": "8bef9b61",
   "metadata": {},
   "source": [
    "This agrees with our much uglier computation above.\n",
    "\n",
    "See pp. 482 - 483 in Kincaid & Cheney for more on the method of undetermined coefficients."
   ]
  },
  {
   "cell_type": "markdown",
   "id": "c793618d",
   "metadata": {},
   "source": [
    "Now let's write a function to estimate an integral with this 2-point Gaussian quadrature formula."
   ]
  },
  {
   "cell_type": "code",
   "execution_count": 17,
   "id": "d6d63b32",
   "metadata": {},
   "outputs": [
    {
     "name": "stdout",
     "output_type": "stream",
     "text": [
      "\n",
      "o17 = 1.675823655389986\n",
      "\n",
      "o17 : RR (of precision 53)\n"
     ]
    }
   ],
   "source": [
    "gaussianQuadrature = f -> f(-1/sqrt 3) + f(1/sqrt 3)\n",
    "gaussianQuadrature cos"
   ]
  },
  {
   "cell_type": "markdown",
   "id": "2b33b7e7",
   "metadata": {},
   "source": [
    "We know that $\\displaystyle{\\int_{-1}^1\\cos x\\,dx = \\sin 1 - \\sin(-1)}$, so let's see how we did:"
   ]
  },
  {
   "cell_type": "code",
   "execution_count": 18,
   "id": "47c48876",
   "metadata": {},
   "outputs": [
    {
     "name": "stdout",
     "output_type": "stream",
     "text": [
      "\n",
      "o18 = 1.682941969615793\n",
      "\n",
      "o18 : RR (of precision 53)\n"
     ]
    }
   ],
   "source": [
    "sin 1 - sin(-1)"
   ]
  },
  {
   "cell_type": "markdown",
   "id": "a6a486b0",
   "metadata": {},
   "source": [
    "Not bad for only two points!"
   ]
  }
 ],
 "metadata": {
  "kernelspec": {
   "display_name": "M2",
   "language": "Macaulay2",
   "name": "m2"
  },
  "language_info": {
   "codemirror_mode": "macaulay2",
   "file_extension": ".m2",
   "mimetype": "text/x-macaulay2",
   "name": "Macaulay2"
  }
 },
 "nbformat": 4,
 "nbformat_minor": 5
}
