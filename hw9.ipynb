{
 "cells": [
  {
   "cell_type": "markdown",
   "id": "059ec9e3",
   "metadata": {},
   "source": [
    "# Homework 9\n",
    "## Kincaid & Cheney Section 7.3\n",
    "### Problem 21 (a)\n",
    "\n",
    "If we use the standard basis $\\{1, x, x^2\\}$ on the vector space of polynomial of degree at most 2, then the following computations should yield the same thing.\n",
    "\n",
    "First, let's compute the integrals:\n",
    "\\begin{align*}\n",
    "\\int_{-1}^1\\,dx &= 2 \\\\\n",
    "\\int_{-1}^1 x\\,dx &= 0\\\\\n",
    "\\int_{-1}^1 x^2\\,dx &=\\frac{2}{3}\n",
    "\\end{align*}\n",
    "\n",
    "These should agree with our results from Gaussian quadrature.  So in particular:\n",
    "\\begin{align*}\n",
    "2 &= A + B + C \\\\\n",
    "0 &= -\\sqrt{\\frac{3}{5}}A + 0 + \\sqrt{\\frac{3}{5}}C \\\\\n",
    "\\frac{2}{3} &= \\frac{3}{5}A + 0 + \\frac{3}{5} C\n",
    "\\end{align*}\n",
    "\n",
    "Let's solve this system in Macaulay2:"
   ]
  },
  {
   "cell_type": "code",
   "execution_count": 8,
   "id": "10db9c4f",
   "metadata": {},
   "outputs": [
    {
     "name": "stdout",
     "output_type": "stream",
     "text": [
      "\n",
      "o8 = | .555556 |\n",
      "     | .888889 |\n",
      "     | .555556 |\n",
      "\n",
      "         3\n",
      "o8 : RR\n",
      "       53\n"
     ]
    }
   ],
   "source": [
    "A = matrix {\n",
    "    {1, 1, 1},\n",
    "    {-sqrt(3/5), 0, sqrt(3/5)},\n",
    "    {3/5, 0, 3/5}}\n",
    "b = vector(RR, {2, 0, 2/3})\n",
    "solve(A, b)"
   ]
  },
  {
   "cell_type": "markdown",
   "id": "e72463d5",
   "metadata": {},
   "source": [
    "That looks like it's probably $\\begin{pmatrix}A\\\\B\\\\C\\end{pmatrix} = \\dfrac{1}{9}\\begin{pmatrix}5 \\\\ 8 \\\\ 5\\end{pmatrix}$.  Let's check:"
   ]
  },
  {
   "cell_type": "code",
   "execution_count": 9,
   "id": "b43dc8da",
   "metadata": {},
   "outputs": [
    {
     "name": "stdout",
     "output_type": "stream",
     "text": [
      "\n",
      "o9 = |    2    |\n",
      "     |    0    |\n",
      "     | .666667 |\n",
      "\n",
      "         3\n",
      "o9 : RR\n",
      "       53\n"
     ]
    }
   ],
   "source": [
    "A * 1/9 * vector {5, 8, 5}"
   ]
  },
  {
   "cell_type": "markdown",
   "id": "451ef514",
   "metadata": {},
   "source": [
    "Seems right!  So we have:\n",
    "\n",
    "\\begin{equation*}\n",
    "\\int_{-1}^1f(x)\\,dx \\approx \\frac{5}{9}f\\left(-\\sqrt{\\frac{3}{5}}\\right) + \\frac{8}{9}f(0)+\\frac{5}{9}f\\left(\\sqrt{\\frac{3}{5}}\\right) \n",
    "\\end{equation*}"
   ]
  },
  {
   "cell_type": "markdown",
   "id": "9b2be83d",
   "metadata": {},
   "source": [
    "### Problem 22\n",
    "Let's use $u$-substituion.  Given some integral $\\displaystyle{\\int_a^bf(x)\\,dx}$, we'd like to find some one-to-one function $g$ for which $g(a) = -1$ and $g(b) = 1$.  A linear function would work beautifully.  And in particular, such a function would have slope $\\frac{1-(-1)}{b-a} = \\frac{2}{b-a}$, giving us\n",
    "\\begin{equation*}\n",
    "g(x) = -1 + \\frac{2}{b-a}(x - a)\n",
    "\\end{equation*}\n",
    "\n",
    "So if $u = g(x)$, then\n",
    "\\begin{align*}\n",
    "\\frac{2}{b-a}(x - a) &= u + 1 \\\\\n",
    "x &= \\frac{b-a}{2}(u + 1) + a \\\\\n",
    "dx &= \\frac{b-a}{2}\\,du\n",
    "\\end{align*}\n",
    "\n",
    "So, via $u$-substitution, we have\n",
    "\\begin{align*}\n",
    "\\int_a^b f(x)\\,dx &= \\int_{-1}^1f\\left(\\frac{b-a}{2}(u + 1) + a\\right)\\cdot\\frac{b-a}{2}\\,du \\\\\n",
    "&\\approx\\frac{b-a}{2}\\left[\\frac{5}{9}f\\left(\\frac{b-a}{2}\\left(1-\\sqrt{\\frac{3}{5}}\\right) + a\\right) + \\frac{8}{9}f\\left(\\frac{b-a}{2} + a\\right)+\\frac{5}{9}f\\left(\\frac{b-a}{2}\\left(1+\\sqrt{\\frac{3}{5}}\\right) + a\\right) \\right]\\\\\n",
    "\\end{align*}"
   ]
  },
  {
   "cell_type": "markdown",
   "id": "b93791f7",
   "metadata": {},
   "source": [
    "Let's go ahead and write the Macaulay2 code we can use for parts (a) and (b):"
   ]
  },
  {
   "cell_type": "code",
   "execution_count": 10,
   "id": "30e0e504",
   "metadata": {},
   "outputs": [
    {
     "name": "stdout",
     "output_type": "stream",
     "text": [
      "\n",
      "o10 = gaussianQuadrature\n",
      "\n",
      "o10 : FunctionClosure\n"
     ]
    }
   ],
   "source": [
    "gaussianQuadrature = (f, a, b) -> (\n",
    "    h := (b - a)/2;  -- we use this a bunch, so might as well make things a bit simpler\n",
    "    h * (5/9*f(h * (1 - sqrt(3/5)) + a) + 8/9*f(h + a) + (5/9*f(h * (1 + sqrt(3/5)) + a))))"
   ]
  },
  {
   "cell_type": "markdown",
   "id": "942cacc0",
   "metadata": {},
   "source": [
    "#### Part (a)\n",
    "Now let's use our code.  Note that the `identity` function in Macaulay2 is just a shortcut for $f(x) = x$."
   ]
  },
  {
   "cell_type": "code",
   "execution_count": 11,
   "id": "e0951810",
   "metadata": {},
   "outputs": [
    {
     "name": "stdout",
     "output_type": "stream",
     "text": [
      "\n",
      "o11 = 1.23370055013617\n",
      "\n",
      "o11 : RR (of precision 53)\n"
     ]
    }
   ],
   "source": [
    "gaussianQuadrature(identity, 0, pi/2)"
   ]
  },
  {
   "cell_type": "markdown",
   "id": "3a82dd5e",
   "metadata": {},
   "source": [
    "Let's check:\n",
    "\n",
    "\\begin{equation*}\n",
    "\\int_0^{\\pi/2}x\\,dx = \\frac{1}{2}\\left(\\frac{\\pi}{2}\\right)^2\n",
    "\\end{equation*}"
   ]
  },
  {
   "cell_type": "code",
   "execution_count": 12,
   "id": "11950e4c",
   "metadata": {},
   "outputs": [
    {
     "name": "stdout",
     "output_type": "stream",
     "text": [
      "\n",
      "o12 = 1.23370055013617\n",
      "\n",
      "o12 : RR (of precision 53)\n"
     ]
    }
   ],
   "source": [
    "1/2*(pi/2)^2"
   ]
  },
  {
   "cell_type": "markdown",
   "id": "95bb503c",
   "metadata": {},
   "source": [
    "It's exact!  Of course, that's to be expected since we were integrating a degree 1 polynomial."
   ]
  },
  {
   "cell_type": "markdown",
   "id": "1ea6f41b",
   "metadata": {},
   "source": [
    "#### Part (b)\n",
    "Using our code:"
   ]
  },
  {
   "cell_type": "code",
   "execution_count": 13,
   "id": "8576367d",
   "metadata": {},
   "outputs": [
    {
     "name": "stdout",
     "output_type": "stream",
     "text": [
      "\n",
      "o13 = 1.758022025436357\n",
      "\n",
      "o13 : RR (of precision 53)\n"
     ]
    }
   ],
   "source": [
    "gaussianQuadrature(t -> sin t / t, 0, 4)"
   ]
  },
  {
   "cell_type": "markdown",
   "id": "f66a0fc9",
   "metadata": {},
   "source": [
    "This is a nonelementary integral, so we can't check our work exactly.  However, this particular integral is common in applications, and the **sine integral** function is actually defined as\n",
    "\\begin{equation*}\n",
    "\\text{Si}(x) = \\int_0^x\\frac{\\sin t}{t}\\,dt\n",
    "\\end{equation*}\n",
    "\n",
    "So let's compute $\\text{Si}(4)$ to check our work.  The sine integral function isn't really something algebraic geometers care about too much, so it's not implemented natively in Macaulay2.  But we can compute it using Macaulay2's Python interface.  The Python module SciPy has a function `scipy.special.sici` that computes values of both Si and Ci (the *cosine integral* function)."
   ]
  },
  {
   "cell_type": "code",
   "execution_count": 19,
   "id": "933bedd7",
   "metadata": {},
   "outputs": [
    {
     "name": "stdout",
     "output_type": "stream",
     "text": [
      "\n",
      "o19 = (1.758203138949053, -0.1409816978869305)\n",
      "\n",
      "o19 : PythonObject of class tuple\n"
     ]
    }
   ],
   "source": [
    "needsPackage \"Python\"\n",
    "scipyspecial = import \"scipy.special\"\n",
    "scipyspecial@@sici 4"
   ]
  },
  {
   "cell_type": "markdown",
   "id": "730e1df7",
   "metadata": {},
   "source": [
    "The first element of this tuple is what we're looking for.  We were very close!"
   ]
  },
  {
   "cell_type": "markdown",
   "id": "d2d74e90",
   "metadata": {},
   "source": [
    "## Kincaid & Cheney Section 7.4\n",
    "*Solutions coming soon!*"
   ]
  }
 ],
 "metadata": {
  "kernelspec": {
   "display_name": "M2",
   "language": "Macaulay2",
   "name": "m2"
  },
  "language_info": {
   "codemirror_mode": "macaulay2",
   "file_extension": ".m2",
   "mimetype": "text/x-macaulay2",
   "name": "Macaulay2"
  }
 },
 "nbformat": 4,
 "nbformat_minor": 5
}
