{
 "cells": [
  {
   "cell_type": "markdown",
   "id": "059ec9e3",
   "metadata": {},
   "source": [
    "# Homework 9\n",
    "## Kincaid & Cheney Section 7.3\n",
    "### Problem 21 (a)\n",
    "\n",
    "If we use the standard basis $\\{1, x, x^2\\}$ on the vector space of polynomial of degree at most 2, then the following computations should yield the same thing.\n",
    "\n",
    "First, let's compute the integrals:\n",
    "\\begin{align*}\n",
    "\\int_{-1}^1\\,dx &= 2 \\\\\n",
    "\\int_{-1}^1 x\\,dx &= 0\\\\\n",
    "\\int_{-1}^1 x^2\\,dx &=\\frac{2}{3}\n",
    "\\end{align*}\n",
    "\n",
    "These should agree with our results from Gaussian quadrature.  So in particular:\n",
    "\\begin{align*}\n",
    "2 &= A + B + C \\\\\n",
    "0 &= -\\sqrt{\\frac{3}{5}}A + 0 + \\sqrt{\\frac{3}{5}}C \\\\\n",
    "\\frac{2}{3} &= \\frac{3}{5}A + 0 + \\frac{3}{5} C\n",
    "\\end{align*}\n",
    "\n",
    "Let's solve this system in Macaulay2:"
   ]
  },
  {
   "cell_type": "code",
   "execution_count": 8,
   "id": "10db9c4f",
   "metadata": {},
   "outputs": [
    {
     "name": "stdout",
     "output_type": "stream",
     "text": [
      "\n",
      "o8 = | .555556 |\n",
      "     | .888889 |\n",
      "     | .555556 |\n",
      "\n",
      "         3\n",
      "o8 : RR\n",
      "       53\n"
     ]
    }
   ],
   "source": [
    "A = matrix {\n",
    "    {1, 1, 1},\n",
    "    {-sqrt(3/5), 0, sqrt(3/5)},\n",
    "    {3/5, 0, 3/5}}\n",
    "b = vector(RR, {2, 0, 2/3})\n",
    "solve(A, b)"
   ]
  },
  {
   "cell_type": "markdown",
   "id": "e72463d5",
   "metadata": {},
   "source": [
    "That looks like it's probably $\\begin{pmatrix}A\\\\B\\\\C\\end{pmatrix} = \\dfrac{1}{9}\\begin{pmatrix}5 \\\\ 8 \\\\ 5\\end{pmatrix}$.  Let's check:"
   ]
  },
  {
   "cell_type": "code",
   "execution_count": 9,
   "id": "b43dc8da",
   "metadata": {},
   "outputs": [
    {
     "name": "stdout",
     "output_type": "stream",
     "text": [
      "\n",
      "o9 = |    2    |\n",
      "     |    0    |\n",
      "     | .666667 |\n",
      "\n",
      "         3\n",
      "o9 : RR\n",
      "       53\n"
     ]
    }
   ],
   "source": [
    "A * 1/9 * vector {5, 8, 5}"
   ]
  },
  {
   "cell_type": "markdown",
   "id": "451ef514",
   "metadata": {},
   "source": [
    "Seems right!  So we have:\n",
    "\n",
    "\\begin{equation*}\n",
    "\\int_{-1}^1f(x)\\,dx \\approx \\frac{5}{9}f\\left(-\\sqrt{\\frac{3}{5}}\\right) + \\frac{8}{9}f(0)+\\frac{5}{9}f\\left(\\sqrt{\\frac{3}{5}}\\right) \n",
    "\\end{equation*}"
   ]
  },
  {
   "cell_type": "markdown",
   "id": "9b2be83d",
   "metadata": {},
   "source": [
    "### Problem 22\n",
    "Let's use $u$-substituion.  Given some integral $\\displaystyle{\\int_a^bf(x)\\,dx}$, we'd like to find some one-to-one function $g$ for which $g(a) = -1$ and $g(b) = 1$.  A linear function would work beautifully.  And in particular, such a function would have slope $\\frac{1-(-1)}{b-a} = \\frac{2}{b-a}$, giving us\n",
    "\\begin{equation*}\n",
    "g(x) = -1 + \\frac{2}{b-a}(x - a)\n",
    "\\end{equation*}\n",
    "\n",
    "So if $u = g(x)$, then\n",
    "\\begin{align*}\n",
    "\\frac{2}{b-a}(x - a) &= u + 1 \\\\\n",
    "x &= \\frac{b-a}{2}(u + 1) + a \\\\\n",
    "dx &= \\frac{b-a}{2}\\,du\n",
    "\\end{align*}\n",
    "\n",
    "So, via $u$-substitution, we have\n",
    "\\begin{align*}\n",
    "\\int_a^b f(x)\\,dx &= \\int_{-1}^1f\\left(\\frac{b-a}{2}(u + 1) + a\\right)\\cdot\\frac{b-a}{2}\\,du \\\\\n",
    "&\\approx\\frac{b-a}{2}\\left[\\frac{5}{9}f\\left(\\frac{b-a}{2}\\left(1-\\sqrt{\\frac{3}{5}}\\right) + a\\right) + \\frac{8}{9}f\\left(\\frac{b-a}{2} + a\\right)+\\frac{5}{9}f\\left(\\frac{b-a}{2}\\left(1+\\sqrt{\\frac{3}{5}}\\right) + a\\right) \\right]\\\\\n",
    "\\end{align*}"
   ]
  },
  {
   "cell_type": "markdown",
   "id": "b93791f7",
   "metadata": {},
   "source": [
    "Let's go ahead and write the Macaulay2 code we can use for parts (a) and (b):"
   ]
  },
  {
   "cell_type": "code",
   "execution_count": 10,
   "id": "30e0e504",
   "metadata": {},
   "outputs": [
    {
     "name": "stdout",
     "output_type": "stream",
     "text": [
      "\n",
      "o10 = gaussianQuadrature\n",
      "\n",
      "o10 : FunctionClosure\n"
     ]
    }
   ],
   "source": [
    "gaussianQuadrature = (f, a, b) -> (\n",
    "    h := (b - a)/2;  -- we use this a bunch, so might as well make things a bit simpler\n",
    "    h * (5/9*f(h * (1 - sqrt(3/5)) + a) + 8/9*f(h + a) + (5/9*f(h * (1 + sqrt(3/5)) + a))))"
   ]
  },
  {
   "cell_type": "markdown",
   "id": "942cacc0",
   "metadata": {},
   "source": [
    "#### Part (a)\n",
    "Now let's use our code.  Note that the `identity` function in Macaulay2 is just a shortcut for $f(x) = x$."
   ]
  },
  {
   "cell_type": "code",
   "execution_count": 11,
   "id": "e0951810",
   "metadata": {},
   "outputs": [
    {
     "name": "stdout",
     "output_type": "stream",
     "text": [
      "\n",
      "o11 = 1.23370055013617\n",
      "\n",
      "o11 : RR (of precision 53)\n"
     ]
    }
   ],
   "source": [
    "gaussianQuadrature(identity, 0, pi/2)"
   ]
  },
  {
   "cell_type": "markdown",
   "id": "3a82dd5e",
   "metadata": {},
   "source": [
    "Let's check:\n",
    "\n",
    "\\begin{equation*}\n",
    "\\int_0^{\\pi/2}x\\,dx = \\frac{1}{2}\\left(\\frac{\\pi}{2}\\right)^2\n",
    "\\end{equation*}"
   ]
  },
  {
   "cell_type": "code",
   "execution_count": 12,
   "id": "11950e4c",
   "metadata": {},
   "outputs": [
    {
     "name": "stdout",
     "output_type": "stream",
     "text": [
      "\n",
      "o12 = 1.23370055013617\n",
      "\n",
      "o12 : RR (of precision 53)\n"
     ]
    }
   ],
   "source": [
    "1/2*(pi/2)^2"
   ]
  },
  {
   "cell_type": "markdown",
   "id": "95bb503c",
   "metadata": {},
   "source": [
    "It's exact!  Of course, that's to be expected since we were integrating a degree 1 polynomial."
   ]
  },
  {
   "cell_type": "markdown",
   "id": "1ea6f41b",
   "metadata": {},
   "source": [
    "#### Part (b)\n",
    "Using our code:"
   ]
  },
  {
   "cell_type": "code",
   "execution_count": 13,
   "id": "8576367d",
   "metadata": {},
   "outputs": [
    {
     "name": "stdout",
     "output_type": "stream",
     "text": [
      "\n",
      "o13 = 1.758022025436357\n",
      "\n",
      "o13 : RR (of precision 53)\n"
     ]
    }
   ],
   "source": [
    "gaussianQuadrature(t -> sin t / t, 0, 4)"
   ]
  },
  {
   "cell_type": "markdown",
   "id": "f66a0fc9",
   "metadata": {},
   "source": [
    "This is a nonelementary integral, so we can't check our work exactly.  However, this particular integral is common in applications, and the **sine integral** function is actually defined as\n",
    "\\begin{equation*}\n",
    "\\text{Si}(x) = \\int_0^x\\frac{\\sin t}{t}\\,dt\n",
    "\\end{equation*}\n",
    "\n",
    "So let's compute $\\text{Si}(4)$ to check our work.  The sine integral function isn't really something algebraic geometers care about too much, so it's not implemented natively in Macaulay2.  But we can compute it using Macaulay2's Python interface.  The Python module SciPy has a function `scipy.special.sici` that computes values of both Si and Ci (the *cosine integral* function)."
   ]
  },
  {
   "cell_type": "code",
   "execution_count": 19,
   "id": "933bedd7",
   "metadata": {},
   "outputs": [
    {
     "name": "stdout",
     "output_type": "stream",
     "text": [
      "\n",
      "o19 = (1.758203138949053, -0.1409816978869305)\n",
      "\n",
      "o19 : PythonObject of class tuple\n"
     ]
    }
   ],
   "source": [
    "needsPackage \"Python\"\n",
    "scipyspecial = import \"scipy.special\"\n",
    "scipyspecial@@sici 4"
   ]
  },
  {
   "cell_type": "markdown",
   "id": "730e1df7",
   "metadata": {},
   "source": [
    "The first element of this tuple is what we're looking for.  We were very close!"
   ]
  },
  {
   "cell_type": "markdown",
   "id": "d2d74e90",
   "metadata": {},
   "source": [
    "## Kincaid & Cheney Section 7.4\n",
    "### Problem 1\n",
    "\n",
    "We start with Equation (6), the [Euler-Maclaurin formula](https://en.wikipedia.org/wiki/Euler%E2%80%93Maclaurin_formula), which says that for some $\\xi_0\\in(0,1)$,\n",
    "\n",
    "\\begin{equation*}\n",
    "\\int_0^1f(t)\\,dt = \\frac{1}{2}(f(0) + f(1)) + \\sum_{k=1}^{m-1}A_{2k}\\left(f^{(2k-1)}(0) - f^{(2k-1)}(0)\\right) - A_{2m}f^{(2m)}(\\xi_0),\n",
    "\\end{equation*}\n",
    "where $(2k)!A_{2k}=B_{2k}$, a [Bernoulli number](https://en.wikipedia.org/wiki/Bernoulli_number).\n",
    "\n",
    "Now pick $x_i,x_{i+1}$ and define $g(t) = f(x_i + ht)$, where $h=x_{i+1}-x_i$.  So, applying the Euler-Maclaurin formula to $g$, we have\n",
    "\\begin{align*}\n",
    "\\int_0^1g(t)\\,dt &= \\frac{1}{2}(g(0) + g(1)) + \\sum_{k=1}^{m-1}A_{2k}\\left(g^{(2k-1)}(0) - g^{(2k-1)}(0)\\right) - A_{2m}g^{(2m)}(\\xi_0),\n",
    "\\end{align*}\n",
    "\n",
    "By inductively applying the chain rule, we see that $g^{(n)}(t) = h^nf^{(n)}(x_i + ht)$ for any nonnegative integer $h$.  Since $x_i + h\\cdot 0 = x_i$ and $x_i + h\\cdot 1 = x_{i+1}$, it follows that\n",
    "\\begin{align*}\n",
    "\\int_0^1f(x_i+ht)\\,dt &= \\frac{1}{2}(f(x_i) + f(x_{i+1})) + \\sum_{k=1}^{m-1}A_{2k}h^{2k-1}\\left(f^{(2k-1)}(x_i) - f^{(2k-1)}(x_{i+1})\\right) - A_{2m}h^{2m}f^{(2m)}(x_i + h\\xi_0),\n",
    "\\end{align*}\n",
    "\n",
    "Define $\\xi_i$ to be the argument in the last term, i.e., $\\xi=x_i + h\\xi_0$.  Now let's use $u$-substitution (actually, $x$-subtitution) to transform the left-hand side with $x = x_i + ht$.  Then $dx = h\\,dt$, or $dt = \\frac{1}{h}\\,dx$.  This gives us\n",
    "\\begin{align*}\n",
    "\\int_{x_i}^{x_{i+1}}\\frac{1}{h}f(x)\\,dx &= \\frac{1}{2}(f(x_i) + f(x_{i+1})) + \\sum_{k=1}^{m-1}A_{2k}h^{2k-1}\\left(f^{(2k-1)}(x_i) - f^{(2k-1)}(x_{i+1})\\right) - A_{2m}h^{2m}f^{(2m)}(\\xi_i) \\\\\n",
    "\\int_{x_i}^{x_{i+1}}f(x)\\,dx &= \\frac{h}{2}(f(x_i) + f(x_{i+1})) + \\sum_{k=1}^{m-1}A_{2k}h^{2k}\\left(f^{(2k-1)}(x_i) - f^{(2k-1)}(x_{i+1})\\right) - A_{2m}h^{2m+1}f^{(2m)}(\\xi_i),\n",
    "\\end{align*}\n",
    "which is Equation (7), as desired."
   ]
  },
  {
   "cell_type": "markdown",
   "id": "96cb5def",
   "metadata": {},
   "source": [
    "### Problem 2\n",
    "Now we sum up Equation (7) over all $i\\in\\{0,\\ldots,2^n-1\\}$, giving us\n",
    "\\begin{equation*}\n",
    "\\sum_{i=0}^{2^n-1}\\int_{x_i}^{x_{i+1}}f(x)\\,dx = \\sum_{i=0}^{2^n-1}\\left[\\frac{h}{2}(f(x_i) + f(x_{i+1})) + \\sum_{k=1}^{m-1}A_{2k}h^{2k}\\left(f^{(2k-1)}(x_i) - f^{(2k-1)}(x_{i+1})\\right) - A_{2m}h^{2m+1}f^{(2m)}(\\xi_i)\\right]\n",
    "\\end{equation*}\n",
    "If we define $a = x_0$ and $b = x_{2^n}$, then we can combine the left-hand side into a single integral, giving us\n",
    "\\begin{equation*}\n",
    "\\int_a^bf(x)\\,dx = \\sum_{i=0}^{2^n-1}\\left[\\frac{h}{2}(f(x_i) + f(x_{i+1})) + \\sum_{k=1}^{m-1}A_{2k}h^{2k}\\left(f^{(2k-1)}(x_i) - f^{(2k-1)}(x_{i+1})\\right) - A_{2m}h^{2m+1}f^{(2m)}(\\xi_i)\\right]\n",
    "\\end{equation*}\n",
    "\n",
    "Let's focus on the middle term on the right-hand side for a moment for a fixed $k$.  We have\n",
    "\\begin{align*}\n",
    "A_{2k}h^{2k}\\sum_{i=0}^{2^n-1}\\left(f^{(2k-1)}(x_i) - f^{(2k-1)}(x_{i+1})\\right) &= A_{2k}h^{2k}\\left(\\sum_{i=0}^{2^n-1}f^{(2k-1)}(x_i) - \\sum_{i=0}^{2^n-1}f^{(2k-1)}(x_{i+1})\\right) \\\\\n",
    "\\end{align*}\n",
    "Shifting the indices on the second sum, this gives us\n",
    "\\begin{equation*}\n",
    "= A_{2k}h^{2k}\\left(\\sum_{i=0}^{2^n-1}f^{(2k-1)}(x_i) - \\sum_{i=1}^{2^n}f^{(2k-1)}(x_i)\\right)\\\\\n",
    "\\end{equation*}\n",
    "Now we can split out the $i=0$ case from the first sum and the $i=2^n$ case from the second sum, but combine all the others, which end up canceling i.e.,\n",
    "\\begin{align*}\n",
    "&= A_{2k}h^{2k}\\left(f^{(2k-1)}(x_0) + \\sum_{i=1}^{2n-1}(f^{(2k-1)}(x_i) - f^{(2k-1)}(x_i)) - f^{(2k-1)}(x_{2^n})\\right) \\\\\n",
    "&= A_{2h}h^{2k}\\left(f^{(2k-1)}(a) - f^{(2k-1)}(b)\\right) \\\\\n",
    "\\end{align*}\n",
    "\n",
    "Putting this back in to the larger equation, we have\n",
    "\\begin{equation*}\n",
    "\\int_a^bf(x)\\,dx = \\frac{h}{2}\\sum_{i=0}^{2^n-1}(f(x_i) + f(x_{i+1})) + \\sum_{k=1}^{m-1}A_{2h}h^{2k}\\left(f^{(2k-1)}(a) - f^{(2k-1)}(b)\\right) - A_{2m}h^{2m+1}\\sum_{i=0}^{2^n-1}f^{(2m)}(\\xi_i)\n",
    "\\end{equation*}\n",
    "\n",
    "It remains to deal with the last term, i.e., to prove the claim (the \"in particular, justify ...\" statement in the problem description) that there exists some $\\xi$ for which\n",
    "\\begin{equation*}\n",
    "h^{2m+1}\\sum_{i=0}^{2^n-1}f^{(2m)}(\\xi_i) = (b - a)h^{2m}f^{(2m)}(\\xi)\n",
    "\\end{equation*}\n",
    "\n",
    "Since we are assuming $f\\in C^{2m}[a,b]$, we know that $f^{(2m)}$ is continuous.  In other words, it obeys the intermediate value theorem.\n",
    "\n",
    "Let $c$ and $d$ be the bounds on $f^{(2m)}$ in the interval $[a,b]$.  In other words, we can say that $c\\leq f^{(2m)}(x)\\leq d$ for all $x\\in[a,b]$.  This implies that\n",
    "\\begin{align*}\n",
    "2^nc &\\leq \\sum_{i=0}^{2^n-1}f^{(2m)}(\\xi_i) \\leq 2^n d \\\\\n",
    "c &\\leq \\frac{1}{2^n}\\sum_{i=0}^{2^n-1}f^{(2m)}(\\xi_i) \\leq d \\\\\n",
    "\\end{align*}\n",
    "And since $h=\\frac{b-a}{2^n}$, or $\\frac{1}{2^n} = \\frac{h}{b-a}$, we may rewrite this as\n",
    "\\begin{equation*}\n",
    "c \\leq\\frac{h}{b-a} \\sum_{i=0}^{2^n-1}f^{(2m)}(\\xi_i) \\leq d\n",
    "\\end{equation*}\n",
    "\n",
    "So by the IVT, it follows that there exists some $\\xi\\in[a,b]$ such that\n",
    "\\begin{align*}\n",
    "\\frac{h}{b-a}\\sum_{i=0}^{2^n-1}f^{(2m)}(\\xi_i) &= f(\\xi) \\\\\n",
    "h\\sum_{i=0}^{2^n-1}f^{(2m)}(\\xi_i) &= (b-a)f(\\xi) \\\\\n",
    "\\end{align*}\n",
    "If we multiply both sides by $h^{2m}$, then we see that this proves our claim."
   ]
  },
  {
   "cell_type": "markdown",
   "id": "1437c21b",
   "metadata": {},
   "source": [
    "### Richardson Extrapolation\n",
    "\n",
    "#### Equation (5)\n",
    "Using $R$ instead of $D$ and $m$ instead of $k$, we get from Equation (19) on p. 474 the following:\n",
    "\\begin{align*}\n",
    "R(n, m) &= \\frac{4^m}{4^m - 1}R(n, m - 1) - \\frac{1}{4^k - 1}R(n - 1, m - 1) \\\\\n",
    "&= \\left(\\frac{4^m - 1}{4^m - 1} + \\frac{1}{4^m - 1}\\right)R(n, m - 1) - \\frac{1}{4^k - 1}R(n - 1, m - 1) \\\\\n",
    "&= R(n, m - 1) + \\frac{1}{4^m - 1}\\left(R(n, m - 1) - R(n - 1, m - 1)\\right),\n",
    "\\end{align*}\n",
    "giving us Equation (5)"
   ]
  },
  {
   "cell_type": "markdown",
   "id": "2050fd6a",
   "metadata": {},
   "source": [
    "#### Section 7.1 Theorem 1\n",
    "\n",
    "Let's rephrase Theorem 1 using our notation for this section.  Again, its $D$ is our $R$ and its $k$ is our $m$.  Note that $L$ is the integral we're estimating, and the previous arguments stemming from the Maclaurin formula have put it in the desired form (see p. 472 Equation (16)).  So letting $h = b - a$, Theorem 1 gives us:\n",
    "\\begin{align*}\n",
    "R(n, m - 1) &= \\int_a^b f(x)\\,dx + \\sum_{j = m}^\\infty A_{jm}\\left(\\frac{b - a}{2^n}\\right)^{2j} \\\\\n",
    "\\int_a^b f(x)\\,dx &= R(n, m - 1) - \\sum_{j = m}^\\infty A_{jm}\\left(\\frac{b - a}{2^n}\\right)^{2j} \\\\\n",
    "\\end{align*}\n",
    "This is true for all $m$, and in particular if we replace $m - 1$ with $m$.  Let's also simplify by letting $h = \\frac{b-a}{2^n}$ (this is the $h$ from p. 505 and not the $h$ from the statement of Theorem 1), giving us\n",
    "\\begin{align*}\n",
    "\\int_a^b f(x)\\,dx &= R(n, m) - \\sum_{j = m + 1}^\\infty A_{j,m + 1}h^{2j} \\\\\n",
    "&= R(n, m) - \\sum_{j = 0}^\\infty A_{j + m + 1,m + 1}h^{2(j + m + 1)} \\\\\n",
    "&= R(n, m) - h^{2m + 2}\\sum_{j = 0}^\\infty A_{j + m + 1,m + 1}h^{2j} \\\\\n",
    "&= R(n, m) + O(h^{2m + 2}),\n",
    "\\end{align*}\n",
    "actually slightly stronger than stated on p. 505."
   ]
  },
  {
   "cell_type": "markdown",
   "id": "56c5e5e0",
   "metadata": {},
   "source": [
    "### Computer Problem 1\n",
    "First, let's load our Romberg integration function from class:\n"
   ]
  },
  {
   "cell_type": "code",
   "execution_count": 14,
   "id": "f093a012",
   "metadata": {},
   "outputs": [
    {
     "name": "stdout",
     "output_type": "stream",
     "text": [
      "\n",
      "o14 = romberg\n",
      "\n",
      "o14 : FunctionClosure\n"
     ]
    }
   ],
   "source": [
    "romberg = (f, a, b, M) -> (\n",
    "    R := new MutableHashTable;\n",
    "    h := b - a;\n",
    "    R#(0, 0) = (b-a)/2*(f a + f b);\n",
    "    for n from 1 to M do (\n",
    "        h /= 2;\n",
    "        R#(n, 0) = 1/2*R#(n - 1, 0) + h * sum(\n",
    "            1..2^(n-1), i -> f(a + (2*i - 1)*h));\n",
    "        for m from 1 to n do (\n",
    "            R#(n, m) = R#(n, m-1) + (\n",
    "                R#(n, m-1) - R#(n-1, m-1))/(4^m - 1)));\n",
    "    matrix table(M, M, (n, m) -> if m <= n then R#(n,m) else 0))"
   ]
  },
  {
   "cell_type": "markdown",
   "id": "ff0e7b21",
   "metadata": {},
   "source": [
    "#### Part (a)"
   ]
  },
  {
   "cell_type": "code",
   "execution_count": 13,
   "id": "670ea831",
   "metadata": {},
   "outputs": [
    {
     "name": "stdout",
     "output_type": "stream",
     "text": [
      "\n",
      "o13 = | .920735 0       0       0       0       0       0       |\n",
      "      | .939793 .946146 0       0       0       0       0       |\n",
      "      | .944514 .946087 .946083 0       0       0       0       |\n",
      "      | .945691 .946083 .946083 .946083 0       0       0       |\n",
      "      | .945985 .946083 .946083 .946083 .946083 0       0       |\n",
      "      | .946059 .946083 .946083 .946083 .946083 .946083 0       |\n",
      "      | .946077 .946083 .946083 .946083 .946083 .946083 .946083 |\n",
      "\n",
      "                 7         7\n",
      "o13 : Matrix RR    <-- RR\n",
      "               53        53\n"
     ]
    }
   ],
   "source": [
    "romberg(x -> if x == 0 then 1 else sin x / x, 0, 1, 7)"
   ]
  },
  {
   "cell_type": "markdown",
   "id": "391a8e32",
   "metadata": {},
   "source": [
    "Let's check our work.  This is the *sine integral* function again, so we can check by computing $\\text{Si}(1)$ using Python as in Homework 8."
   ]
  },
  {
   "cell_type": "code",
   "execution_count": 20,
   "id": "284e9389",
   "metadata": {},
   "outputs": [
    {
     "name": "stdout",
     "output_type": "stream",
     "text": [
      "\n",
      "o20 = (0.9460830703671831, 0.33740392290096816)\n",
      "\n",
      "o20 : PythonObject of class tuple\n"
     ]
    }
   ],
   "source": [
    "needsPackage \"Python\"\n",
    "scipy = import \"scipy\"\n",
    "scipy@@special@@sici 1"
   ]
  },
  {
   "cell_type": "markdown",
   "id": "ca21cfb1",
   "metadata": {},
   "source": [
    "#### Part (b)\n",
    "Note that this function is undefined at 0 again, and we have, using L'Hôpital's rule,\n",
    "\\begin{equation*}\n",
    "\\lim_{x\\to 0}\\frac{\\cos x - e^x}{\\sin x} = \\lim_{x\\to 0}\\frac{-\\sin x - e^x}{\\cos x} = \\frac{0 - 1}{1} = -1\n",
    "\\end{equation*}\n",
    "So we can make this function continuous by using $-1$ at 0."
   ]
  },
  {
   "cell_type": "code",
   "execution_count": 22,
   "id": "198e6b54",
   "metadata": {
    "scrolled": false
   },
   "outputs": [
    {
     "name": "stdout",
     "output_type": "stream",
     "text": [
      "\n",
      "o22 = | -2.79321 0        0        0        0        0        0        |\n",
      "      | -2.3966  -2.2644  0        0        0        0        0        |\n",
      "      | -2.28522 -2.24809 -2.247   0        0        0        0        |\n",
      "      | -2.25633 -2.2467  -2.2466  -2.2466  0        0        0        |\n",
      "      | -2.24903 -2.2466  -2.24659 -2.24659 -2.24659 0        0        |\n",
      "      | -2.2472  -2.24659 -2.24659 -2.24659 -2.24659 -2.24659 0        |\n",
      "      | -2.24674 -2.24659 -2.24659 -2.24659 -2.24659 -2.24659 -2.24659 |\n",
      "\n",
      "                 7         7\n",
      "o22 : Matrix RR    <-- RR\n",
      "               53        53\n"
     ]
    }
   ],
   "source": [
    "romberg(x -> if x == 0 then -1 else (cos x - exp x)/sin x, -1, 1, 7)"
   ]
  },
  {
   "cell_type": "markdown",
   "id": "1d7046f8",
   "metadata": {},
   "source": [
    "### Part (c)\n",
    "\n",
    "As suggested, let's first use the substitution $x = \\frac{1}{t}$, or, equivalently $t = \\frac{1}{x}$.  Then $dx = -\\frac{1}{t^2}\\,dt$, giving us\n",
    "\\begin{align*}\n",
    "\\int_1^\\infty(xe^x)^{-1}\\,dx &= \\lim_{b\\to\\infty}\\int_1^b (xe^x)^{-1}\\,dx \\\\\n",
    "&= -\\lim_{b\\to\\infty}\\int_{1/1}^{1/b}\\left(\\frac{1}{t}e^{1/t}\\right)^{-1}\\cdot\\frac{1}{t^2}\\,dt \\\\\n",
    "&= -\\int_1^0\\frac{1}{te^{1/t}}\\,dt \\\\\n",
    "&= \\int_0^1\\frac{1}{te^{1/t}}\\,dt\n",
    "\\end{align*}\n",
    "\n",
    "By L'Hôpital's rule again, it can be shown that the function approaches 0 from the right."
   ]
  },
  {
   "cell_type": "code",
   "execution_count": 23,
   "id": "2503b405",
   "metadata": {},
   "outputs": [
    {
     "name": "stdout",
     "output_type": "stream",
     "text": [
      "\n",
      "o23 = | .18394  0       0       0       0       0       0       |\n",
      "      | .227305 .24176  0       0       0       0       0       |\n",
      "      | .219834 .217344 .215716 0       0       0       0       |\n",
      "      | .219351 .21919  .219313 .21937  0       0       0       |\n",
      "      | .219384 .219394 .219408 .21941  .21941  0       0       |\n",
      "      | .219384 .219384 .219383 .219383 .219383 .219383 0       |\n",
      "      | .219384 .219384 .219384 .219384 .219384 .219384 .219384 |\n",
      "\n",
      "                 7         7\n",
      "o23 : Matrix RR    <-- RR\n",
      "               53        53\n"
     ]
    }
   ],
   "source": [
    "romberg(t -> if t == 0 then 0 else 1/(t*exp(1/t)), 0, 1, 7)"
   ]
  },
  {
   "cell_type": "markdown",
   "id": "8e536044",
   "metadata": {},
   "source": [
    "This number is actually $-\\text{Ei}(-1)$, where Ei is the [exponential integral function](https://en.wikipedia.org/wiki/Exponential_integral).  We can again check our work in Python:"
   ]
  },
  {
   "cell_type": "code",
   "execution_count": 24,
   "id": "88042e30",
   "metadata": {},
   "outputs": [
    {
     "name": "stdout",
     "output_type": "stream",
     "text": [
      "\n",
      "o24 = 0.21938393439552062\n",
      "\n",
      "o24 : PythonObject of class numpy.float64\n"
     ]
    }
   ],
   "source": [
    "-scipy@@special@@expi(-1)"
   ]
  }
 ],
 "metadata": {
  "kernelspec": {
   "display_name": "M2",
   "language": "Macaulay2",
   "name": "m2"
  },
  "language_info": {
   "codemirror_mode": "macaulay2",
   "file_extension": ".m2",
   "mimetype": "text/x-macaulay2",
   "name": "Macaulay2"
  }
 },
 "nbformat": 4,
 "nbformat_minor": 5
}
