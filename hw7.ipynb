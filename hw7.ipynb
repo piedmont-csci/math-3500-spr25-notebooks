{
 "cells": [
  {
   "cell_type": "markdown",
   "id": "088d55c8",
   "metadata": {},
   "source": [
    "# Homework 7\n",
    "## Kincaid & Cheney Sections 6.12 & 6.13\n",
    "\n",
    "### Problem 1\n",
    "In this case, we have $n = 4$, so we use as our principal 4th root of unity\n",
    "$$\\omega_4 = e^{2\\pi i/4} = e^{\\pi i/2} = \\cos\\frac{\\pi}{2} + i\\sin\\frac{\\pi}{2} = 0 + i\\cdot 1 = i.$$\n",
    "And indeed, this agrees with the $x$-coordinates of the given data set!  Note also that $i^{-1} = -i$, $i^{-2} = -1$, and $i^{-3} = i$.\n",
    "\n",
    "So we have\n",
    "\\begin{align*}\n",
    "c_0 &= \\frac{1}{4}\\left(3\\cdot i^{-0\\cdot 0} + 8 \\cdot i^{-1\\cdot 0} + 5 \\cdot i^{-2\\cdot 0} + 5\\cdot i^{-3\\cdot 0}\\right) \\\\\n",
    "&= \\frac{1}{4}(3 + 8 + 5 + 5) \\\\\n",
    "&= \\frac{21}{4} \\\\\n",
    "c_1 &= \\frac{1}{4}\\left(3\\cdot i^{-0\\cdot 1} + 8 \\cdot i^{-1\\cdot 1} + 5 \\cdot i^{-2\\cdot 1} + 5\\cdot i^{-3\\cdot 1}\\right) \\\\\n",
    "&= \\frac{1}{4}\\left(3 - 8i -5 + 5i\\right) \\\\\n",
    "&= -\\frac{1}{2} - \\frac{3}{4} i\\\\\n",
    "c_2 &= \\frac{1}{4}\\left(3\\cdot i^{-0\\cdot 2} + 8 \\cdot i^{-1\\cdot 2} + 5 \\cdot i^{-2\\cdot 2} + 5\\cdot i^{-3\\cdot 2}\\right) \\\\\n",
    "&= \\frac{1}{4}\\left(3 -8 + 5 - 5\\right) \\\\\n",
    "&= -\\frac{5}{4} \\\\\n",
    "c_3 &= \\frac{1}{4}\\left(3\\cdot i^{-0\\cdot 3} + 8 \\cdot i^{-1\\cdot 3} + 5 \\cdot i^{-2\\cdot 3} + 5\\cdot i^{-3\\cdot 3}\\right) \\\\\n",
    "&= \\frac{1}{4}\\left(3 + 8i - 5 - 5i\\right) \\\\\n",
    "&= -\\frac{1}{2} + \\frac{3}{4}i\n",
    "\\end{align*}\n",
    "\n",
    "So our cubic interpolating polynomial is\n",
    "$$p(x) = \\frac{21}{4} + \\left(-\\frac{1}{2} - \\frac{3}{4} i\\right)x -\\frac{5}{4} x^2 + \\left(-\\frac{1}{2} + \\frac{3}{4}i\\right)x^3$$"
   ]
  },
  {
   "cell_type": "markdown",
   "id": "4511b8ba",
   "metadata": {},
   "source": [
    "### Problem 2\n",
    "\n",
    "Let's compute our interpolating polynomial through $(1, y_0)$ and $(-1, y_1)$ in three different ways.\n",
    "\n",
    "#### Discrete Fourier transform\n",
    "\n",
    "In this case, we're using the square root of unity, $\\omega_2 = -1$.  We have:\n",
    "\\begin{align*}\n",
    "c_0 &= \\frac{1}{2}\\left(y_0\\cdot(-1)^{-0\\cdot 0} + y_1\\cdot(-1)^{-1\\cdot 0}\\right) \\\\\n",
    "&+ \\frac{1}{2}(y_0 + y_1) \\\\\n",
    "c_1 &= \\frac{1}{2}\\left(y_0\\cdot(-1)^{-0\\cdot 1} + y_1\\cdot(-1)^{-1\\cdot 1}\\right) \\\\\n",
    "&= \\frac{1}{2}(y_0 - y_1)\n",
    "\\end{align*}\n",
    "\n",
    "So we have\n",
    "$$p(x) = \\frac{1}{2}(y_0 + y_1) + \\frac{1}{2}(y_0 - y_1)x$$"
   ]
  },
  {
   "cell_type": "markdown",
   "id": "e130fe2a",
   "metadata": {},
   "source": [
    "### Langrage form\n",
    "\n",
    "In this case, we have\n",
    "\\begin{align*}\n",
    "p(x) &= y_0\\cdot\\frac{x - (-1)}{1 - (-1)} + y_1\\cdot\\frac{x - 1}{-1 - 1} \\\\\n",
    "&= y_0\\cdot\\frac{x + 1}{2} - y_1\\cdot\\frac{x - 1}{2} \\\\\n",
    "&= \\frac{1}{2}\\left(y_0x + y_0 - y_1x + y_1\\right) \\\\\n",
    "&= \\frac{1}{2}(y_0 + y_1) + \\frac{1}{2}(y_0 - y_1)x\n",
    "\\end{align*}"
   ]
  },
  {
   "cell_type": "markdown",
   "id": "94ea468f",
   "metadata": {},
   "source": [
    "### Newton form\n",
    "Finally, computing the divided differences, we have\n",
    "\\begin{equation*}\n",
    "\\begin{array}{cc|c}\n",
    "1 & y_0 & \\frac{y_0 - y_1}{-1 - 1} = \\frac{1}{2}(y_0 - y_1)\\\\\n",
    "-1 & y_1\n",
    "\\end{array}\n",
    "\\end{equation*}\n",
    "\n",
    "So we have\n",
    "\\begin{align*}\n",
    "p(x) &= y_0 + \\frac{1}{2}(y_0 - y_1)\\cdot(x - 1) \\\\\n",
    "&= y_0 + \\frac{1}{2}(y_0 - y_1)x - \\frac{1}{2}(y_0 - y_1) \\\\\n",
    "&= \\frac{1}{2}(y_0 - y_1) + \\frac{1}{2}(y_0 - y_1)x\n",
    "\\end{align*}"
   ]
  },
  {
   "cell_type": "markdown",
   "id": "c5a675c1",
   "metadata": {},
   "source": [
    "### Problem 3\n",
    "We have, for any integer $k$,\n",
    "\\begin{align*}\n",
    "\\omega_{dn}^{dk} &= \\left(e^{2\\pi i/(dn)}\\right)^{dk} \\\\\n",
    " &= e^{2\\pi i/(dn)\\cdot dk} \\\\\n",
    " &= e^{2\\pi i k/n} \\\\\n",
    " &= \\left(e^{2\\pi i/n}\\right)^k\\\\\n",
    " &= \\omega_n^k,\n",
    "\\end{align*}\n",
    "proving the cancellation lemma."
   ]
  },
  {
   "cell_type": "markdown",
   "id": "e94874a5",
   "metadata": {},
   "source": [
    "### Problem 4\n",
    "\n",
    "Suppose $n$ is an even integer.  Then\n",
    "\\begin{align*}\n",
    "\\omega_n^{n/2} &= \\left(e^{2\\pi i/n}\\right)^{n/2} \\\\\n",
    "&= e^{2\\pi i/n\\cdot n/2} \\\\\n",
    "&= e^{\\pi i} \\\\\n",
    "&= \\cos \\pi + i\\sin \\pi \\\\\n",
    "&= -1 + i\\cdot 0\\\\\n",
    "&= -1\n",
    "\\end{align*}\n"
   ]
  },
  {
   "cell_type": "markdown",
   "id": "3ae7671c",
   "metadata": {},
   "source": [
    "### Problem 5\n",
    "Since $n$ is even, we have $n=2m$ for some integer $m$.  So on one hand, we have\n",
    "\\begin{align*}\n",
    "(\\omega_n^k)^2 &= \\omega_{2m}^{2k} \\\\\n",
    "&= \\omega_m^{k}\\text{ (by the cancellation lemma above)} \\\\\n",
    "&= \\omega_{n/2}^k\n",
    "\\end{align*}\n",
    "\n",
    "On the other hand, we also have\n",
    "\\begin{align*}\n",
    "(\\omega_n^{n/2+k})^2 &= (\\omega_n^{n/2}\\omega_n^k)^2 \\\\\n",
    "&= (\\omega_n^{n/2})^2(\\omega_n^k)^2 \\\\\n",
    "&= \\omega_n^{n/2\\cdot 2}\\cdot(\\omega_n^k)^2 \\\\\n",
    "&= \\omega_n^n\\cdot(\\omega_n^k)^2 \\\\\n",
    "&= 1\\cdot(\\omega_n^k)^2 \\text{ (since $\\omega_n$ is an $n$th root of unity)} \\\\\n",
    "&= (\\omega_n^k)^2\n",
    "\\end{align*}\n",
    "\n",
    "Finally, we have $(\\omega_n^{n/2+k})^2  = \\omega_{n/2}^k$ by the transitive property of $=$.  This proves the halving lemma."
   ]
  },
  {
   "cell_type": "markdown",
   "id": "05ad6d37",
   "metadata": {},
   "source": [
    "### Problem 6\n",
    "We have\n",
    "\\begin{align*}\n",
    "q(x^2) + xr(x^2) &= c_0 + c_2x^2 + c_4x^4 + \\cdots + c_{n-2}x^{n-2} + x\\left(c_1 + c_3x^2 + c_5x^4 + \\cdots + c_{n-1}x^{n-2}\\right) \\\\\n",
    "&= c_0 + c_2x^2 + c_4x^4 + \\cdots + c_{n-2}x^{n-2} + c_1 x+ c_3x^3 + c_5x^5 + \\cdots + c_{n-1}x^{n-1} \\\\\n",
    "&= c_0 + c_1x + c_2x^2 + \\cdots + x_{n-1}x^{n-1} \\\\\n",
    "&= p(x)\n",
    "\\end{align*}\n"
   ]
  },
  {
   "cell_type": "markdown",
   "id": "52250c12",
   "metadata": {},
   "source": [
    "### Problem 7\n",
    "\n",
    "Let's run the Macaulay2 code:\n"
   ]
  },
  {
   "cell_type": "code",
   "execution_count": 14,
   "id": "7991bebd",
   "metadata": {},
   "outputs": [
    {
     "name": "stdout",
     "output_type": "stream",
     "text": [
      "[magic succeeded] timeout = 30\n",
      " -- 21.874s elapsed\n",
      "\n",
      "          1024\n",
      "o14 : CC\n",
      "        53\n"
     ]
    }
   ],
   "source": [
    "slowFourierTransform = c -> (\n",
    "    n := numrows matrix c;\n",
    "    omega := exp(2*pi*ii/n);\n",
    "    vector apply(n, k -> sum(n, j -> c_j * omega^(k*j))))\n",
    "\n",
    "fastFourierTransform = c -> (\n",
    "    n := numrows matrix c;\n",
    "    if n == 1 then return c;\n",
    "    omega := exp(2*pi*ii/n);\n",
    "    twiddle := 1;\n",
    "    y0 := fastFourierTransform vector((matrix c)^(apply(n//2, k -> 2 * k)));\n",
    "    y1 := fastFourierTransform vector((matrix c)^(apply(n//2, k -> 2 * k + 1)));\n",
    "    vector transpose flatten matrix apply(n//2, k -> first (\n",
    "\t    {y0_k + twiddle * y1_k, y0_k - twiddle * y1_k},\n",
    "\t    twiddle *= omega)))\n",
    "\n",
    "c = random CC^1024;\n",
    "\n",
    "--%timeout=30\n",
    "F1 = elapsedTime slowFourierTransform c;"
   ]
  },
  {
   "cell_type": "markdown",
   "id": "47b8b2b9",
   "metadata": {},
   "source": [
    "That took over twenty seconds!  Now let's try the fast Fourier transform:"
   ]
  },
  {
   "cell_type": "code",
   "execution_count": 15,
   "id": "287e6db9",
   "metadata": {},
   "outputs": [
    {
     "name": "stdout",
     "output_type": "stream",
     "text": [
      " -- .719521s elapsed\n",
      "\n",
      "          1024\n",
      "o15 : CC\n",
      "        53\n"
     ]
    }
   ],
   "source": [
    "F2 = elapsedTime fastFourierTransform c;"
   ]
  },
  {
   "cell_type": "markdown",
   "id": "2ce7c6ec",
   "metadata": {},
   "source": [
    "Now less than one second!\n",
    "\n",
    "Did we get the same thing?"
   ]
  },
  {
   "cell_type": "code",
   "execution_count": 16,
   "id": "288be841",
   "metadata": {},
   "outputs": [
    {
     "name": "stdout",
     "output_type": "stream",
     "text": [
      "\n",
      "o16 = true\n"
     ]
    }
   ],
   "source": [
    "zero clean(1e-10, matrix(F1 - F2))"
   ]
  },
  {
   "cell_type": "markdown",
   "id": "b8ae7069",
   "metadata": {},
   "source": [
    "Indeed, we did!"
   ]
  }
 ],
 "metadata": {
  "kernelspec": {
   "display_name": "M2",
   "language": "Macaulay2",
   "name": "m2"
  },
  "language_info": {
   "codemirror_mode": "macaulay2",
   "file_extension": ".m2",
   "mimetype": "text/x-macaulay2",
   "name": "Macaulay2"
  }
 },
 "nbformat": 4,
 "nbformat_minor": 5
}
