{
 "cells": [
  {
   "cell_type": "markdown",
   "id": "6e9bbb63",
   "metadata": {},
   "source": [
    "# Homework 4 Solutions\n",
    "## Kincaid & Cheney Section 3.3\n",
    "### Problem 1\n",
    "\n",
    "Letting $e_n = x_n - r$ for all $n$, we have\n",
    "\n",
    "\\begin{align*}\n",
    "e_{n+1} &= x_{n + 1} - r \\\\\n",
    "&= x_n - f(x_n)\\cdot\\frac{x_n - x_{n-1}}{f(x_n) - f(x_{n-1})} - r\\\\\n",
    "&= e_n - f(x_n)\\cdot\\frac{x_n - x_{n-1}}{f(x_n) - f(x_{n-1})}\\\\\n",
    "&= e_n\\cdot\\frac{f(x_n) - f(x_{n-1})}{f(x_n) - f(x_{n-1})} - f(x_n)\\cdot\\frac{x_n - r - x_{n-1}+ r}{f(x_n) - f(x_{n-1})}\\\\\n",
    "&= \\frac{f(x_n)e_n - f(x_{n-1})e_n - f(x_n)(e_n - e_{n-1})}{f(x_n) - f(x_{n-1})}\\\\\n",
    "&= \\frac{f(x_{n-1})e_n - f(x_n)e_{n-1}}{f(x_n) - f(x_{n-1})}\\\\\n",
    "&= \\frac{\\frac{f(x_{n-1})e_ne_{n-1}}{e_{n-1}} - \\frac{f(x_n)e_ne_{n-1}}{e_n}}{f(x_n) - f(x_{n-1})}\\cdot\\frac{x_n - x_{n-1}}{x_n - x_{n-1}}\\\\\n",
    "&= \\frac{x_n - x_{n-1}}{f(x_n) - f(x_{n-1})}\\cdot\\frac{\\frac{f(x_{n-1})}{e_{n-1}} - \\frac{f(x_n)}{e_n}}{x_n - x_{n-1}}\\cdot e_n e_{n-1}\n",
    "\\end{align*}\n"
   ]
  },
  {
   "cell_type": "markdown",
   "id": "255584e4",
   "metadata": {},
   "source": [
    "### Problem 2\n",
    "Suppose $\\lim_{n\\to\\infty} x_n = q$, where $x_{n+1} = x_n - f(x_n)\\cdot\\frac{x_n - x_{n-1}}{f(x_n) - f(x_{n-1})}$.\n",
    "\n",
    "For a given $n$, we know by the mean value theorem that there exists some $c_n$ between $x_n$ and $x_{n-1}$ such that\n",
    "\\begin{align*}\n",
    "f'(c_n) &= \\frac{f(x_n) - f(x_{n-1})}{x_n - x_{n-1}} \\\\\n",
    "\\frac{1}{f'(c_n)} &= \\frac{x_n - x_{n-1}}{f(x_n) - f(x_{n-1})} \\\\\n",
    "\\end{align*}\n",
    "\n",
    "Note that $\\frac{1}{f'(c_n)}$ is defined for large $n$.  Indeed, since (without loss of generality) $x_n \\leq c_n \\leq x_{n-1}$ and $\\lim_{n\\to\\infty}x_n=q$ implies that $\\lim_{n\\to\\infty}c_n = q$.  And since $f'(q)\\neq 0$, $f'$ is nonzero near $q$, and in particular, $f'(c_n)\\neq 0$ for large $n$ since $c_n$ is near $q$.\n",
    "\n",
    "Consequently, we have\n",
    "\\begin{align*}\n",
    "x_{n+1} &= x_n - f(x_n)\\cdot f'(c_n) \\\\\n",
    "\\lim_{n\\to\\infty} x_{n+1} &= \\lim_{n\\to\\infty}(x_n - f(x_n)\\cdot f'(c_n)) \\\\\n",
    "q &= q - f(q)\\cdot f'(q) \\\\\n",
    "f(q)\\cdot f'(q) &= 0\n",
    "\\end{align*}\n",
    "And since $f'(q)\\neq 0$, we must have $f(q) = 0$."
   ]
  },
  {
   "cell_type": "markdown",
   "id": "b5620de2",
   "metadata": {},
   "source": [
    "### Problem 4\n",
    "Let $f(x) = x^2 - 2$, $x_0 = 0$ and $x_1 = 1$.  Then\n",
    "\\begin{align*}\n",
    "x_2 &= 1 - (1^2 - 2)\\cdot\\frac{1 - 0}{1^2 - 2 - (0^2 - 2)} \\\\\n",
    "&= 2\n",
    "\\end{align*}"
   ]
  },
  {
   "cell_type": "markdown",
   "id": "aa3000ee",
   "metadata": {},
   "source": [
    "### Problem 5\n",
    "We have\n",
    "\\begin{align*}\n",
    "x_2 &= x_1 - f(x_1)\\cdot\\frac{x_1 - x_0)}{f(x_1) - f(x_0)} \\\\\n",
    "&= 2 - 1.5\\cdot\\frac{2 - 1}{1.5 - 2} \\\\\n",
    "&= 5\n",
    "\\end{align*}"
   ]
  },
  {
   "cell_type": "markdown",
   "id": "014af35c",
   "metadata": {},
   "source": [
    "### Computer Problem 1\n",
    "#### Part (a)\n",
    "\n",
    "Looking at a graph of the curve $y=\\sin\\left(\\frac{x}{2}\\right) - 1$ on Desmos, it looks like we have zero in the interval $[3,4]$.  So let's use $x_0 = 3$ and $x_1 = 4$.\n",
    "\n",
    "Then using our secant method Macaulay2 function from class:"
   ]
  },
  {
   "cell_type": "code",
   "execution_count": 2,
   "id": "f66bcafc",
   "metadata": {},
   "outputs": [
    {
     "name": "stdout",
     "output_type": "stream",
     "text": [
      "\n",
      "o2 = 3.14159258271768\n",
      "\n",
      "o2 : RR (of precision 53)\n",
      "\u001b[?2004h"
     ]
    }
   ],
   "source": [
    "secant = (f, a, b) -> (\n",
    "    M := 100;\n",
    "    delta := 2e-12;\n",
    "    epsilon := 8.881784197001252e-16;\n",
    "    fa := f a;\n",
    "    fb := f b;\n",
    "    for k from 2 to M do (\n",
    "        if abs fa > abs fb then (\n",
    "            (a, b) = (b, a);\n",
    "            (fa, fb) = (fb, fa));\n",
    "        s := (b - a) / (fb - fa);\n",
    "        b = a;\n",
    "        fb = fa;\n",
    "        a -= fa * s;\n",
    "        fa = f a;\n",
    "        if abs fa < epsilon or abs(b - a) < delta\n",
    "        then break);\n",
    "    a)\n",
    "\n",
    "secant(x -> sin(x/2) - 1, 3, 4)"
   ]
  },
  {
   "cell_type": "markdown",
   "id": "10228b2a",
   "metadata": {},
   "source": [
    "That looks like $\\pi$.  And indeed, $\\sin\\left(\\frac{\\pi}{2}\\right) - 1 = 1 - 1 = 0$.\n",
    "\n",
    "Note that *any* odd multiple of $\\pi$ will give us a root.  For example, here's $3\\pi$:"
   ]
  },
  {
   "cell_type": "code",
   "execution_count": 9,
   "id": "e3a421ff",
   "metadata": {},
   "outputs": [
    {
     "name": "stdout",
     "output_type": "stream",
     "text": [
      "\n",
      "o9 = 15.70796332916033\n",
      "\n",
      "o9 : RR (of precision 53)\n",
      "\u001b[?2004h"
     ]
    }
   ],
   "source": [
    "secant(x -> sin(x/2) - 1, 15, 16)"
   ]
  },
  {
   "cell_type": "markdown",
   "id": "4eae7022",
   "metadata": {},
   "source": [
    "### Part (b)\n",
    "On Desmos, the curve $y=e^x - \\tan x$ has a zero between 1 and 2, so let's use them as our $x_0$ and $x_1$, respectively."
   ]
  },
  {
   "cell_type": "code",
   "execution_count": 19,
   "id": "4c68c69e",
   "metadata": {},
   "outputs": [
    {
     "name": "stdout",
     "output_type": "stream",
     "text": [
      "\n",
      "o19 = .9180387007496543\n",
      "\n",
      "o19 : RR (of precision 53)\n",
      "\u001b[?2004h"
     ]
    }
   ],
   "source": [
    "secant(x -> exp x - tan x, 1, 2)"
   ]
  },
  {
   "cell_type": "markdown",
   "id": "83b06cab",
   "metadata": {},
   "source": [
    "That didn't quite work!  Recall that the secant method doesn't necessarily converge.  In this case, the function is undefined at $x=\\frac{\\pi}{2}\\approx 1.570796$.  So we were dealing with a discontinuinity in between our $x_0$ and $x_1$.  Let's try slightly different values of $x_0$ and $x_1$, closer to what the root looks to be in Desmos, hopefully avoiding this discontinuity."
   ]
  },
  {
   "cell_type": "code",
   "execution_count": 24,
   "id": "b630f105",
   "metadata": {
    "scrolled": true
   },
   "outputs": [
    {
     "name": "stdout",
     "output_type": "stream",
     "text": [
      "\n",
      "o24 = 1.306326940423079\n",
      "\n",
      "o24 : RR (of precision 53)\n",
      "\u001b[?2004h"
     ]
    }
   ],
   "source": [
    "secant(x -> exp x - tan x, 1.3, 1.4)"
   ]
  },
  {
   "cell_type": "markdown",
   "id": "5281fb43",
   "metadata": {},
   "source": [
    "There are other roots as well.  For example, here's the next positive one:"
   ]
  },
  {
   "cell_type": "code",
   "execution_count": 25,
   "id": "d89c9b97",
   "metadata": {},
   "outputs": [
    {
     "name": "stdout",
     "output_type": "stream",
     "text": [
      "\n",
      "o25 = 4.703324135318177\n",
      "\n",
      "o25 : RR (of precision 53)\n",
      "\u001b[?2004h"
     ]
    }
   ],
   "source": [
    "secant(x -> exp x - tan x, 4.7, 4.8)"
   ]
  },
  {
   "cell_type": "markdown",
   "id": "54887cd0",
   "metadata": {},
   "source": [
    "### Part (c)\n",
    "On Desmos, the curve $y=x^3 -12x^2 + 3x + 1$ has a zero between 0 and 1, so let's use those as our $x_0$ and $x_1$, respectively."
   ]
  },
  {
   "cell_type": "code",
   "execution_count": 5,
   "id": "93747dbf",
   "metadata": {},
   "outputs": [
    {
     "name": "stdout",
     "output_type": "stream",
     "text": [
      "\n",
      "o5 = -.1886854034465426\n",
      "\n",
      "o5 : RR (of precision 53)\n",
      "\u001b[?2004h"
     ]
    }
   ],
   "source": [
    "secant(x -> x^3 - 12*x^2 + 3*x + 1, 0.0, 1.0)"
   ]
  },
  {
   "cell_type": "markdown",
   "id": "f3b18999",
   "metadata": {},
   "source": [
    "This actually gave us another zero.  Let's try 0.4 and 0.5 instead:"
   ]
  },
  {
   "cell_type": "code",
   "execution_count": 6,
   "id": "ff006e03",
   "metadata": {},
   "outputs": [
    {
     "name": "stdout",
     "output_type": "stream",
     "text": [
      "\n",
      "o6 = .4515432242284874\n",
      "\n",
      "o6 : RR (of precision 53)\n",
      "\u001b[?2004h"
     ]
    }
   ],
   "source": [
    "secant(x -> x^3 - 12*x^2 + 3*x + 1, 0.4, 0.5)"
   ]
  },
  {
   "cell_type": "markdown",
   "id": "9c647d01",
   "metadata": {},
   "source": [
    "There's also a third root between 11 and 12:"
   ]
  },
  {
   "cell_type": "code",
   "execution_count": 7,
   "id": "cbb5f815",
   "metadata": {},
   "outputs": [
    {
     "name": "stdout",
     "output_type": "stream",
     "text": [
      "\n",
      "o7 = 11.73714217921806\n",
      "\n",
      "o7 : RR (of precision 53)\n",
      "\u001b[?2004h"
     ]
    }
   ],
   "source": [
    "secant(x -> x^3 - 12*x^2 + 3*x + 1, 11.0, 12.0)b"
   ]
  }
 ],
 "metadata": {
  "kernelspec": {
   "display_name": "M2",
   "language": "text/x-macaulay2",
   "name": "m2"
  },
  "language_info": {
   "codemirror_mode": "macaulay2",
   "file_extension": ".m2",
   "mimetype": "text/x-macaulay2",
   "name": "Macaulay2"
  }
 },
 "nbformat": 4,
 "nbformat_minor": 5
}
