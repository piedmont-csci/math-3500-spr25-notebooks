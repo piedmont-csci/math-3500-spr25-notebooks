{
 "cells": [
  {
   "cell_type": "markdown",
   "id": "6e9bbb63",
   "metadata": {},
   "source": [
    "# Homework 4 Solutions\n",
    "## Kincaid & Cheney Section 3.3\n",
    "### Problem 1\n",
    "\n",
    "Letting $e_n = x_n - r$ for all $n$, we have\n",
    "\n",
    "\\begin{align*}\n",
    "e_{n+1} &= x_{n + 1} - r \\\\\n",
    "&= x_n - f(x_n)\\cdot\\frac{x_n - x_{n-1}}{f(x_n) - f(x_{n-1})} - r\\\\\n",
    "&= e_n - f(x_n)\\cdot\\frac{x_n - x_{n-1}}{f(x_n) - f(x_{n-1})}\\\\\n",
    "&= e_n\\cdot\\frac{f(x_n) - f(x_{n-1})}{f(x_n) - f(x_{n-1})} - f(x_n)\\cdot\\frac{x_n - r - x_{n-1}+ r}{f(x_n) - f(x_{n-1})}\\\\\n",
    "&= \\frac{f(x_n)e_n - f(x_{n-1})e_n - f(x_n)(e_n - e_{n-1})}{f(x_n) - f(x_{n-1})}\\\\\n",
    "&= \\frac{f(x_{n-1})e_n - f(x_n)e_{n-1}}{f(x_n) - f(x_{n-1})}\\\\\n",
    "&= \\frac{\\frac{f(x_{n-1})e_ne_{n-1}}{e_{n-1}} - \\frac{f(x_n)e_ne_{n-1}}{e_n}}{f(x_n) - f(x_{n-1})}\\cdot\\frac{x_n - x_{n-1}}{x_n - x_{n-1}}\\\\\n",
    "&= \\frac{x_n - x_{n-1}}{f(x_n) - f(x_{n-1})}\\cdot\\frac{\\frac{f(x_{n-1})}{e_{n-1}} - \\frac{f(x_n)}{e_n}}{x_n - x_{n-1}}\\cdot e_n e_{n-1}\n",
    "\\end{align*}\n"
   ]
  },
  {
   "cell_type": "markdown",
   "id": "255584e4",
   "metadata": {},
   "source": [
    "### Problem 2\n",
    "Suppose $\\lim_{n\\to\\infty} x_n = q$, where $x_{n+1} = x_n - f(x_n)\\cdot\\frac{x_n - x_{n-1}}{f(x_n) - f(x_{n-1})}$.\n",
    "\n",
    "For a given $n$, we know by the mean value theorem that there exists some $c_n$ between $x_n$ and $x_{n-1}$ such that\n",
    "\\begin{align*}\n",
    "f'(c_n) &= \\frac{f(x_n) - f(x_{n-1})}{x_n - x_{n-1}} \\\\\n",
    "\\frac{1}{f'(c_n)} &= \\frac{x_n - x_{n-1}}{f(x_n) - f(x_{n-1})} \\\\\n",
    "\\end{align*}\n",
    "\n",
    "Note that $\\frac{1}{f'(c_n)}$ is defined for large $n$.  Indeed, since (without loss of generality) $x_n \\leq c_n \\leq x_{n-1}$ and $\\lim_{n\\to\\infty}x_n=q$ implies that $\\lim_{n\\to\\infty}c_n = q$.  And since $f'(q)\\neq 0$, $f'$ is nonzero near $q$, and in particular, $f'(c_n)\\neq 0$ for large $n$ since $c_n$ is near $q$.\n",
    "\n",
    "Consequently, we have\n",
    "\\begin{align*}\n",
    "x_{n+1} &= x_n - f(x_n)\\cdot f'(c_n) \\\\\n",
    "\\lim_{n\\to\\infty} x_{n+1} &= \\lim_{n\\to\\infty}(x_n - f(x_n)\\cdot f'(c_n)) \\\\\n",
    "q &= q - f(q)\\cdot f'(q) \\\\\n",
    "f(q)\\cdot f'(q) &= 0\n",
    "\\end{align*}\n",
    "And since $f'(q)\\neq 0$, we must have $f(q) = 0$."
   ]
  },
  {
   "cell_type": "markdown",
   "id": "b5620de2",
   "metadata": {},
   "source": [
    "### Problem 4\n",
    "Let $f(x) = x^2 - 2$, $x_0 = 0$ and $x_1 = 1$.  Then\n",
    "\\begin{align*}\n",
    "x_2 &= 1 - (1^2 - 2)\\cdot\\frac{1 - 0}{1^2 - 2 - (0^2 - 2)} \\\\\n",
    "&= 2\n",
    "\\end{align*}"
   ]
  },
  {
   "cell_type": "markdown",
   "id": "aa3000ee",
   "metadata": {},
   "source": [
    "### Problem 5\n",
    "We have\n",
    "\\begin{align*}\n",
    "x_2 &= x_1 - f(x_1)\\cdot\\frac{x_1 - x_0)}{f(x_1) - f(x_0)} \\\\\n",
    "&= 2 - 1.5\\cdot\\frac{2 - 1}{1.5 - 2} \\\\\n",
    "&= 5\n",
    "\\end{align*}"
   ]
  },
  {
   "cell_type": "markdown",
   "id": "014af35c",
   "metadata": {},
   "source": [
    "### Computer Problem 1\n",
    "#### Part (a)\n",
    "\n",
    "Looking at a graph of the curve $y=\\sin\\left(\\frac{x}{2}\\right) - 1$ on Desmos, it looks like we have zero in the interval $[3,4]$.  So let's use $x_0 = 3$ and $x_1 = 4$.\n",
    "\n",
    "Then using our secant method Macaulay2 function from class:"
   ]
  },
  {
   "cell_type": "code",
   "execution_count": 2,
   "id": "f66bcafc",
   "metadata": {},
   "outputs": [
    {
     "name": "stdout",
     "output_type": "stream",
     "text": [
      "\n",
      "o2 = 3.14159258271768\n",
      "\n",
      "o2 : RR (of precision 53)\n",
      "\u001b[?2004h"
     ]
    }
   ],
   "source": [
    "secant = (f, a, b) -> (\n",
    "    M := 100;\n",
    "    delta := 2e-12;\n",
    "    epsilon := 8.881784197001252e-16;\n",
    "    fa := f a;\n",
    "    fb := f b;\n",
    "    for k from 2 to M do (\n",
    "        if abs fa > abs fb then (\n",
    "            (a, b) = (b, a);\n",
    "            (fa, fb) = (fb, fa));\n",
    "        s := (b - a) / (fb - fa);\n",
    "        b = a;\n",
    "        fb = fa;\n",
    "        a -= fa * s;\n",
    "        fa = f a;\n",
    "        if abs fa < epsilon or abs(b - a) < delta\n",
    "        then break);\n",
    "    a)\n",
    "\n",
    "secant(x -> sin(x/2) - 1, 3, 4)"
   ]
  },
  {
   "cell_type": "markdown",
   "id": "10228b2a",
   "metadata": {},
   "source": [
    "That looks like $\\pi$.  And indeed, $\\sin\\left(\\frac{\\pi}{2}\\right) - 1 = 1 - 1 = 0$.\n",
    "\n",
    "Note that *any* odd multiple of $\\pi$ will give us a root.  For example, here's $3\\pi$:"
   ]
  },
  {
   "cell_type": "code",
   "execution_count": 9,
   "id": "e3a421ff",
   "metadata": {},
   "outputs": [
    {
     "name": "stdout",
     "output_type": "stream",
     "text": [
      "\n",
      "o9 = 15.70796332916033\n",
      "\n",
      "o9 : RR (of precision 53)\n",
      "\u001b[?2004h"
     ]
    }
   ],
   "source": [
    "secant(x -> sin(x/2) - 1, 15, 16)"
   ]
  },
  {
   "cell_type": "markdown",
   "id": "4eae7022",
   "metadata": {},
   "source": [
    "### Part (b)\n",
    "On Desmos, the curve $y=e^x - \\tan x$ has a zero between 1 and 2, so let's use them as our $x_0$ and $x_1$, respectively."
   ]
  },
  {
   "cell_type": "code",
   "execution_count": 19,
   "id": "4c68c69e",
   "metadata": {},
   "outputs": [
    {
     "name": "stdout",
     "output_type": "stream",
     "text": [
      "\n",
      "o19 = .9180387007496543\n",
      "\n",
      "o19 : RR (of precision 53)\n",
      "\u001b[?2004h"
     ]
    }
   ],
   "source": [
    "secant(x -> exp x - tan x, 1, 2)"
   ]
  },
  {
   "cell_type": "markdown",
   "id": "83b06cab",
   "metadata": {},
   "source": [
    "That didn't quite work!  Recall that the secant method doesn't necessarily converge.  In this case, the function is undefined at $x=\\frac{\\pi}{2}\\approx 1.570796$.  So we were dealing with a discontinuity in between our $x_0$ and $x_1$.  Let's try slightly different values of $x_0$ and $x_1$, closer to what the root looks to be in Desmos, hopefully avoiding this discontinuity."
   ]
  },
  {
   "cell_type": "code",
   "execution_count": 24,
   "id": "b630f105",
   "metadata": {
    "scrolled": true
   },
   "outputs": [
    {
     "name": "stdout",
     "output_type": "stream",
     "text": [
      "\n",
      "o24 = 1.306326940423079\n",
      "\n",
      "o24 : RR (of precision 53)\n",
      "\u001b[?2004h"
     ]
    }
   ],
   "source": [
    "secant(x -> exp x - tan x, 1.3, 1.4)"
   ]
  },
  {
   "cell_type": "markdown",
   "id": "5281fb43",
   "metadata": {},
   "source": [
    "There are other roots as well.  In fact, infinitely many!  The tangent function achieves all real values in the interval $\\left(\\frac{(2n-1)\\pi}{2},\\frac{(2n+1)\\pi}{2}\\right)$ for all integers $n$, and so in particular it will coincide with the exponential function at some point in this interval by the intermediate value theorem.\n",
    "\n",
    "For example, here's the next positive one:"
   ]
  },
  {
   "cell_type": "code",
   "execution_count": 25,
   "id": "d89c9b97",
   "metadata": {},
   "outputs": [
    {
     "name": "stdout",
     "output_type": "stream",
     "text": [
      "\n",
      "o25 = 4.703324135318177\n",
      "\n",
      "o25 : RR (of precision 53)\n",
      "\u001b[?2004h"
     ]
    }
   ],
   "source": [
    "secant(x -> exp x - tan x, 4.7, 4.8)"
   ]
  },
  {
   "cell_type": "markdown",
   "id": "54887cd0",
   "metadata": {},
   "source": [
    "### Part (c)\n",
    "On Desmos, the curve $y=x^3 -12x^2 + 3x + 1$ has a zero between 0 and 1, so let's use those as our $x_0$ and $x_1$, respectively."
   ]
  },
  {
   "cell_type": "code",
   "execution_count": 5,
   "id": "93747dbf",
   "metadata": {},
   "outputs": [
    {
     "name": "stdout",
     "output_type": "stream",
     "text": [
      "\n",
      "o5 = -.1886854034465426\n",
      "\n",
      "o5 : RR (of precision 53)\n",
      "\u001b[?2004h"
     ]
    }
   ],
   "source": [
    "secant(x -> x^3 - 12*x^2 + 3*x + 1, 0.0, 1.0)"
   ]
  },
  {
   "cell_type": "markdown",
   "id": "f3b18999",
   "metadata": {},
   "source": [
    "This actually gave us another zero.  Let's try 0.4 and 0.5 instead:"
   ]
  },
  {
   "cell_type": "code",
   "execution_count": 6,
   "id": "ff006e03",
   "metadata": {},
   "outputs": [
    {
     "name": "stdout",
     "output_type": "stream",
     "text": [
      "\n",
      "o6 = .4515432242284874\n",
      "\n",
      "o6 : RR (of precision 53)\n",
      "\u001b[?2004h"
     ]
    }
   ],
   "source": [
    "secant(x -> x^3 - 12*x^2 + 3*x + 1, 0.4, 0.5)"
   ]
  },
  {
   "cell_type": "markdown",
   "id": "9c647d01",
   "metadata": {},
   "source": [
    "There's also a third root between 11 and 12:"
   ]
  },
  {
   "cell_type": "code",
   "execution_count": 7,
   "id": "cbb5f815",
   "metadata": {
    "scrolled": true
   },
   "outputs": [
    {
     "name": "stdout",
     "output_type": "stream",
     "text": [
      "\n",
      "o7 = 11.73714217921806\n",
      "\n",
      "o7 : RR (of precision 53)\n",
      "\u001b[?2004h"
     ]
    }
   ],
   "source": [
    "secant(x -> x^3 - 12*x^2 + 3*x + 1, 11.0, 12.0)b"
   ]
  },
  {
   "cell_type": "markdown",
   "id": "2900c38e",
   "metadata": {},
   "source": [
    "## Section 3.4\n",
    "### Problem 2\n",
    "Suppose $F:[a,b]\\to\\mathbb R$, $F'$ is continuous, and $|F'(x)|<1$ for all $x\\in[a,b]$.  In particular, we can find some $\\lambda<1$ such that $|F'(x)|\\leq\\lambda$ on $[a,b]$.\n",
    "\n",
    "Now for any $x,y\\in[a,b]$ there exists by the mean value theorem a $c$ between $x$ and $y$ satisfying\n",
    "\\begin{align*}\n",
    "\\frac{F(x) - F(y)}{x - y} &= F'(c) \\\\\n",
    "F(x) - F(y) &= F'(c)(x - y) \\\\\n",
    "|F(x) - F(y)| &= |F'(c)||x - y| \\\\\n",
    "&\\leq \\lambda|x - y|,\n",
    "\\end{align*}\n",
    "and so $F$ is a contraction.\n",
    "\n",
    "Note that this does not guarantee that $F$ has a fixed point since we did not require that its range lie inside $[a,b]$ as in the hypothesis of the Banach fixed point theorem.\n",
    "\n",
    "Indeed, consider the function $F(x) = \\cos x + 1$, $-1\\leq x \\leq 1$.  In this case, we have $F'(x) = -\\sin x$, and so $|F'(x)|\\leq|-\\sin x|\\leq\\sin 1\\approx 0.8415<1$ for all $x\\in[-1, 1]$.  So by the above result, $F$ is a contraction.  However, it is impossible for $F$ to have a fixed point since its range is $[\\cos 1 + 1, 2]\\approx[1.5403, 2]$, which is disjoint from $[-1, 1]$.  In particular, in order for $F(s) = s$ to have a solution, we would need $s$ to lie in both $[-1,1]$ and $[1.5403, 2]$, a contradiction."
   ]
  },
  {
   "cell_type": "markdown",
   "id": "37b8dc33",
   "metadata": {},
   "source": [
    "### Problem 4\n",
    "### Part (a)\n",
    "Consider the function $F(x) = \\frac{1}{1 + x^2}$, $a\\leq x \\leq b$ for some $a,b\\in\\mathbb R$ with $a<b$.\n",
    "\n",
    "If we can show that $|F'(x)|<1$ on $[a,b]$, then $F$ is a contraction by Problem 2.\n",
    "\n",
    "We have\n",
    "\\begin{align*}\n",
    "F'(x) &= \\frac{(1 + x^2)\\cdot 0 - 1\\cdot 2x}{(1 + x^2)^2} \\\\\n",
    "&= \\frac{-2x}{(1 + x^2)^2}\n",
    "\\end{align*}\n",
    "\n",
    "Looking at the graph of the curve $y = \\frac{-2x}{(1 + x^2)^2}$, it's clear that $|F'(x)|<1$ for all $x$.  Let's go ahead and find the explicit bounds.  From Calc I, we know that the extrema occur when $F''(x)=0$, so we solve:\n",
    "\n",
    "\\begin{align*}\n",
    "F''(x) &= \\frac{(1+x^2)^2\\cdot(-2) - (-2x)\\cdot 2(1 + x^2)\\cdot 2x}{(1 + x^2)^4} \\\\\n",
    "&= \\frac{(1+x^2)(-2(1+x^2) + 8x^2)}{(1 + x^2)^4} \\\\\n",
    "&= \\frac{6x^2 - 2}{(1 + x^2)^3} \\\\\n",
    "\\end{align*}\n",
    "\n",
    "So the extrema occur when $6x^2 - 2 = 0$, or $x = \\pm\\frac{1}{\\sqrt 3}$.  Note that $F'\\left(\\pm\\frac{1}{\\sqrt 3}\\right)\\approx\\pm 0.6495$.  So $|F'(x)|\\leq 0.6495< 1$, and $F$ is a contraction on $[a,b]$ with Lipschitz constant $\\lambda\\approx 0.6495$ by Problem 2."
   ]
  },
  {
   "cell_type": "markdown",
   "id": "33d3094e",
   "metadata": {},
   "source": [
    "#### Part (b)\n",
    "We don't really need to worry about Problem 2 here.  When $F(x)=\\frac{1}{2}x$ on $[1, 5]$, we have, for any $x,y\\in[1,5]$,\n",
    "\\begin{align*}\n",
    "|F(x) - F(y)| &= \\left|\\frac{1}{2}x - \\frac{1}{2}y\\right| \\\\\n",
    "&= \\frac{1}{2}|x - y|,\n",
    "\\end{align*}\n",
    "and so $F$ is a contraction on $[1, 5]$ by definition with Lipschitz constant $\\lambda=\\frac{1}{2}$.  (The interval $[1,5]$ was totally arbitrary -- this works regardless of the choice of interval.)"
   ]
  },
  {
   "cell_type": "markdown",
   "id": "fd8499c5",
   "metadata": {},
   "source": [
    "#### Part (c)\n",
    "Suppose $F(x)=\\arctan x$, $a\\leq x\\leq b$, where either $a>0$ or $b<0$.  Let's use Problem 2 again.\n",
    "\n",
    "We have $F'(x) = \\frac{1}{1 + x^2}$.  Note that this function is increasing to the left of 0 and decreasing to the right of 0.  (Indeed, examine the curve $y=\\frac{1}{1 + x^2}$ on Desmos, or recall from part (a) that $F''(x) = \\frac{-2x}{(1+x^2)^2}$, which is positive when $x$ is negative and vice versa.)\n",
    "\n",
    "So in particular, in the case where $[a,b]$ lies to the left of the $x$-axis, we have $|F'(x)|\\leq\\frac{1}{1 + b^2}<1$, and in the case where $[a,b]$ lies to the right of the $x$-axis, we have $|F'(x)|\\leq\\frac{1}{1 + a^2}<1$.\n",
    "\n",
    "So by Problem 2, $F$ is a contraction with Lipschitz constant $\\lambda = \\max\\left\\{\\frac{1}{1 + a^2}, \\frac{1}{1+b^2}\\right\\}$."
   ]
  },
  {
   "cell_type": "markdown",
   "id": "06f9ea39",
   "metadata": {},
   "source": [
    "#### Part (d)\n",
    "Suppose $F(x) = |x|^{3/2}$, $x\\in\\left[-\\frac{1}{3},\\frac{1}{3}\\right]$, or equivalently,\n",
    "\\begin{equation*}\n",
    "F(x) = \\begin{cases}\n",
    "x^{3/2} &\\text{if }0\\leq x\\leq\\frac{1}{3} \\\\\n",
    "(-x)^{3/2} &\\text{if }-\\frac{1}{3}\\leq x < 0\n",
    "\\end{cases}\n",
    "\\end{equation*}\n",
    "\n",
    "We again use Problem 2.  Note that\n",
    "\\begin{equation*}\n",
    "F'(x) = \\begin{cases}\n",
    "\\frac{3}{2}x^{1/2} &\\text{if }0\\leq x\\leq\\frac{1}{3} \\\\\n",
    "-\\frac{3}{2}(-x)^{1/2} &\\text{if }-\\frac{1}{3}\\leq x < 0\n",
    "\\end{cases}\n",
    "\\end{equation*}\n",
    "\n",
    "Note that $F'$ is always increasing.  (Indeed, look at the graph of the curve $y=F'(x)$ or compute $F''$ and show that it always positive -- except at 0 where it is undefined.)  So in particular, $F'\\left(-\\frac{1}{3}\\right)\\leq F'(x)\\leq F'\\left(\\frac{1}{3}\\right)$.  But since $F'$ is an odd function and $F'(-x)=-F'(x)$ for all $x$, we can rewrite this as\n",
    "\\begin{equation*}\n",
    "|F'(x)|\\leq F'\\left(\\frac{1}{3}\\right)\\approx 0.866< 1\n",
    "\\end{equation*}\n",
    "\n",
    "So by Problem 2, $F$ is a contraction with Lipschitz constant $\\lambda\\approx 0.866$."
   ]
  },
  {
   "cell_type": "markdown",
   "id": "c743bd66",
   "metadata": {},
   "source": [
    "### Problem 12\n",
    "Consider the sequence $x_{n+1}=\\sqrt{p + x_n}$ for some positive $p$, where $x_0 = 0$.  Letting $F(x) = \\sqrt{p + x}$, $x\\geq 0$, we have\n",
    "\\begin{equation*}\n",
    "F'(x) = \\frac{1}{2\\sqrt{p + x}}\n",
    "\\end{equation*}\n",
    "Note that this is a decreasing function for all $x$, and so in particular, $|F'(x)|\\leq F'(0)=\\frac{1}{2\\sqrt p}$.  So provided that $\\frac{1}{2\\sqrt p}<1$, or equivalently, $p> \\frac{1}{4}$, $F$ is a contraction on $[0, \\infty)$ by Problem 2 with Lipschitz constant $\\lambda=\\frac{1}{2\\sqrt p}$.  Note also that $F(x)>0$ for all $x$, so $F$ satisfies the conditions of the Banach fixed point theorem.\n",
    "\n",
    "It follows then that $\\lim_{n\\to\\infty}x_n=s$, the unique fixed point of $F$.  So we have\n",
    "\\begin{align*}\n",
    "\\sqrt{p + s} &= s \\\\\n",
    "p + s &= s^2\\\\\n",
    "0 &= s^2 - s - p \\\\\n",
    "s &= \\frac{1\\pm\\sqrt{(-1)^2-4\\cdot 1\\cdot(-p)}}{2\\cdot 1} \\\\\n",
    "s &= \\frac{1\\pm\\sqrt{4p + 1}}{2}\n",
    "\\end{align*}\n",
    "\n",
    "But since $p>\\frac{1}{4}$, we know that $1-\\sqrt{4p+1}<1-\\sqrt 2\\approx -0.4142$, which is outside of the domain of $F$.  So we must have\n",
    "$$s = \\frac{1 + \\sqrt{4p+ 1}}{2}$$"
   ]
  },
  {
   "cell_type": "markdown",
   "id": "3710205a",
   "metadata": {},
   "source": [
    "### Problem 13\n",
    "As in Problem 12, we would like to find the limit of the sequence $x_{n+1}=\\frac{1}{p + x_n}$ with $x_0 = 0$ using the Banach fixed point theorem.\n",
    "\n",
    "If $F(x) = \\frac{1}{p + x}$, $x\\geq 0$, we have\n",
    "\\begin{align*}\n",
    "F'(x) &= \\frac{-1}{(p + x)^2}\n",
    "\\end{align*}\n",
    "\n",
    "This is an increasing function for all $x\\geq 0$ (and in fact, all $x > -p$, but we don't care about $x\\in (-p, 0)$.)  It's also always negative, so we have $\\frac{-1}{p^2}\\leq F'(x)<0$ for all $x\\geq 0$, or equivalently, $|F'(x)|\\leq\\frac{1}{p^2}$.\n",
    "\n",
    "It follows that $F$ is a contraction by Problem 2 provided that $p>1$.  Furthermore, $F(x)>0$ for all $x$, and so $F$ satisfies the conditions of the Banach fixed point theorem.  So $\\lim_{n\\to\\infty}x_n=s$, where $s$ is the unique fixed point of $F$.  So we have:\n",
    "\\begin{align*}\n",
    "\\frac{1}{p + s} &= s\\\\\n",
    "1 &= s(p + s) \\\\\n",
    "1 &= ps + s^2 \\\\\n",
    "0 &= s^2 + ps - 1\\\\\n",
    "s &= \\frac{-p\\pm{p^2 - 4\\cdot1\\cdot(-1)}}{2\\cdot 1} \\\\\n",
    "&= \\frac{-p\\pm\\sqrt{p^2 + 4}}{2}\n",
    "\\end{align*}\n",
    "\n",
    "Note that $\\frac{-p-\\sqrt{p^2+4}}{2}<0$, which is outside the domain of $F$.  So we have\n",
    "\\begin{equation*}\n",
    "s = \\frac{-p + \\sqrt{p^2 + 4}}{2}\n",
    "\\end{equation*}"
   ]
  },
  {
   "cell_type": "markdown",
   "id": "745517fb",
   "metadata": {},
   "source": [
    "### Problem 16\n",
    "Suppose $F$ has a fixed point $s$ (i.e., $F(s) = s$) and consider the sequence $x_{n+1}=F(x_n)$ for some $x_0$.  Furthermore, suppose $\\lim_{n\\to\\infty}x_n = s$ as in the Banach fixed point theorem.\n",
    "\n",
    "Suppose $q$ is the smallest integer such that $F^{(q)}(s)\\neq 0$.  Then, by Taylor's theorem, for a given $n$, there exists some $\\xi_n$ between $x_n$ and $s$ such that\n",
    "\\begin{align*}\n",
    "F(x_n) &= F(s) + F'(s)(x_n - s) + \\cdots + \\frac{F^{(q-1)}(s)}{(q-1)!}(x_n - s)^{q - 1} + \\frac{F^{(q)}(\\xi_n)}{q!}(x_n - s)^q \\\\\n",
    "x_{n+1} &= s + 0 + \\cdots + 0 + \\frac{F^{(q)}(\\xi_n)}{q!}(x_n - s)^q \\\\\n",
    "x_{n+1} - s &= \\frac{F^{(q)}(\\xi_n)}{q!}(x_n - s)^q \\\\\n",
    "|x_{n+1} - s| &\\leq \\left|\\frac{F^{(q)}(\\xi_n)}{q!}\\right||x_n - s|^q\n",
    "\\end{align*}\n",
    "\n",
    "If $F$ is smooth, then $F^{(q)}$ is bounded near $s$.  So in particular, there exists some positive real number $M$ for which $|F^{(q)}(\\xi_n)|\\leq M$ for all large $n$.  Consequently,\n",
    "\\begin{equation*}\n",
    "|x_{n+1} - s| \\leq \\frac{M}{q!}|x_n - s|^q,\n",
    "\\end{equation*}\n",
    "and $(x_n)$ converges to $s$ with order $q$."
   ]
  },
  {
   "cell_type": "markdown",
   "id": "eda6d28f",
   "metadata": {},
   "source": [
    " ### Computer Problem\n",
    "\n",
    "Let's start with $x_0 = 0.5$ and use 100 iterations in Macaulay2 to estimate the fixed point."
   ]
  },
  {
   "cell_type": "code",
   "execution_count": 29,
   "id": "05ddac24",
   "metadata": {},
   "outputs": [
    {
     "name": "stdout",
     "output_type": "stream",
     "text": [
      "\u001b[?2004l\r",
      "\u001b[?2004h\n",
      "\n",
      "o29 = .6823278038280193\n",
      "\n",
      "o29 : RR (of precision 53)\n",
      "\u001b[?2004h"
     ]
    }
   ],
   "source": [
    "x = 0.5\n",
    "f = x -> 1/(1 + x^2)\n",
    "for i from 1 to 100 do x = f x\n",
    "x"
   ]
  },
  {
   "cell_type": "markdown",
   "id": "7e2b856c",
   "metadata": {},
   "source": [
    "And indeed,\n",
    "\\begin{equation*}\n",
    "\\frac{1}{1 + 0.6823^2}\\approx 0.6823\n",
    "\\end{equation*}"
   ]
  }
 ],
 "metadata": {
  "kernelspec": {
   "display_name": "M2",
   "language": "text/x-macaulay2",
   "name": "m2"
  },
  "language_info": {
   "codemirror_mode": "macaulay2",
   "file_extension": ".m2",
   "mimetype": "text/x-macaulay2",
   "name": "Macaulay2"
  }
 },
 "nbformat": 4,
 "nbformat_minor": 5
}
