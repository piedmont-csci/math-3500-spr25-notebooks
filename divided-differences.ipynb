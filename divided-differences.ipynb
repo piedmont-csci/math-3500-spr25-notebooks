{
 "cells": [
  {
   "cell_type": "markdown",
   "id": "17ec7550",
   "metadata": {},
   "source": [
    "# Divided differences and interpolating polynomials\n",
    "\n",
    "**Theorem.** If $f:\\mathbb R\\to\\mathbb R$ and $X=\\{x_0,\\ldots,x_n\\}\\subset\\mathbb R$, then the interpolating polynomial of $f$ through $X$ is\n",
    "\\begin{align*}\n",
    "p(x) &= \\sum_{i=0}^nf[x_0,\\ldots,x_i]\\prod_{j=0}^{i-1}(x - x_j) \\\\\n",
    "&= f[x_0] + f[x_0,x_1](x - x_0) + \\cdots + f[x_0,\\ldots,x_n](x - x_0)\\cdots(x - x_{n-1}).\n",
    "\\end{align*}\n",
    "\n",
    "*Proof.*  We use induction on $n$.\n",
    "\n",
    "For the base case, if $n = 0$, then we have a single point, and certainly $p(x) = f(x_0)$.  But $f[x_0] = f(x_0)$ by definition, and we are done.\n",
    "\n",
    "For the inductive hypothesis, suppose $k\\in\\{0,\\ldots,n - 1\\}$ and suppose that the result holds for any subset of $X$ containing $k+1$ elements.  So in particular, the following polynomials interpolate $f$ through $\\{x_1,\\ldots,x_{k+1}\\}$ and $\\{x_0,\\ldots,x_k\\}$, respectively:\n",
    "\n",
    "\\begin{align*}\n",
    "q(x) &= f[x_1] + \\cdots + f[x_1,\\ldots,x_k](x - x_1)\\cdots(x - x_{k-1}) + f[x_1,\\ldots,x_{k+1}](x - x_1)\\cdots(x - x_k) \\\\\n",
    "r(x) &= f[x_1] + \\cdots + f[x_1,\\ldots,x_k](x - x_1)\\cdots(x - x_{k-1}) + f[x_1,\\ldots,x_k,x_0](x - x_1)\\cdots(x - x_k) \\\\\n",
    "\\end{align*}\n",
    "\n",
    "Note that all but the last terms of $q$ and $r$ agree, and so\n",
    "\\begin{align*}\n",
    "q(x) - r(x) &= (f[x_1,\\ldots,x_{k+1}] - f[x_1,\\ldots,x_k,x_0])(x - x_1)\\cdots(x - x_k)\n",
    "\\end{align*}\n",
    "\n",
    "In the homework, you will prove that $f[x_1,\\ldots,x_k,x_0] = f[x_0,\\ldots,x_k]$.  So we may rewrite this as\n",
    "\\begin{align*}\n",
    "q(x) - r(x) &= (f[x_1,\\ldots,x_{k+1}] - f[x_0,\\ldots,x_k])(x - x_1)\\cdots(x - x_k) \\\\\n",
    "&=  \\frac{f[x_1,\\ldots,x_{k+1}] - f[x_0,\\ldots,x_k]}{x_{k+1} - x_0}\\cdot(x_{k+1} - x_0)(x - x_1)\\cdots(x - x_k) \\\\\n",
    "&= f[x_0,\\ldots,x_{k+1}](x_{k+1} - x_0)(x - x_1)\\cdots(x - x_k) \\\\\n",
    "f[x_0,\\ldots,x_{k+1}](x - x_1)\\cdots(x - x_k) &= \\frac{q(x) - r(x)}{x_{k+1} - x_0} \\\\\n",
    "f[x_0,\\ldots,x_{k+1}](x - x_0)\\cdots(x - x_k) &= \\frac{q(x) - r(x)}{x_{k+1} - x_0}\\cdot(x - x_0) \\\\\n",
    "\\end{align*}"
   ]
  },
  {
   "cell_type": "code",
   "execution_count": null,
   "id": "5c3baab7",
   "metadata": {},
   "outputs": [],
   "source": [
    "\n",
    "\n"
   ]
  }
 ],
 "metadata": {
  "kernelspec": {
   "display_name": "M2",
   "language": "text/x-macaulay2",
   "name": "m2"
  },
  "language_info": {
   "codemirror_mode": "macaulay2",
   "file_extension": ".m2",
   "mimetype": "text/x-macaulay2",
   "name": "Macaulay2"
  }
 },
 "nbformat": 4,
 "nbformat_minor": 5
}
