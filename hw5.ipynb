{
 "cells": [
  {
   "cell_type": "markdown",
   "id": "8b47ea8a",
   "metadata": {},
   "source": [
    "# Homework 5\n",
    "## Kincaid & Cheney Section 6.1\n",
    "### Problem 1\n",
    "#### Part (a)\n",
    "\n",
    "Using the Lagrange form of the interpolating polynomial, we have\n",
    "\\begin{align*}\n",
    "p(x) &= 5\\cdot\\frac{x - 7}{3 - 7} + (-1)\\cdot\\frac{x-3}{7-3} \\\\\n",
    "&= -\\frac{5}{4}(x - 7) - \\frac{1}{4}(x - 3)\n",
    "\\end{align*}"
   ]
  },
  {
   "cell_type": "markdown",
   "id": "be269ed5",
   "metadata": {},
   "source": [
    "#### Part (b)\n",
    "We have\n",
    "\\begin{align*}\n",
    "p(x) &= 146\\cdot\\frac{(x - 1)(x - 2)}{(7 - 1)(7-2)} + 2\\cdot\\frac{(x -7)(x - 2)}{(1 - 7)(1 - 2)} + 1\\cdot\\frac{(x - 7)(x - 1)}{(2 - 7)(2 - 1)} \\\\\n",
    "&= \\frac{73}{15}(x - 1)(x - 2) + \\frac{1}{3}(x -7)(x - 2) - \\frac{1}{5}(x - 7)(x - 1)\n",
    "\\end{align*}"
   ]
  },
  {
   "cell_type": "markdown",
   "id": "7ee55b0a",
   "metadata": {},
   "source": [
    "#### Part (e)\n",
    "Because of all the zeros in the $y$ row, we only need to worry about one term:\n",
    "\\begin{align*}\n",
    "p(x) &= 1\\cdot\\frac{(x - 1.5)(x - 2.7)(x - 3.1)(x+6.6)(x - 11.0)}{(-2.1 - 1.5)(-2.1 - 2.7)(-2.1 - 3.1)(-2.1+6.6)(-2.1 - 11.0)} \\\\\n",
    "&\\approx 0.0001887857(x - 1.5)(x - 2.7)(x - 3.1)(x+6.6)(x - 11.0)\n",
    "\\end{align*}"
   ]
  },
  {
   "cell_type": "markdown",
   "id": "8f20bdb7",
   "metadata": {},
   "source": [
    "### Problem 2\n",
    "\n",
    "Recall that we can think of the set of all real-valued functions on $\\mathbb R$ as a vector space over $\\mathbb R$ with the following definitions of addition and scalar multiplication:\n",
    "\n",
    "* For all $f,g:\\mathbb R\\to\\mathbb R$, $(f + g)(x) = f(x) + g(x)$ for all $x\\in\\mathbb R$\n",
    "* For all $a\\in\\mathbb R$ and $f:\\mathbb R\\to\\mathbb R$, $(af)(x) = af(x)$ for all $x\\in\\mathbb R$\n",
    "\n",
    "So with this in mind, the result follows from applying these definitions and using the distributive property on this vector space.  In particular, for any $a,b\\in\\mathbb R$ and $f,g:\\mathbb R\\to\\mathbb R$, we have\n",
    "\\begin{align*}\n",
    "L(af + bg) &= \\sum_{i = 0}^n(af + bg)(x_i)\\ell_i \\\\\n",
    "&= \\sum_{i = 0}^n(af(x_i) + bg(x_i))\\ell_i \\\\\n",
    "&= \\sum_{i = 0}^n(af(x_i)\\ell_i + bg(x_i)\\ell_i) \\\\\n",
    "&= a\\sum_{i=0}^nf(x_i)\\ell_i + b\\sum_{i=0}^ng(x_i)\\ell_i \\\\\n",
    "&= aL(f) + bL(g)\n",
    "\\end{align*}"
   ]
  },
  {
   "cell_type": "markdown",
   "id": "2e903d93",
   "metadata": {},
   "source": [
    "### Problem 4\n",
    "\n",
    "Suppose $q$ is a polynomial of degree at most $n$.  By construction, $L(q)$ is also a polynomial of degree at most $n$ with $L(q)(x_i) = q(x_i)$ for all $i=0,\\ldots,n$.  But by Theorem 1, there is only one such polynomial, and so $L(q) = q$."
   ]
  },
  {
   "cell_type": "markdown",
   "id": "38117599",
   "metadata": {},
   "source": [
    "### Problem 5\n",
    "\n",
    "By construction, $\\sum_{i=0}^n\\ell_i = \\sum_{i=0}^n1\\cdot\\ell_i$ is the interpolating polynomial for the constant function $f(x) = 1$ for any given set $\\{x_0,\\ldots,x_n\\}$.  But since $f$ is also a polynomial of degree $0\\leq n$, it is its own interpolating polynomial by Problem 4.  Consequently, $\\sum_{i=0}^n\\ell_i(x) = 1$ for all $x$."
   ]
  },
  {
   "cell_type": "markdown",
   "id": "5c1d5cbf",
   "metadata": {},
   "source": [
    "### Problem 13\n",
    "By Theorem 2, we have\n",
    "\\begin{align*}\n",
    "\\cosh x - p(x) &= \\frac{1}{23!}\\cos^{(23)}(\\xi)\\prod_{i=0}^{22}(x - x_i)\n",
    "\\end{align*}\n",
    "for all $x\\in[-1,1]$, where the $x_i$ are our given nodes and $\\xi\\in(-1, 1)$.\n",
    "\n",
    "Recall that $\\cosh' = \\sinh$ and $\\sinh' = \\cosh$.  Since 23 is odd, it follows that $\\cosh^{(23)}=\\sinh$.  Furthermore, $\\sinh$ is an odd increasing function and so $|\\sinh\\xi|\\leq \\sinh 1$ for all $x\\in[-1,1]$.  And since $x,x_i\\in[-1,1]$ for all $i$, we have $|x - x_i|\\leq 1 - (-1) = 2$.\n",
    "\n",
    "Putting this together, we have\n",
    "\\begin{align*}\n",
    "|\\cosh x - p(x)| &\\leq \\frac{\\sinh 1}{23!}\\cdot 2^{23}\\approx 3.8\\times 10^{-16}\n",
    "\\end{align*}\n",
    "\n",
    "Furthermore, $\\cosh$ has a minimum value of $\\cosh 0 = 1$, and so this also gives us a bound on the relative error, i.e.,\n",
    "\\begin{align*}\n",
    "\\left|\\frac{\\cosh x - p(x)}{\\cosh x}\\right| &\\leq \\left|\\frac{\\cosh x - p(x)}{1}\\right|\\leq 3.8\\times 10^{-16} < 5\\times 10^{-16}\n",
    "\\end{align*}\n"
   ]
  },
  {
   "cell_type": "markdown",
   "id": "ff51c6de",
   "metadata": {},
   "source": [
    "## Section 6.2"
   ]
  },
  {
   "cell_type": "markdown",
   "id": "14248ad0",
   "metadata": {},
   "source": [
    "### Section 6.1 Problem 1\n",
    "#### Part (a)\n",
    "First, let's form our divided difference table:\n",
    "$$\\begin{array}{cc|c}\n",
    "3 & 5 & \\frac{-1 - 5}{7 - 3} = -\\frac{3}{2} \\\\\n",
    "7 & -1\n",
    "\\end{array}$$\n",
    "\n",
    "Reading off the coefficients, we see that\n",
    "$$p(x) = 5 -\\frac{3}{2}(x - 3)$$"
   ]
  },
  {
   "cell_type": "markdown",
   "id": "f70e2584",
   "metadata": {},
   "source": [
    "### Part (b)\n",
    "We form our divided difference table:\n",
    "\n",
    "$$\\begin{array}{cc|cc}\n",
    "7 & 146 & \\frac{2 - 146}{1 - 7} = 24 & \\frac{-1 - 24}{2 - 7} = 5\\\\\n",
    "1 & 2 & \\frac{1 - 2}{2 - 1} = -1 \\\\\n",
    "2 & 1\n",
    "\\end{array}$$\n",
    "So we have\n",
    "$$p(x) = 146 + 24(x - 7) + 5(x - 7)(x - 1)$$"
   ]
  },
  {
   "cell_type": "markdown",
   "id": "845f8660",
   "metadata": {},
   "source": [
    "### Part (c)\n",
    "If we reorder our points, moving $(3,10)$ to the end, then we can re-use much of our work from Part (b).  Let's extend our table:\n",
    "\n",
    "$$\\begin{array}{cc|cc}\n",
    "7 & 146 & 24 & 5 & \\frac{5 - 5}{3 - 7} = 0\\\\\n",
    "1 & 2 & -1 & \\frac{9 - (-1)}{3 - 1} = 5\\\\\n",
    "2 & 1 & \\frac{10 - 1}{3 - 2} = 9\\\\\n",
    "3 & 10\n",
    "\\end{array}$$\n",
    "\n",
    "It turns out that the last term vanishes, and so we still have \n",
    "$$p(x) = 146 + 24(x - 7) + 5(x - 7)(x - 1)$$\n",
    "\n",
    "Alternatively, we could have observed that $p(3) = 10$ using $p$ from Part (b) to begin with and skipped computing any divided differences at all."
   ]
  },
  {
   "cell_type": "markdown",
   "id": "d26daee5",
   "metadata": {},
   "source": [
    "### Proof that divided differences are independent of order\n",
    "\n",
    "As suggested in the hint, we first prove the following identity:\n",
    "\n",
    "$$f[x_0,\\ldots,x_n] = \\sum_{i=0}^n f(x_i)\\prod_{j=0,j\\neq i}^n(x_i - x_j)^{-1}$$\n",
    "\n",
    "We use induction on $n$.\n",
    "\n",
    "*Base case.*  Suppose $n = 0$.  Then $f[x_0] = f(x_0)$ by definition, and the product in the above identity is empty, so we have\n",
    "$$\\sum_{i=0}^0 f(x_i)\\prod_{j=0,j\\neq i}^0(x_i - x_j) = f(x_0) \\cdot 1 = f(x_0)$$\n",
    "\n",
    "*Inductive step.*  Suppose the result holds for divided differences involving any set of $k+1$ $x_i$'s, where $k\\geq 0$.  We  have\n",
    "\\begin{align*}\n",
    "f[x_0,\\ldots,x_{k+1}] &= \\frac{f[x_1,\\ldots,x_{k+1}] - f[x_0,\\ldots,x_k]}{x_{k+1} - x_0} \\\\\n",
    "&= \\frac{1}{x_{k+1} - x_0}\\left(\\sum_{i=1}^{k+1} f(x_i)\\prod_{j=1,j\\neq i}^{k+1}(x_i - x_j)^{-1} - \\sum_{i=0}^k f(x_i)\\prod_{j=0,j\\neq i}^k(x_i - x_j)^{-1}\\right),\n",
    "\\end{align*}\n",
    "where the second equality follows from the inductive hypothesis.  Let's separate the $i = 0$ and $i = k+1$ terms, giving us\n",
    "$$= (x_{k+1}-x_0)^{-1}\\left(-f(x_0)\\prod_{j=1}^k(x_0 - x_j)^{-1} + \\sum_{i=1}^kf(x_i)\\left(\\prod_{j=1,j\\neq i}^{k+1}(x_i - x_j)^{-1} - \\prod_{j=0,j\\neq i}^k(x_i - x_j)^{-1}\\right) + f(x_{k+1})\\prod_{j=1}^k(x_{k+1} - x_j)^{-1}\\right)$$\n",
    "Note that we can factor most of the factors out of the middle term, leaving us with\n",
    "$$= (x_{k+1}-x_0)^{-1}\\left(-f(x_0)\\prod_{j=1}^k(x_0 - x_j)^{-1} + \\sum_{i=1}^kf(x_i)\\prod_{j=1,j\\neq i}^k(x_i - x_j)^{-1}\\left((x_i - x_{k+1})^{-1} - (x_i - x_0)^{-1}\\right) + f(x_{k+1})\\prod_{j=1}^k(x_{k+1} - x_j)^{-1}\\right)$$\n",
    "\n",
    "Let's focus for a moment on the last factor in that middle term.  Let's try and simplify it by getting a common denominator.  For a given $i$, we have\n",
    "\\begin{align*}\n",
    "(x_i - x_{k+1})^{-1} - (x_i - x_0)^{-1} &= \\frac{1}{x_i - x_{k+1}} - \\frac{1}{x_i - x_0} \\\\\\\n",
    "&= \\frac{x_i - x_0 - (x_i - x_{k+1})}{(x_i - x_{k+1})(x_i - x_0)} \\\\\n",
    "&= \\frac{x_{k+1} - x_0}{(x_i - x_{k+1})(x_i - x_0)} \\\\\n",
    "&= (x_{k+1} - x_0)(x_i - x_0)^{-1}(x_i - x_{k+1})^{-1}\n",
    "\\end{align*}\n",
    "\n",
    "Putting that back in, we see that this gives us the missing $j=0$ and $j=k+1$ terms in the middle product, leaving us with\n",
    "$$=(x_{k+1}-x_0)^{-1}\\left(-f(x_0)\\prod_{j=1}^k(x_0 - x_j)^{-1} + \\sum_{i=1}^kf(x_i)(x_{k+1} - x_0)\\prod_{j=0,j\\neq i}^{k+1}(x_i - x_j)^{-1}+ f(x_{k+1})\\prod_{j=1}^k(x_{k+1} - x_j)^{-1}\\right)$$\n",
    "\n",
    "Finally, distributing out the $(x_{k+1} - x_0)^{-1}$ gives us exactly the missing values of $j$ we need for the outer terms (and changes the sign as desired on the first term), and cancels out with the unwanted $x_{k+1} - x_0$ in the middle term, leaving us with the desired result:\n",
    "$$f[x_0,\\ldots,x_n] = \\sum_{i=0}^n f(x_i)\\prod_{j=0,j\\neq i}^n(x_i - x_j)^{-1}$$\n",
    "\n",
    "Finally, we observe that this representation of $f[x_0,\\ldots,x_n]$ is independent of the ordering of the $x_i$'s since addition and multiplication are both commutative."
   ]
  }
 ],
 "metadata": {
  "kernelspec": {
   "display_name": "M2",
   "language": "text/x-macaulay2",
   "name": "m2"
  },
  "language_info": {
   "codemirror_mode": "macaulay2",
   "file_extension": ".m2",
   "mimetype": "text/x-macaulay2",
   "name": "Macaulay2"
  }
 },
 "nbformat": 4,
 "nbformat_minor": 5
}
