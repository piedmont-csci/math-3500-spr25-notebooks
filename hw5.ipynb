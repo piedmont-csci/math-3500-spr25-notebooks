{
 "cells": [
  {
   "cell_type": "markdown",
   "id": "8b47ea8a",
   "metadata": {},
   "source": [
    "# Homework 5\n",
    "## Kincaid & Cheney Section 6.1\n",
    "### Problem 1\n",
    "#### Part (a)\n",
    "\n",
    "Using the Lagrange form of the interpolating polynomial, we have\n",
    "\\begin{align*}\n",
    "p(x) &= 5\\cdot\\frac{x - 7}{3 - 7} + (-1)\\cdot\\frac{x-3}{7-3} \\\\\n",
    "&= -\\frac{5}{4}(x - 7) - \\frac{1}{4}(x - 3)\n",
    "\\end{align*}"
   ]
  },
  {
   "cell_type": "markdown",
   "id": "be269ed5",
   "metadata": {},
   "source": [
    "#### Part (b)\n",
    "We have\n",
    "\\begin{align*}\n",
    "p(x) &= 146\\cdot\\frac{(x - 1)(x - 2)}{(7 - 1)(7-2)} + 2\\cdot\\frac{(x -7)(x - 2)}{(1 - 7)(1 - 2)} + 1\\cdot\\frac{(x - 7)(x - 1)}{(2 - 7)(2 - 1)} \\\\\n",
    "&= \\frac{73}{15}(x - 1)(x - 2) + \\frac{1}{3}(x -7)(x - 2) - \\frac{1}{5}(x - 7)(x - 1)\n",
    "\\end{align*}"
   ]
  },
  {
   "cell_type": "markdown",
   "id": "7ee55b0a",
   "metadata": {},
   "source": [
    "#### Part (e)\n",
    "Because of all the zeros in the $y$ row, we only need to worry about one term:\n",
    "\\begin{align*}\n",
    "p(x) &= 1\\cdot\\frac{(x - 1.5)(x - 2.7)(x - 3.1)(x+6.6)(x - 11.0)}{(-2.1 - 1.5)(-2.1 - 2.7)(-2.1 - 3.1)(-2.1+6.6)(-2.1 - 11.0)} \\\\\n",
    "&\\approx 0.0001887857(x - 1.5)(x - 2.7)(x - 3.1)(x+6.6)(x - 11.0)\n",
    "\\end{align*}"
   ]
  },
  {
   "cell_type": "markdown",
   "id": "8f20bdb7",
   "metadata": {},
   "source": [
    "### Problem 2\n",
    "\n",
    "Recall that we can think of the set of all real-valued functions on $\\mathbb R$ as a vector space over $\\mathbb R$ with the following definitions of addition and scalar multiplication:\n",
    "\n",
    "* For all $f,g:\\mathbb R\\to\\mathbb R$, $(f + g)(x) = f(x) + g(x)$ for all $x\\in\\mathbb R$\n",
    "* For all $a\\in\\mathbb R$ and $f:\\mathbb R\\to\\mathbb R$, $(af)(x) = af(x)$ for all $x\\in\\mathbb R$\n",
    "\n",
    "So with this in mind, the result follows from applying these definitions and using the distributive property on this vector space.  In particular, for any $a,b\\in\\mathbb R$ and $f,g:\\mathbb R\\to\\mathbb R$, we have\n",
    "\\begin{align*}\n",
    "L(af + bg) &= \\sum_{i = 0}^n(af + bg)(x_i)\\ell_i \\\\\n",
    "&= \\sum_{i = 0}^n(af(x_i) + bg(x_i))\\ell_i \\\\\n",
    "&= \\sum_{i = 0}^n(af(x_i)\\ell_i + bg(x_i)\\ell_i) \\\\\n",
    "&= a\\sum_{i=0}^nf(x_i)\\ell_i + b\\sum_{i=0}^ng(x_i)\\ell_i \\\\\n",
    "&= aL(f) + bL(g)\n",
    "\\end{align*}"
   ]
  },
  {
   "cell_type": "markdown",
   "id": "2e903d93",
   "metadata": {},
   "source": [
    "### Problem 4\n",
    "\n",
    "Suppose $q$ is a polynomial of degree at most $n$.  By construction, $L(q)$ is also a polynomial of degree at most $n$ with $L(q)(x_i) = q(x_i)$ for all $i=0,\\ldots,n$.  But by Theorem 1, there is only one such polynomial, and so $L(q) = q$."
   ]
  },
  {
   "cell_type": "markdown",
   "id": "38117599",
   "metadata": {},
   "source": [
    "### Problem 5\n",
    "\n",
    "By construction, $\\sum_{i=0}^n\\ell_i = \\sum_{i=0}^n1\\cdot\\ell_i$ is the interpolating polynomial for the constant function $f(x) = 1$ for any given set $\\{x_0,\\ldots,x_n\\}$.  But since $f$ is also a polynomial of degree $0\\leq n$, it is its own interpolating polynomial by Problem 4.  Consequently, $\\sum_{i=0}^n\\ell_i(x) = 1$ for all $x$."
   ]
  },
  {
   "cell_type": "markdown",
   "id": "5c1d5cbf",
   "metadata": {},
   "source": [
    "### Problem 13\n",
    "By Theorem 2, we have\n",
    "\\begin{align*}\n",
    "\\cosh x - p(x) &= \\frac{1}{23!}\\cos^{(23)}(\\xi)\\prod_{i=0}^{22}(x - x_i)\n",
    "\\end{align*}\n",
    "for all $x\\in[-1,1]$, where the $x_i$ are our given nodes and $\\xi\\in(-1, 1)$.\n",
    "\n",
    "Recall that $\\cosh' = \\sinh$ and $\\sinh' = \\cosh$.  Since 23 is odd, it follows that $\\cosh^{(23)}=\\sinh$.  Furthermore, $\\sinh$ is an odd increasing function and so $|\\sinh\\xi|\\leq \\sinh 1$ for all $x\\in[-1,1]$.  And since $x,x_i\\in[-1,1]$ for all $i$, we have $|x - x_i|\\leq 1 - (-1) = 2$.\n",
    "\n",
    "Putting this together, we have\n",
    "\\begin{align*}\n",
    "|\\cosh x - p(x)| &\\leq \\frac{\\sinh 1}{23!}\\cdot 2^{23}\\approx 3.8\\times 10^{-16}\n",
    "\\end{align*}\n",
    "\n",
    "Furthermore, $\\cosh$ has a minimum value of $\\cosh 0 = 1$, and so this also gives us a bound on the relative error, i.e.,\n",
    "\\begin{align*}\n",
    "\\left|\\frac{\\cosh x - p(x)}{\\cosh x}\\right| &\\leq \\left|\\frac{\\cosh x - p(x)}{1}\\right|\\leq 3.8\\times 10^{-16} < 5\\times 10^{-16}\n",
    "\\end{align*}\n"
   ]
  }
 ],
 "metadata": {
  "kernelspec": {
   "display_name": "M2",
   "language": "text/x-macaulay2",
   "name": "m2"
  },
  "language_info": {
   "codemirror_mode": "macaulay2",
   "file_extension": ".m2",
   "mimetype": "text/x-macaulay2",
   "name": "Macaulay2"
  }
 },
 "nbformat": 4,
 "nbformat_minor": 5
}
