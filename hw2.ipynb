{
 "cells": [
  {
   "cell_type": "markdown",
   "id": "b6cf7c34",
   "metadata": {},
   "source": [
    "# Homework 2\n",
    "## Kincaid & Cheney Section 2.2\n",
    "\n",
    "### Proof of lower bound of Theorem 1\n",
    "Recall from the proof of Theorem 1 in the textbook that the mantissa of $x - y$ is $r - s\\times 2^{m-n}$, where $x = r\\times 2^{n}$ and $y = s\\times 2^m$.  Furthermore, $r - s\\times 2^{m - n} = r\\left(1 - \\frac{y}{x}\\right)$, and we are assuming by the hypothesis of the theorem that $1 - \\frac{y}{x}\\geq 2^{-q}$.  Finally, $r\\geq\\frac{1}{2}$ by construction, and so we have\n",
    "$$r\\left(1 - \\frac{y}{x}\\right)\\geq \\frac{1}{2}\\cdot 2^{-q} = 2^{-q - 1}$$\n",
    "\n",
    "So in the worst case, where $r\\left(1 - \\frac{y}{x}\\right) = 2^{-q - 1}$, we need to shift $q$ bits to the left, to the $2^{-1}$ place.  So we will lose no more than $q$ bits of precision.\n",
    "\n",
    "### Problem 2\n",
    "\n",
    "Note that\n",
    "$$1 - \\frac{\\sin\\left(\\frac{1}{2}\\right)}{\\frac{1}{2}} \\approx 0.04115$$\n",
    "\n",
    "This lies between $2^{-5} = 0.03125$ and $2^{-4} = 0.0625$, and so we lose 4 or 5 bits of precision by Theorem 1."
   ]
  },
  {
   "cell_type": "markdown",
   "id": "8538abef",
   "metadata": {},
   "source": [
    "### Problem 3\n",
    "We have\n",
    "$$1 - \\frac{\\cos\\left(\\frac{1}{4}\\right)}{1} \\approx 0.03109$$\n",
    "\n",
    "This lies between $2^{-6}=0.015625$ and $2^{-5} = 0.03125$, and so we lose 5 or 6 bits of precision by Theorem 1."
   ]
  },
  {
   "cell_type": "markdown",
   "id": "027875d6",
   "metadata": {},
   "source": [
    "### Problem 6\n",
    "\n",
    "To avoid catastrophic cancellation, we may do the following:\n",
    "\\begin{align*}\n",
    "\\sqrt{x^4 + 4} - 2 &= \\left(\\sqrt{x^4 + 4} - 2\\right)\\cdot\\frac{\\sqrt{x^4 + 4} + 2}{\\sqrt{x^4 + 4} + 2}\\\\\n",
    "&= \\frac{x^4 + 4 - 4}{\\sqrt{x^4 + 4} + 2} \\\\\n",
    "&= \\frac{x^4}{\\sqrt{x^4 + 4} + 2}\n",
    "\\end{align*}"
   ]
  },
  {
   "cell_type": "markdown",
   "id": "e5d599a5",
   "metadata": {},
   "source": [
    "### Problem 8\n",
    "Recall that if $x=x_1,x_2$ are solutions of $ax^2 + bx + c = 0$, then we may factor\n",
    "\\begin{align*}\n",
    "ax^2 + bx + c &= a(x - x_1)(x - x_2) \\\\\n",
    "&= ax^2 - a(x_1 + x_2)x + ax_1x_2\n",
    "\\end{align*}\n",
    "\n",
    "So in particular, $c = ax_1x_2$.  If $x_1$ is the solution that we find without catastrophic cancellation, i.e., $x_1 = \\frac{-b-\\sqrt{b^2-4ac}}{2a}$ when $b>0$ or $x_1 = \\frac{-b+\\sqrt{b^2-4ac}}{2a}$ when $b<0$, then we may use\n",
    "$$x_2 = \\frac{c}{ax_1}$$\n",
    "to avoid catastrophic cancellation for the second solution."
   ]
  },
  {
   "cell_type": "markdown",
   "id": "e44376c1",
   "metadata": {},
   "source": [
    "### Problem 12\n",
    "#### Part (a)\n",
    "\n",
    "We find a common denominator\n",
    "\n",
    "\\begin{align*}\n",
    "\\frac{1 - x}{1 + x} - \\frac{1}{3x + 1} &= \\frac{(1-x)(3x + 1) - (1 + x)}{(1 + x)(3x + 1)} \\\\\n",
    "&= \\frac{x - 3x^2}{3x^2 + 4x + 1}\n",
    "\\end{align*}"
   ]
  },
  {
   "cell_type": "markdown",
   "id": "5006e703",
   "metadata": {},
   "source": [
    "### Problem 17\n",
    "By Theorem 1, we want\n",
    "\\begin{align*}\n",
    "1 - \\frac{1}{\\sqrt{x^2 + 1}} &\\geq 2^{-2} \\\\\n",
    "\\frac{3}{4} &\\geq \\frac{1}{\\sqrt{x^2 + 1}} \\\\\n",
    "\\sqrt{x^2 + 1} \\geq \\frac{4}{3} \\\\\n",
    "x^2 + 1\\geq\\frac{16}{9}\\\\\n",
    "x^2 \\geq \\frac{7}{9} \\\\\n",
    "|x| \\geq \\frac{\\sqrt 7}{3}\n",
    "\\end{align*}"
   ]
  },
  {
   "cell_type": "markdown",
   "id": "ac1aba82",
   "metadata": {},
   "source": [
    "### Computer Problem 1\n",
    "Let's use Macaulay2."
   ]
  },
  {
   "cell_type": "code",
   "execution_count": 3,
   "id": "7b678797",
   "metadata": {
    "scrolled": true
   },
   "outputs": [
    {
     "name": "stdout",
     "output_type": "stream",
     "text": [
      "\n",
      "     +-+----------------------+----------------------+\n",
      "o3 = |i|f 8^(-i)              |g 8^(-i)              |\n",
      "     +-+----------------------+----------------------+\n",
      "     |1|.007782218537318641   |.007782218537318706   |\n",
      "     +-+----------------------+----------------------+\n",
      "     |2|.0001220628628286757  |.000122062862828759   |\n",
      "     +-+----------------------+----------------------+\n",
      "     |3|.000001907346813823096|.000001907346813826566|\n",
      "     +-+----------------------+----------------------+\n",
      "     |4|2.98023219436061e-8   |2.980232194360612e-8  |\n",
      "     +-+----------------------+----------------------+\n",
      "     |5|4.656612873077393e-10 |4.65661287199319e-10  |\n",
      "     +-+----------------------+----------------------+\n",
      "\u001b[?2004h"
     ]
    }
   ],
   "source": [
    "f = x -> sqrt(x^2 + 1) - 1\n",
    "g = x -> x^2 / (sqrt(x^2 + 1) + 1)\n",
    "netList prepend({\"i\", \"f 8^(-i)\", \"g 8^(-i)\"},\n",
    "    apply(toList(1..5), i -> {i, format(0, f 8^(-i)), format(0, g 8^(-i))}))"
   ]
  },
  {
   "cell_type": "markdown",
   "id": "a11aa4d3",
   "metadata": {},
   "source": [
    "The values of $g$ are more reliable since they don't risk catastrophic cancellation."
   ]
  },
  {
   "cell_type": "markdown",
   "id": "0286cc01",
   "metadata": {},
   "source": [
    "## Section 1.3\n",
    "\n",
    "### Problem 11\n",
    "#### Part (b)\n",
    "\n",
    "The characteristic polynomial is $\\lambda^2-2\\lambda + 3$, which has roots\n",
    "\\begin{align*}\n",
    "\\lambda &= \\frac{2\\pm\\sqrt{2^2 - 4\\cdot 1 \\cdot 3}}{2\\cdot 1} \\\\\n",
    "&= \\frac{2\\pm \\sqrt{-8}}{2} \\\\\n",
    "&= \\frac{2\\pm 2 i\\sqrt 2}{2} \\\\\n",
    "&= 1\\pm i\\sqrt 2\n",
    "\\end{align*}\n",
    "\n",
    "So we see that a general *complex* solution is\n",
    "$$x_n = c_1(1 + i\\sqrt 2)^n + c_2(1 - i \\sqrt 2)^n$$\n",
    "\n",
    "*I will accept this answer, but the problem does specify a basis of **real** solutions, so let's go a step further using some tricks from complex analysis.*\n",
    "\n",
    "Note that $|1\\pm i\\sqrt 2| = \\sqrt{1^2 + (\\sqrt 2)^2} = \\sqrt 3$.  Also note that $\\cos(\\arctan\\sqrt 2)= \\frac{1}{\\sqrt 3}$ and $\\sin(\\arctan\\sqrt 2) = \\sqrt{\\frac{2}{3}}$.  (Indeed, draw a right triangle with adjacent leg of length 1, opposite leg of length $\\sqrt 2$, and hypothenuse of $\\sqrt 3$ to confirm.)\n",
    "\n",
    "Then\n",
    "\\begin{align*}\n",
    "1 \\pm i\\sqrt 2 &= \\sqrt 3\\left(\\frac{1}{\\sqrt 3} \\pm i\\sqrt{\\frac{2}{3}}\\right) \\\\\n",
    "&= \\sqrt 3(\\cos(\\arctan\\sqrt 2) \\pm i\\sin(\\arctan\\sqrt 2))\n",
    "\\end{align*}\n",
    "We'll use the following fact, known as [De Moivre's theorem](https://en.wikipedia.org/wiki/De_Moivre%27s_formula):\n",
    "$$(\\cos \\theta + i\\sin\\theta)^n = \\cos n\\theta + i\\sin n\\theta$$\n",
    "\n",
    "So in this case:\n",
    "\\begin{align*}\n",
    "\\left(1 \\pm i\\sqrt 2\\right)^n &= \\left(\\sqrt 3\\right)^n\\left(\\cos(n\\arctan\\sqrt 2) \\pm i\\sin(n\\arctan\\sqrt 2)\\right)\n",
    "\\end{align*}\n",
    "\n",
    "Now letting $c_1 = c_2 = \\frac{1}{2}$, we see that one solution is\n",
    "\\begin{align*}\n",
    "\\frac{1}{2}\\left(\\sqrt 3\\right)^n\\left(\\cos(n\\arctan\\sqrt 2) + i\\sin(n\\arctan\\sqrt 2)\\right)+\\frac{1}{2}\\left(\\sqrt 3\\right)^n\\left(\\cos(n\\arctan\\sqrt 2) - i\\sin(n\\arctan\\sqrt 2)\\right) &= \\left(\\sqrt 3\\right)^n\\cos(n\\arctan\\sqrt 2)\n",
    "\\end{align*}\n",
    "And letting $c_1 = -\\frac{i}{2}$ and $c_2 = \\frac{i}{2}$, we see that another solution is\n",
    "\\begin{align*}\n",
    "-\\frac{i}{2}\\left(\\sqrt 3\\right)^n\\left(\\cos(n\\arctan\\sqrt 2) + i\\sin(n\\arctan\\sqrt 2)\\right)+\\frac{i}{2}\\left(\\sqrt 3\\right)^n\\left(\\cos(n\\arctan\\sqrt 2) - i\\sin(n\\arctan\\sqrt 2)\\right) &= -i^2\\left(\\sqrt 3\\right)^n\\sin(n\\arctan\\sqrt 2) \\\\\n",
    "&= \\left(\\sqrt 3\\right)^n\\sin(n\\arctan\\sqrt 2)\n",
    "\\end{align*}\n",
    "\n",
    "It turns out that these two solutions form a basis for all the *real* solutions of this difference equation."
   ]
  },
  {
   "cell_type": "markdown",
   "id": "4c2e1e7a",
   "metadata": {},
   "source": [
    "### Problem 25\n",
    "We can rewrite the difference equation as\n",
    "\\begin{align*}\n",
    "x_n - x_{n-1} - x_{n - 2} &= 0\\\\\n",
    "(E^2 - E - I)x_{n-2} &= 0\\\\\n",
    "\\end{align*}\n",
    "\n",
    "So the characteristic polynomial is $\\lambda^2 - \\lambda - 1$, which has roots\n",
    "\\begin{align*}\n",
    "\\lambda &= \\frac{1\\pm\\sqrt{(-1)^2-4\\cdot 1\\cdot(-1)}}{2\\cdot 1} \\\\\n",
    "&= \\frac{1\\pm\\sqrt 5}{2} \\\\\n",
    "&\\approx 1.61803, -0.61803\n",
    "\\end{align*}\n",
    "\n",
    "Since 1.61803 > 1, this difference equation is *unstable* by Theorem 3.\n",
    "\n"
   ]
  },
  {
   "cell_type": "markdown",
   "id": "4ee42603",
   "metadata": {},
   "source": [
    "### Problem 27\n",
    "We rewrite the difference equation as\n",
    "\\begin{align*}\n",
    "x_n - 2x_{n-1} - 2x_{n-2} &= 0 \\\\\n",
    "(E^2 - 2E - 2I)x_{n - 2} &= 0\n",
    "\\end{align*}\n",
    "\n",
    "So the characteristic polynomial is $\\lambda^2 - 2\\lambda - 2$, which has roots\n",
    "\\begin{align*}\n",
    "\\lambda &= \\frac{2\\pm\\sqrt{(-2)^2 - 4\\cdot 1 \\cdot (-2)}}{2\\cdot 1} \\\\\n",
    "&= \\frac{2\\pm\\sqrt{12}}{2} \\\\\n",
    "&= \\frac{2\\pm 2\\sqrt{3}}{2} \\\\\n",
    "&= 1\\pm\\sqrt 3\n",
    "\\end{align*}\n",
    "\n",
    "So $x_n = \\alpha(1+\\sqrt 3)^n + \\beta(1 + \\sqrt 3)^n$ is a general solution.\n",
    "\n",
    "Letting $\\alpha = 0$ and $\\beta = (1 - \\sqrt 3)^{-1}$, we have\n",
    "\\begin{align*}\n",
    "x_n &= (1 - \\sqrt 3)^{n - 1}\\\\\n",
    "x_1 &= (1 - \\sqrt 3)^0 = 1 \\\\\n",
    "x_2 &= (1 - \\sqrt 3)^1 = 1 - \\sqrt 3 \n",
    "\\end{align*}"
   ]
  },
  {
   "cell_type": "markdown",
   "id": "81b0b3cc",
   "metadata": {},
   "source": [
    "## Section 2.3\n",
    "### Problem 2\n",
    "We rewrite the difference equation as\n",
    "\\begin{align*}\n",
    "x_{n + 1} + 0.2x_n - 0.99x_{n - 1} &= 0 \\\\\n",
    "(E^2 + 0.2E - 0.99I)x_{n - 1} &= 0\n",
    "\\end{align*}\n",
    "\n",
    "So the characteristic polynomial is $\\lambda^2 + 0.2\\lambda - 0.99$, which has roots\n",
    "\\begin{align*}\n",
    "\\lambda &= \\frac{-0.2 \\pm \\sqrt{0.2^2 - 4\\cdot 1\\cdot(-0.99)}}{2\\cdot 1} \\\\\n",
    "&= \\frac{-0.2 \\pm 2}{2} \\\\\n",
    "&= -0.1 \\pm 1 \\\\\n",
    "&= 0.9, -1.1\n",
    "\\end{align*}\n",
    "\n",
    "The general solution is\n",
    "$$x_n = c_1 0.9^n + c_2(-1.1)^n$$\n",
    "\n",
    "Plugging in our initial values, we have\n",
    "\\begin{align*}\n",
    "c_1 + c_2 &= 1 \\\\\n",
    "0.9 c_1 - 1.1 c_2 &= 0.9\n",
    "\\end{align*}\n",
    "This implies that $c_1 = 1$ and $c_2 = 0$, and so $x_n = 0.9^n$ is the solution.\n",
    "\n",
    "However, this computation is *unstable* since $|-1.1| > 1$ by Section 1.3 Theorem 3."
   ]
  },
  {
   "cell_type": "markdown",
   "id": "46713f8c",
   "metadata": {},
   "source": [
    "### Problem 7\n",
    "We rewrite the difference equation as\n",
    "\\begin{align*}\n",
    "x_n - 2x_{n - 1} - x_{n - 2} &= 0\\\\\n",
    "(E^2 - 2E - I)x_{n - 2} &= 0\n",
    "\\end{align*}\n",
    "\n",
    "The characteristic polynomial is $\\lambda^2 - 2\\lambda - 1$, which has roots\n",
    "\\begin{align*}\n",
    "\\lambda &= \\frac{2\\pm \\sqrt{(-2)^2 - 4\\cdot 1\\cdot (-1)}}{2} \\\\\n",
    "&= \\frac{2\\pm\\sqrt{8}}{2} \\\\\n",
    "&= \\frac{2\\pm 2\\sqrt 2}{2} \\\\\n",
    "&= 1 \\pm \\sqrt 2\n",
    "\\end{align*}\n",
    "\n",
    "So the general solution is\n",
    "$$x_n = A(1 + \\sqrt 2)^n + B(1 - \\sqrt 2)^n$$\n",
    "\n",
    "However, since $1 + \\sqrt 2 \\approx 2.4142 > 1$, this difference equation is unstable and *not* a good way to compute $x_n$ from arbitrary initial values."
   ]
  },
  {
   "cell_type": "markdown",
   "id": "70195ce9",
   "metadata": {},
   "source": [
    "### Problem 8\n",
    "Note that this is the same difference equation as in Section 1.3 Problem 25, and so a general solution is\n",
    "$$x_n = c_1\\left(\\frac{1 + \\sqrt 5}{2}\\right)^n + c_2\\left(\\frac{1 - \\sqrt 5}{2}\\right)^n$$\n",
    "\n",
    "Plugging in the initial values, we have\n",
    "\\begin{align*}\n",
    "c_1 + c_2 &= 1 \\\\\n",
    "c_1\\cdot\\frac{1 + \\sqrt 5}{2} + c_2\\cdot\\frac{1 - \\sqrt 5}{2} &= 1\n",
    "\\end{align*}\n",
    "\n",
    "There are any number of ways to solve this linear system.  For example:\n",
    "\\begin{align*}\n",
    "(c_1 + c_2) + (c_1 - c_2)\\sqrt 5 &= 2 \\\\\n",
    "1 + (c_1 - c_2)\\sqrt 5 &= 2 \\\\\n",
    "(c_1 - c_2)\\sqrt 5 &= 1 \\\\\n",
    "\\sqrt 5(c_1 + c_2) + (c_1 - c_2)\\sqrt 5 &= \\sqrt 5\\cdot 1 + 1 \\\\\n",
    "2\\sqrt 5 c_1 &= \\sqrt 5 + 1 \\\\\n",
    "c_1 &= \\frac{\\sqrt 5 + 1}{2\\sqrt 5} \\\\\n",
    "&= \\frac{5 + \\sqrt 5}{10} \\\\\n",
    "c_2 &= 1 - \\frac{5 + \\sqrt 5}{10} \\\\\n",
    "&= \\frac{10 - 5 - \\sqrt 5}{10} \\\\\n",
    "&= \\frac{5 - \\sqrt 5}{10}\n",
    "\\end{align*}\n",
    "\n",
    "So a general formula is \n",
    "$$r_n = \\frac{5 + \\sqrt 5}{10}\\cdot\\left(\\frac{1 + \\sqrt 5}{2}\\right)^n + \\frac{5 - \\sqrt 5}{10}\\cdot\\left(\\frac{1 - \\sqrt 5}{2}\\right)^n$$\n",
    "\n",
    "This is known as *Binet's formula* for the Fibonacci numbers.\n",
    "\n",
    "Now, we compute the limit:\n",
    "\\begin{align*}\n",
    "\\lim_{n\\to\\infty}\\frac{2r_n}{r_{n - 1}} &= \\frac{2\\left(\\frac{5 + \\sqrt 5}{10}\\cdot\\left(\\frac{1 + \\sqrt 5}{2}\\right)^n + \\frac{5 - \\sqrt 5}{10}\\cdot\\left(\\frac{1 - \\sqrt 5}{2}\\right)^n\\right)}{\\frac{5 + \\sqrt 5}{10}\\cdot\\left(\\frac{1 + \\sqrt 5}{2}\\right)^{n-1} + \\frac{5 - \\sqrt 5}{10}\\cdot\\left(\\frac{1 - \\sqrt 5}{2}\\right)^{n-1}} \\\\\n",
    "\\end{align*}\n",
    "Since $\\left|\\frac{1 - \\sqrt 5}{2}\\right| = 0.61803 < 1$, the second terms in both the numerator and denominator vanish as $n\\to\\infty$, and this reduces to\n",
    "\\begin{align*}\n",
    "&= \\frac{2\\left(\\frac{5 + \\sqrt 5}{10}\\cdot\\left(\\frac{1 + \\sqrt 5}{2}\\right)^n\\right)}{\\frac{5 + \\sqrt 5}{10}\\cdot\\left(\\frac{1 + \\sqrt 5}{2}\\right)^{n-1}} \\\\\n",
    "&= 2\\cdot\\frac{1 + \\sqrt 5}{2} \\\\\n",
    "&= 1 + \\sqrt 5\n",
    "\\end{align*}"
   ]
  },
  {
   "cell_type": "markdown",
   "id": "cbaac0ea",
   "metadata": {},
   "source": [
    "### Problem 9\n",
    "Plugging in the initial conditions to the general solution from Problem 8, we have\n",
    "\\begin{align*}\n",
    "c_1 + c_2 &= 1 \\\\\n",
    "c_1\\cdot\\frac{1 + \\sqrt 5}{2} + c_2\\cdot\\frac{1 - \\sqrt 5}{2} &= \\frac{1 - \\sqrt 5}{2}\n",
    "\\end{align*}\n",
    "\n",
    "We see immediately by inspection that $c_1 = 0$, $c_2 = 1$ is the solution of this system, and so in this case,\n",
    "$$x_n = \\left(\\frac{1 - \\sqrt 5}{2}\\right)^n$$\n",
    "\n",
    "However, as shown in Section 1.3 Problem 25 above, this difference equation is *unstable*."
   ]
  }
 ],
 "metadata": {
  "kernelspec": {
   "display_name": "M2",
   "language": "text/x-macaulay2",
   "name": "m2"
  },
  "language_info": {
   "codemirror_mode": "macaulay2",
   "file_extension": ".m2",
   "mimetype": "text/x-macaulay2",
   "name": "Macaulay2"
  }
 },
 "nbformat": 4,
 "nbformat_minor": 5
}
