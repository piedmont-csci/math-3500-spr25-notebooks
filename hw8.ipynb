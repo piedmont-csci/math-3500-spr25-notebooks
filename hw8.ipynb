{
 "cells": [
  {
   "cell_type": "markdown",
   "id": "fa0fe05d",
   "metadata": {},
   "source": [
    "# Homework 8\n",
    "## Kincaid & Cheney Section 7.1\n",
    "### Problem 6\n",
    "\n",
    "Recall that by Taylor's theorem, for a given $a$, there exists some $\\xi_a$ for which\n",
    "\\begin{equation*}\n",
    "f(x + ah) = f(x) + f'(x)ah + \\frac{f''(x)}{2}(ah)^2 + \\frac{f'''(x)}{6}(ah)^3 + \\frac{f^{(4)}(x)}{24}(ah)^4 + \\frac{f^{(5)}(\\xi_a)}{120}(ah)^5\n",
    "\\end{equation*}\n",
    "\n",
    "So in particular,\n",
    "\\begin{align*}\n",
    "f(x + 2h) &= f(x) + 2f'(x)h + 2f''(x)h^2 + \\frac{4f'''(x)}{3}h^3 + \\frac{2f^{(4)}(x)}{3}h^4 + \\frac{4f^{(5)}(\\xi_2)}{15}h^5 \\\\\n",
    "f(x + h) &= f(x) + f'(x)h + \\frac{f''(x)}{2}h^2 + \\frac{f'''(x)}{6}h^3 + \\frac{f^{(4)}(x)}{24}h^4 + \\frac{f^{(5)}(\\xi_1)}{120}h^5 \\\\\n",
    "f(x - h) &= f(x) - f'(x)h + \\frac{f''(x)}{2}h^2 - \\frac{f'''(x)}{6}h^3 + \\frac{f^{(4)}(x)}{24}h^4 - \\frac{f^{(5)}(\\xi_{-1})}{120}h^5 \\\\\n",
    "f(x - 2h) &= f(x) - 2f'(x)h + 2f''(x)h^2 - \\frac{4f'''(x)}{3}h^3 + \\frac{2f^{(4)}(x)}{3}h^4 - \\frac{4f^{(5)}(\\xi_{-2})}{15}h^5 \\\\\n",
    "\\end{align*}\n",
    "\n",
    "Combining these using the coefficients from our target formula, we see that lots of terms cancel:\n",
    "\\begin{align*}\n",
    "12f'(x)h + O(h^5) &= -f(x + 2h) + 8f(x + h) - 8f(x-h) + f(x - 2h) \\\\\n",
    "12f'(x)h &= -f(x + 2h) + 8f(x + h) - 8f(x-h) + f(x - 2h) + O(h^5) \\\\\n",
    "f'(x) &= \\frac{1}{12h}\\left(-f(x + 2h) + 8f(x + h) - 8f(x-h) + f(x - 2h)\\right) + O(h^5) \\\\\n",
    "\\end{align*}"
   ]
  },
  {
   "cell_type": "markdown",
   "id": "6d78d73a",
   "metadata": {},
   "source": [
    "### Problem 14\n",
    "Again by Taylor's theorem, there exist $\\xi_1,\\xi_2$ for which\n",
    "\\begin{align*}\n",
    "f(x + 2h) &= f(x) + f'(x)(2h) + \\frac{f''(x)}{2}(2h)^2 + \\frac{f'''(\\xi_2)}{6}(2h)^3 \\\\\n",
    "&= f(x) + 2f'(x)h + 2f''(x)h^2 + \\frac{4}{3}f'''(\\xi_2)h^3 \\\\\n",
    "f(x + h) &= f(x) + f'(x)h + \\frac{f''(x)}{2}h^2 + \\frac{f'''(\\xi_1)}{6}h^3 \\\\\n",
    "\\end{align*}\n",
    "\n",
    "Combining these, we have:\n",
    "\\begin{align*}\n",
    "4f(x + h) - f(x + 2h) &= 3f(x) + 2f'(x)h + \\frac{2f'''(\\xi_1)-4f'''(\\xi_2)}{3}h^3 \\\\\n",
    "2f'(x)h &= -3f(x) + 4f(x + h) - f(x + 2h) + \\frac{4f'''(\\xi_2) - 2f'''(\\xi_1)}{3}h^3 \\\\\n",
    "f'(x) &= \\frac{1}{2h}\\left(-3f(x) + 4f(x + h) - f(x + 2h)\\right) + \\frac{2f'''(\\xi_2) - f'''(\\xi_1)}{3}h^2\n",
    "\\end{align*}"
   ]
  },
  {
   "cell_type": "markdown",
   "id": "e18963ef",
   "metadata": {},
   "source": [
    "### 3-point methods\n",
    "\n",
    "Recall that quadratic Lagrange interpolating polynomial for $f$ with nodes $x_0$, $x_1$, and $x_2$ is\n",
    "\\begin{equation*}\n",
    "p(x) = f(x_0)\\cdot\\frac{(x - x_1)(x - x_2)}{(x_0 - x_1)(x_0 - x_2)} +  f(x_1)\\cdot\\frac{(x - x_0)(x - x_2)}{(x_1 - x_0)(x_1 - x_2)} +  f(x_2)\\cdot\\frac{(x - x_0)(x - x_1)}{(x_2 - x_0)(x_2 - x_1)}\n",
    "\\end{equation*}\n",
    "\n",
    "Now let's differentiate using the product rule in the numerators:\n",
    "\n",
    "\\begin{align*}\n",
    "p'(x) &= f(x_0)\\cdot\\frac{x - x_1 + x - x_2}{(x_0 - x_1)(x_0 - x_2)} +  f(x_1)\\cdot\\frac{x - x_0 + x - x_2}{(x_1 - x_0)(x_1 - x_2)} +  f(x_2)\\cdot\\frac{x - x_0 + x - x_1}{(x_2 - x_0)(x_2 - x_1)} \\\\\n",
    "&= f(x_0)\\cdot\\frac{2x - x_1 - x_2}{(x_0 - x_1)(x_0 - x_2)} +  f(x_1)\\cdot\\frac{2x - x_0 - x_2}{(x_1 - x_0)(x_1 - x_2)} +  f(x_2)\\cdot\\frac{2x - x_0 - x_1}{(x_2 - x_0)(x_2 - x_1)}\n",
    "\\end{align*}\n",
    "\n",
    "#### Forward difference\n",
    "\n",
    "Let's plug in $x_0 = x$, $x_1 = x + h$, and $x_2 = x + 2h$:\n",
    "\n",
    "\\begin{align*}\n",
    "p'(x) &= f(x)\\cdot\\frac{2x - (x + h) - (x + 2h)}{-h\\cdot(-2h)} +  f(x+h)\\cdot\\frac{2x - x - (x + 2h)}{h\\cdot(-h)} +  f(x+2h)\\cdot\\frac{2x - x - (x + h)}{2h\\cdot h} \\\\\n",
    "&= f(x)\\cdot\\frac{-3h}{2h^2} +  f(x+h)\\cdot\\frac{-2h}{-h^2} +  f(x+2h)\\cdot\\frac{-h}{2h^2} \\\\\n",
    "&= \\frac{1}{2h}\\left(-f(x + 2h)+ 4f(x + h) - 3f(x)\\right)\n",
    "\\end{align*}\n",
    "\n",
    "#### Backward difference\n",
    "\n",
    "Now let's plug in $x_0 = x - 2h$, $x_1 = x - h$, and $x_2 = x$:\n",
    "\n",
    "\\begin{align*}\n",
    "p'(x) &= f(x-2h)\\cdot\\frac{2x - (x-h) - x}{-h\\cdot(-2h)} +  f(x-h)\\cdot\\frac{2x - (x-2h) - x}{h\\cdot(-h)} +  f(x)\\cdot\\frac{2x - (x-2h) - (x-h)}{2h\\cdot h} \\\\\n",
    "& = f(x-2h)\\cdot\\frac{h}{2h^2} +  f(x-h)\\cdot\\frac{2h}{-h^2} +  f(x)\\cdot\\frac{3h}{2h^2} \\\\\n",
    "&= \\frac{1}{2h}\\left(3f(x) - 4f(x-h) + f(x - 2h)\\right)\n",
    "\\end{align*}"
   ]
  },
  {
   "cell_type": "markdown",
   "id": "dafff703",
   "metadata": {},
   "source": [
    "### Computer Problem 1\n",
    "\n",
    "First, let's write some Macaulay2 functions that evaluate these formulas"
   ]
  },
  {
   "cell_type": "code",
   "execution_count": 22,
   "id": "f277f1aa",
   "metadata": {},
   "outputs": [
    {
     "name": "stdout",
     "output_type": "stream",
     "text": [
      "\n",
      "o22 = numericalDiffTable\n",
      "\n",
      "o22 : FunctionClosure\n"
     ]
    }
   ],
   "source": [
    "-- from class\n",
    "forward2pt = (f, x, h) -> (f(x + h) - f(x))/h\n",
    "backward2pt = (f, x, h) -> (f(x) - f(x - h))/h\n",
    "central2pt = (f, x, h) -> (f(x + h) - f(x - h))/(2 * h)\n",
    "\n",
    "-- from above\n",
    "forward3pt = (f, x, h) -> (-f(x + 2*h) + 4*f(x + h) - 3*f(x)) / (2*h)\n",
    "backward3pt = (f, x, h) -> (3*f(x) - 4*f(x - h) + f(x - 2*h)) / (2*h)\n",
    "\n",
    "-- here's a function that computes all five and makes a nice table with several values of h\n",
    "needsPackage \"Text\"\n",
    "numericalDiffTable = (f, x) -> prepend(\n",
    "    TR apply({\"h\", \"forward 2-pt\", \"backward 2-pt\", \"central 2-pt\",\n",
    "            \"forward 3-pt\", \"backward 3-pt\"}, y -> TH y),\n",
    "    TABLE apply({0.1, 0.01, 0.001}, h ->\n",
    "        TR apply(\n",
    "            {h, forward2pt(f, x, h), backward2pt(f, x, h),\n",
    "                central2pt(f, x, h), forward3pt(f, x, h),\n",
    "                backward3pt(f, x, h)}, y -> TD y)))"
   ]
  },
  {
   "cell_type": "markdown",
   "id": "b7206bcd",
   "metadata": {},
   "source": [
    "#### Part (a)\n",
    "We know that if $f(x) = \\ln x$, then $f'(x) = \\frac{1}{x}$ and thus we should expect to get estimates near $f'(3) = \\frac{1}{3}$:"
   ]
  },
  {
   "cell_type": "code",
   "execution_count": 23,
   "id": "50314eef",
   "metadata": {},
   "outputs": [
    {
     "name": "stdout",
     "output_type": "stream",
     "text": [
      "\n",
      "o23 = h     forward 2-pt  backward 2-pt  central 2-pt  forward 3-pt  backward 3-pt\n",
      "      --    ------------  -------------  ------------  ------------  -------------\n",
      "      .1    .327898       .339016        .333457       .333104       .333067\n",
      "      .01   .332779       .33389         .333335       .333331       .333331\n",
      "      .001  .333278       .333389        .333333       .333333       .333333\n"
     ]
    }
   ],
   "source": [
    "numericalDiffTable(log, 3)"
   ]
  },
  {
   "cell_type": "markdown",
   "id": "804415fc",
   "metadata": {},
   "source": [
    "#### Part (b)\n",
    "We know that if $f(x) = \\tan x$, then $f'(x) = \\sec^2 x$, so we should expect to get estimates near $f'(\\sin^{-1}(0.8)) = \\sec^2(\\sin^{-1}(0.8))$.\n",
    "\n",
    "Note that if $\\theta=\\sin^{-1}(0.8)$, then $\\sin\\theta = 0.8=\\frac{4}{5}$.  This corresponds to a right triangle with opposite leg of length 4 and hypotenuse of length 5.  Since $3^2 + 4^2 = 5^2$ (Pythagorean triple!), we know that $\\cos\\theta = \\frac{3}{5}$, and thus $\\sec^2\\theta = \\frac{25}{9}=2.\\overline{7}$.  Let's check:"
   ]
  },
  {
   "cell_type": "code",
   "execution_count": 25,
   "id": "fda9307b",
   "metadata": {},
   "outputs": [
    {
     "name": "stdout",
     "output_type": "stream",
     "text": [
      "\n",
      "o25 = h     forward 2-pt  backward 2-pt  central 2-pt  forward 3-pt  backward 3-pt\n",
      "      --    ------------  -------------  ------------  ------------  -------------\n",
      "      .1    3.21751       2.45822        2.83786       2.57681       2.70006\n",
      "      .01   2.81541       2.74132        2.77836       2.77655       2.77666\n",
      "      .001  2.78149       2.77408        2.77778       2.77777       2.77777\n"
     ]
    }
   ],
   "source": [
    "numericalDiffTable(tan, asin 0.8)"
   ]
  },
  {
   "cell_type": "markdown",
   "id": "9f7606f3",
   "metadata": {},
   "source": [
    "#### Part (c)\n",
    "We know that if $f(x) = \\sin\\left(x^2 + \\frac{1}{3}x\\right)$, then $f'(x) = \\left(2x + \\frac{1}{3}\\right)\\cos\\left(x^2 + \\frac{1}{3}x\\right)$.  So we should expect estimates near $f'(0) = \\frac{1}{3}$, just like part (a)."
   ]
  },
  {
   "cell_type": "code",
   "execution_count": 26,
   "id": "8aa0310d",
   "metadata": {},
   "outputs": [
    {
     "name": "stdout",
     "output_type": "stream",
     "text": [
      "\n",
      "o26 = h     forward 2-pt  backward 2-pt  central 2-pt  forward 3-pt  backward 3-pt\n",
      "      --    ------------  -------------  ------------  ------------  -------------\n",
      "      .1    .433198       .233312        .333255       .334073       .333307\n",
      "      .01   .343333       .323333        .333333       .333335       .333334\n",
      "      .001  .334333       .332333        .333333       .333333       .333333\n"
     ]
    }
   ],
   "source": [
    "numericalDiffTable(x -> sin(x^2 + 1/3*x), 0)"
   ]
  },
  {
   "cell_type": "markdown",
   "id": "924c1d7d",
   "metadata": {},
   "source": [
    "## Kincaid & Cheney Section 7.2\n",
    "### Problem 2\n",
    "Since the integral is a linear operator, it's sufficient to prove this result for elements of a basis of the vector space of all cubic polynomials.  Let's choose the standard basis $\\{1,x,x^2,x^3\\}$.  We have:\n",
    "\n",
    "\\begin{align*}\n",
    "\\int_a^b\\,dx &= b - a \\\\\n",
    "\\int_a^bx\\,dx &= \\frac{1}{2}(b^2 - a^2) \\\\\n",
    "\\int_a^bx^2\\,dx &= \\frac{1}{3}(b^3 - a^3) \\\\\n",
    "\\int_a^bx^3\\,dx &= \\frac{1}{4}(b^4 - a^4)\n",
    "\\end{align*}\n",
    "\n",
    "Now let's confirm that we get the same thing with Simpson's rule:\n",
    "\n",
    "With $f(x) = 1$, we have\n",
    "\\begin{equation*}\n",
    "\\frac{b-a}{6}\\left(1 + 4\\cdot 1 + 1\\right) = b - a\n",
    "\\end{equation*}\n",
    "\n",
    "With $f(x) = x$,\n",
    "\\begin{align*}\n",
    "\\frac{b-a}{6}\\left(a + 4\\cdot\\frac{a+b}{2} + b\\right) &= \\frac{b-a}{6}(3a + 3b)\\\\\n",
    "&= \\frac{1}{2}(b^2 - a^2)\n",
    "\\end{align*}\n",
    "\n",
    "With $f(x) = x^2$,\n",
    "\\begin{align*}\n",
    "\\frac{b-a}{6}\\left(a^2 + 4\\left(\\frac{a+b}{2}\\right)^2 + b^2\\right) &= \\frac{b-a}{6}\\left(a^2 + a^2 + 2ab + b^2 + b^2\\right) \\\\\n",
    "&=frac{b-a}{3}\\left(a^2 + ab + b^2\\right) \\\\\n",
    "&= \\frac{1}{3}\\left(b^3 -a ^3\\right)\n",
    "\\end{align*}\n",
    "\n",
    "And $f(x) = x^3$,\n",
    "\\begin{align*}\n",
    "\\frac{b-a}{6}\\left(a^3 + 4\\left(\\frac{a+b}{2}\\right)^3 + b^3\\right) &= \\frac{b-a}{6}\\left(a^3 + \\frac{1}{2}(a^3 + 3a^2b + 3ab^2 +b^3) + b^3\\right) \\\\\n",
    "&= \\frac{b-a}{4}\\left(a^3 + a^2b + ab^2 + b^3\\right) \\\\\n",
    "&= \\frac{1}{4}(b^4 - a^4)\n",
    "\\end{align*}\n",
    "\n",
    "This proves that Simpson's rule is exact for *all* cubic polynomials.\n",
    "\n",
    "### Problem 4\n",
    "One (ugly!) option to do this problem would be to find the quartic interpolating polynomial through $f$ at the nodes $0$, $\\frac{1}{4}$, $\\frac{1}{2}$, $\\frac{3}{4}$, and $1$, and integrate it from 0 to 1.  That would certainly work, but let's use the method of undetermined coefficients from pp. 482-483.  We're looking for coefficients $A,\\ldots,E$ such that\n",
    "\\begin{equation*}\n",
    "\\int_0^1f(x)\\,dx = Af(0) + Bf\\left(\\frac{1}{4}\\right) + Cf\\left(\\frac{1}{2}\\right) + Df\\left(\\frac{3}{4}\\right) + Ef(1)\n",
    "\\end{equation*}\n",
    "\n",
    "So let's pick 5 nice polynomials (say, the standard basis for polynomials of degree at most 4, $\\{1,x,x^2,x^3,x^4\\}$), integrate them, and figure out the system of equations we need to solve to find these coefficients.  Note that for all nonnegative integers $n$\n",
    "\\begin{equation*}\n",
    "\\int_0^1x^n\\,dx = \\left.\\frac{1}{n+1}x^{n+1}\\right|_0^1 = \\frac{1}{n+1},\n",
    "\\end{equation*}\n",
    "and so we have the system\n",
    "\\begin{align*}\n",
    "1 &= A + B + C + D + E \\\\\n",
    "\\frac{1}{2} &= 0 + \\frac{B}{4} + \\frac{C}{2} + \\frac{3D}{4} + E \\\\\n",
    "\\frac{1}{3} &= 0 + \\frac{B}{16} + \\frac{C}{4} + \\frac{9D}{16} + E \\\\\n",
    "\\frac{1}{4} &= 0 + \\frac{B}{64} + \\frac{C}{8} + \\frac{27D}{64} + E \\\\\n",
    "\\frac{1}{5} &= 0 + \\frac{B}{256} + \\frac{C}{16} + \\frac{81D}{256} + E\n",
    "\\end{align*}\n",
    "\n",
    "Let's solve this in Macaulay2:"
   ]
  },
  {
   "cell_type": "code",
   "execution_count": 32,
   "id": "101e076b",
   "metadata": {},
   "outputs": [
    {
     "name": "stdout",
     "output_type": "stream",
     "text": [
      "\n",
      "o32 = |  7/90 |\n",
      "      | 16/45 |\n",
      "      |  2/15 |\n",
      "      | 16/45 |\n",
      "      |  7/90 |\n",
      "\n",
      "        5\n",
      "o32 : QQ\n"
     ]
    }
   ],
   "source": [
    "A = matrix {\n",
    "    {1, 1, 1, 1, 1},\n",
    "    {0, 1/4, 2/4, 3/4, 1},\n",
    "    {0, 1/16, 1/4, 9/16, 1},\n",
    "    {0, 1/64, 1/8, 27/64, 1},\n",
    "    {0, 1/256, 1/16, 81/256, 1}}\n",
    "b = vector {1, 1/2, 1/3, 1/4, 1/5}\n",
    "solve(A, b)"
   ]
  },
  {
   "cell_type": "markdown",
   "id": "25ce0dfa",
   "metadata": {},
   "source": [
    "Therefore, we have\n",
    "\\begin{align*}\n",
    "\\int_0^1 f(x)\\,dx \\approx\\frac{1}{90}\\left(7f(0) + 32f\\left(\\frac{1}{4}\\right) + 12f\\left(\\frac{1}{2}\\right) + 32f\\left(\\frac{3}{4}\\right) + 7f(1)\\right),\n",
    "\\end{align*}\n",
    "which is exact for all polynomials of degree at most 4."
   ]
  },
  {
   "cell_type": "markdown",
   "id": "500369c3",
   "metadata": {},
   "source": [
    "### Problem 10\n",
    "\n",
    "We know that if a Lagrange interpolating polynomial for $f$ has nodes $\\frac{1}{3}$ and $\\frac{2}{3}$, then it is of the form\n",
    "\\begin{align*}\n",
    "p(x) &= f\\left(\\frac{1}{3}\\right)\\cdot\\frac{x - \\frac{2}{3}}{\\frac{1}{3}-\\frac{2}{3}} + f\\left(\\frac{2}{3}\\right)\\cdot\\frac{x - \\frac{1}{3}}{\\frac{2}{3}-\\frac{1}{3}} \\\\\n",
    "&= -f\\left(\\frac{1}{3}\\right)(3x-2) + f\\left(\\frac{2}{3}\\right)(3x-1)\\\\\n",
    "\\end{align*}\n",
    "\n",
    "So integrating:\n",
    "\\begin{align*}\n",
    "\\int_0^1p(x)\\,dx &= \\left[-\\frac{1}{6}f\\left(\\frac{1}{3}\\right)(3x-2)^2 + \\frac{1}{6}f\\left(\\frac{2}{3}\\right)(3x-1)^2\\right]_0^1\\\\ \\\\&=\n",
    " \\left[-\\frac{1}{6}f\\left(\\frac{1}{3}\\right)+ \\frac{1}{6}f\\left(\\frac{2}{3}\\right)\\cdot 4\\right]-\\left[-\\frac{1}{6}f\\left(\\frac{1}{3}\\right)\\cdot 4+ \\frac{1}{6}f\\left(\\frac{2}{3}\\right)\\right] \\\\\n",
    " &= \\frac{1}{2}f\\left(\\frac{1}{3}\\right) + \\frac{1}{2}f\\left(\\frac{2}{3}\\right)\n",
    "\\end{align*}\n",
    "\n",
    "Now suppose we want to use this formula to integrate over the interval $[a,b]$.  The idea is to use $u$-substitution and change variables to turn this into $[0,1]$ so we can apply our formula above.\n",
    "\n",
    "In particular, we'd like to find a one-to-one function $g$ for which $g(a) = 0$ and $g(b) = 1$.  There are many such functions, but the simplest would be a linear function.  Its graph would have slope $\\frac{1-0}{b-a}=\\frac{1}{b-a}$, and so we have $g(x) = 0 + \\frac{1}{b-a}(x - a) = \\frac{x-a}{b-a}$.  Note that $g'(x) = \\frac{1}{b-a}$, so if $u=\\frac{x-a}{b-a}$, then $x = (b-a)u + a$ and $dx = (b-a)\\,du$.\n",
    "\n",
    "Therefore,\n",
    "\\begin{align*}\n",
    "\\int_a^bf(x)\\,dx &= \\int_0^1f((b-a)u + a)\\cdot(b-a)\\,du \\\\\n",
    "&= (b-a)\\int_0^1f((b-a)u + a)\\,du \\\\\n",
    "&\\approx(b-a)\\left(\\frac{1}{2}f\\left(\\frac{b-a}{3} + a\\right) + \\frac{1}{2}f\\left(\\frac{2(b-a)}{3} + a\\right)\\right) \\\\\n",
    "&= \\frac{b-a}{2}\\left(f\\left(\\frac{2a + b}{3}\\right) + f\\left(\\frac{a+2b}{3}\\right)\\right)\n",
    "\\end{align*}"
   ]
  },
  {
   "cell_type": "markdown",
   "id": "f5af1b7d",
   "metadata": {},
   "source": [
    "### Problem 14\n",
    "Let's use the method of undetermined coefficients again.  We know that this formula will be exact for any polynomial of degree at most 2, so let's use the standard basis $\\{1,x,x^2\\}$.  As in Problem 4,\n",
    "\\begin{equation*}\n",
    "\\int_0^1x^n\\,dx = \\frac{1}{n+1},\n",
    "\\end{equation*}\n",
    "so we have the following system to solve:\n",
    "\n",
    "\\begin{align*}\n",
    "1 &= A + B + C \\\\\n",
    "\\frac{1}{2} &= -2A -B + 0 \\\\\n",
    "\\frac{1}{3} &=  4A + B + 0\n",
    "\\end{align*}\n",
    "\n",
    "Using Macaulay2,"
   ]
  },
  {
   "cell_type": "code",
   "execution_count": 38,
   "id": "f50235ab",
   "metadata": {},
   "outputs": [
    {
     "name": "stdout",
     "output_type": "stream",
     "text": [
      "\n",
      "o38 = |  5/12 |\n",
      "      |  -4/3 |\n",
      "      | 23/12 |\n",
      "\n",
      "        3\n",
      "o38 : QQ\n"
     ]
    }
   ],
   "source": [
    "A = matrix(QQ, {\n",
    "    {1, 1, 1},\n",
    "    {-2, -1, 0},\n",
    "    {4, 1, 0}})\n",
    "b = vector {1, 1/2, 1/3}\n",
    "solve(A, b)"
   ]
  },
  {
   "cell_type": "markdown",
   "id": "35d0c738",
   "metadata": {},
   "source": [
    "So our Newton-Cotes formula is\n",
    "\\begin{equation*}\n",
    "\\int_0^1f(x)\\,dx\\approx \\frac{5}{12}f(-2) - \\frac{4}{3}f(-1) + \\frac{23}{12}f(0)\n",
    "\\end{equation*}\n",
    "\n",
    "Applying this to $f(x) = \\sin\\pi x$, we have:"
   ]
  },
  {
   "cell_type": "code",
   "execution_count": 40,
   "id": "22abbb99",
   "metadata": {},
   "outputs": [
    {
     "name": "stdout",
     "output_type": "stream",
     "text": [
      "\n",
      "o40 = 2.653401398152599e-16\n",
      "\n",
      "o40 : RR (of precision 53)\n"
     ]
    }
   ],
   "source": [
    "f = x -> sin(pi * x)\n",
    "5/12 * f(-2) - 4/3 * f(-1) + 23/12 * f(0)"
   ]
  },
  {
   "cell_type": "markdown",
   "id": "0e11365b",
   "metadata": {},
   "source": [
    "This is approximately zero.  However,\n",
    "\\begin{align*}\n",
    "\\int_0^1\\sin\\pi x\\,dx &= -\\left.\\frac{1}{\\pi}\\cos\\pi x\\right|_0^1 \\\\\n",
    "&= -\\frac{1}{\\pi}(-1 - 1) \\\\\n",
    "&= \\frac{2}{\\pi}\n",
    "\\end{align*}\n",
    "\n",
    "It didn't work in this case because our function vanishes at each node!"
   ]
  },
  {
   "cell_type": "markdown",
   "id": "a417a0d9",
   "metadata": {},
   "source": [
    "### Composite Simpson's rule\n",
    "\n",
    "Here is a function that approximates $\\displaystyle{\\int_a^b f(x)\\,dx}$ using the composite Simpson's rule for a given even $n$."
   ]
  },
  {
   "cell_type": "code",
   "execution_count": 41,
   "id": "009fe6c5",
   "metadata": {},
   "outputs": [
    {
     "name": "stdout",
     "output_type": "stream",
     "text": [
      "\n",
      "o41 = compositeSimpsons\n",
      "\n",
      "o41 : FunctionClosure\n"
     ]
    }
   ],
   "source": [
    "compositeSimpsons = (f, a, b, n) -> (\n",
    "    if not even n then error \"expected an even number\";\n",
    "    h := (b - a)/n;\n",
    "    r := f a;\n",
    "    for i from 1 to n - 1 do (\n",
    "\tr += (if odd i then 4 else 2) * f(a + i*h));\n",
    "    r += f b;\n",
    "    h/3 * r)"
   ]
  },
  {
   "cell_type": "markdown",
   "id": "12a64b8b",
   "metadata": {},
   "source": [
    "### Computer Problem 2\n",
    "#### Part (a)\n",
    "Let's start by running our Macaulay2 code:"
   ]
  },
  {
   "cell_type": "code",
   "execution_count": 46,
   "id": "36060bc0",
   "metadata": {},
   "outputs": [
    {
     "name": "stdout",
     "output_type": "stream",
     "text": [
      "\n",
      "o46 = {.9999923522424892, .9999999518934812, .9999999992472065}\n",
      "\n",
      "o46 : List\n"
     ]
    }
   ],
   "source": [
    "printingPrecision = 0\n",
    "apply({4, 8, 16}, n -> compositeSimpsons(x -> 4/pi * (1 + x^2)^(-1), 0, 1, n))"
   ]
  },
  {
   "cell_type": "markdown",
   "id": "0ce253c7",
   "metadata": {},
   "source": [
    "Note that in this case, we have\n",
    "\\begin{align*}\n",
    "\\int_0^1\\frac{4}{\\pi}\\cdot\\frac{1}{1 + x^2}\\,dx &= \\left.\\frac{4}{\\pi}\\arctan x\\right|_0^1 \\\\\n",
    "&= \\frac{4}{\\pi}\\left(\\frac{\\pi}{4} - 0\\right) \\\\\n",
    "&= 1\n",
    "\\end{align*}\n",
    "\n",
    "We were pretty close!  Here are the errors:"
   ]
  },
  {
   "cell_type": "code",
   "execution_count": 47,
   "id": "261360f2",
   "metadata": {},
   "outputs": [
    {
     "name": "stdout",
     "output_type": "stream",
     "text": [
      "\n",
      "o47 = {.000007647757510831354, 4.810651876852035e-8, 7.527934942075376e-10}\n",
      "\n",
      "o47 : List\n"
     ]
    }
   ],
   "source": [
    "apply(o46, x -> abs(x - 1))"
   ]
  },
  {
   "cell_type": "markdown",
   "id": "3c7f4a65",
   "metadata": {},
   "source": [
    "#### Part (b)\n",
    "Let's use Macaulay2 again:"
   ]
  },
  {
   "cell_type": "code",
   "execution_count": 48,
   "id": "63d11cb7",
   "metadata": {},
   "outputs": [
    {
     "name": "stdout",
     "output_type": "stream",
     "text": [
      "\n",
      "o48 = {1.001263149289521, 1.000102911699063, 1.000007058006225}\n",
      "\n",
      "o48 : List\n"
     ]
    }
   ],
   "source": [
    "apply({4, 8, 16}, n -> compositeSimpsons(x -> 1/log 3 * x^(-1), 1, 3, n))"
   ]
  },
  {
   "cell_type": "markdown",
   "id": "072849b7",
   "metadata": {},
   "source": [
    "Is the actual answer 1 again?  Let's find out:\n",
    "\n",
    "\\begin{align*}\n",
    "\\int_1^3\\frac{1}{\\ln 3}x^{-1}\\,dx &= \\left.\\frac{1}{\\ln 3}\\ln x\\right|_1^3 \\\\\n",
    "&= \\frac{1}{\\ln 3}(\\ln 3 - 0) \\\\\n",
    "&+ 1\n",
    "\\end{align*}\n",
    "It is!  Let's compute the errors:"
   ]
  },
  {
   "cell_type": "code",
   "execution_count": 49,
   "id": "396b0b16",
   "metadata": {},
   "outputs": [
    {
     "name": "stdout",
     "output_type": "stream",
     "text": [
      "\n",
      "o49 = {.001263149289520982, .0001029116990634016, .000007058006224580637}\n",
      "\n",
      "o49 : List\n"
     ]
    }
   ],
   "source": [
    "apply(o48, x -> abs(x - 1))"
   ]
  }
 ],
 "metadata": {
  "kernelspec": {
   "display_name": "M2",
   "language": "Macaulay2",
   "name": "m2"
  },
  "language_info": {
   "codemirror_mode": "macaulay2",
   "file_extension": ".m2",
   "mimetype": "text/x-macaulay2",
   "name": "Macaulay2"
  }
 },
 "nbformat": 4,
 "nbformat_minor": 5
}
