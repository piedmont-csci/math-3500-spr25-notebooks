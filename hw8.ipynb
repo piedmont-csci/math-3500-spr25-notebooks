{
 "cells": [
  {
   "cell_type": "markdown",
   "id": "fa0fe05d",
   "metadata": {},
   "source": [
    "# Homework 8\n",
    "## Kincaid & Cheney Section 7.1\n",
    "### Problem 6"
   ]
  },
  {
   "cell_type": "markdown",
   "id": "6d78d73a",
   "metadata": {},
   "source": [
    "### Problem 14"
   ]
  },
  {
   "cell_type": "markdown",
   "id": "e18963ef",
   "metadata": {},
   "source": [
    "### 3-point methods\n",
    "\n",
    "Recall that quadratic Lagrange interpolating polynomial for $f$ with nodes $x_0$, $x_1$, and $x_2$ is\n",
    "\\begin{equation*}\n",
    "p(x) = f(x_0)\\cdot\\frac{(x - x_1)(x - x_2)}{(x_0 - x_1)(x_0 - x_2)} +  f(x_1)\\cdot\\frac{(x - x_0)(x - x_2)}{(x_1 - x_0)(x_1 - x_2)} +  f(x_2)\\cdot\\frac{(x - x_0)(x - x_1)}{(x_2 - x_0)(x_2 - x_1)}\n",
    "\\end{equation*}\n",
    "\n",
    "Now let's differentiate using the product rule in the numerators:\n",
    "\n",
    "\\begin{align*}\n",
    "p'(x) &= f(x_0)\\cdot\\frac{x - x_1 + x - x_2}{(x_0 - x_1)(x_0 - x_2)} +  f(x_1)\\cdot\\frac{x - x_0 + x - x_2}{(x_1 - x_0)(x_1 - x_2)} +  f(x_2)\\cdot\\frac{x - x_0 + x - x_1}{(x_2 - x_0)(x_2 - x_1)} \\\\\n",
    "&= f(x_0)\\cdot\\frac{2x - x_1 - x_2}{(x_0 - x_1)(x_0 - x_2)} +  f(x_1)\\cdot\\frac{2x - x_0 - x_2}{(x_1 - x_0)(x_1 - x_2)} +  f(x_2)\\cdot\\frac{2x - x_0 - x_1}{(x_2 - x_0)(x_2 - x_1)}\n",
    "\\end{align*}\n",
    "\n",
    "#### Forward difference\n",
    "\n",
    "Let's plug in $x_0 = x$, $x_1 = x + h$, and $x_2 = x + 2h$:\n",
    "\n",
    "\\begin{align*}\n",
    "p'(x) &= f(x)\\cdot\\frac{2x - (x + h) - (x + 2h)}{-h\\cdot(-2h)} +  f(x+h)\\cdot\\frac{2x - x - (x + 2h)}{h\\cdot(-h)} +  f(x+2h)\\cdot\\frac{2x - x - (x + h)}{2h\\cdot h} \\\\\n",
    "&= f(x)\\cdot\\frac{-3h}{2h^2} +  f(x+h)\\cdot\\frac{-2h}{-h^2} +  f(x+2h)\\cdot\\frac{-h}{2h^2} \\\\\n",
    "&= \\frac{1}{2h}\\left(-f(x + 2h)+ 4f(x + h) - 3f(x)\\right)\n",
    "\\end{align*}\n",
    "\n",
    "#### Backward difference\n",
    "\n",
    "Now let's plug in $x_0 = x - 2h$, $x_1 = x - h$, and $x_2 = x$:\n",
    "\n",
    "\\begin{align*}\n",
    "p'(x) &= f(x-2h)\\cdot\\frac{2x - (x-h) - x}{-h\\cdot(-2h)} +  f(x-h)\\cdot\\frac{2x - (x-2h) - x}{h\\cdot(-h)} +  f(x)\\cdot\\frac{2x - (x-2h) - (x-h)}{2h\\cdot h} \\\\\n",
    "& = f(x-2h)\\cdot\\frac{h}{2h^2} +  f(x-h)\\cdot\\frac{2h}{-h^2} +  f(x)\\cdot\\frac{3h}{2h^2} \\\\\n",
    "&= \\frac{1}{2h}\\left(3f(x) - 4f(x-h) + f(x - 2h)\\right)\n",
    "\\end{align*}"
   ]
  },
  {
   "cell_type": "markdown",
   "id": "dafff703",
   "metadata": {},
   "source": [
    "### Computer Problem 1\n",
    "\n",
    "First, let's write some Macaulay2 functions that evaluate these formulas"
   ]
  },
  {
   "cell_type": "code",
   "execution_count": 145,
   "id": "f277f1aa",
   "metadata": {},
   "outputs": [
    {
     "name": "stdout",
     "output_type": "stream",
     "text": [
      "\n",
      "o145 = h forward 2-pointcentral 2-pointbackward 2-pointforward 3-pointbackward 3-point  123  456\n",
      "       -------------------------------------------------------------------------------       \n",
      "\u001b[?2004h"
     ]
    }
   ],
   "source": [
    "-- from class\n",
    "forward2pt = (f, x, h) -> (f(x + h) - f(x))/h\n",
    "backward2pt = (f, x, h) -> (f(x) - f(x - h))/h\n",
    "central2pt = (f, x, h) -> (f(x + h) - f(x - h))/(2 * h)\n",
    "\n",
    "-- from above\n",
    "forward3pt = (f, x, h) -> (-f(x + 2*h) + 4*f(x + h) - 3*f(x)) / (2*h)\n",
    "backward3pt = (f, x, h) -> (3*f(x) - 4*f(x - h) + f(x - 2*h)) / (2*h)\n",
    "\n",
    "-- here's a function that computes all five and makes a nice table with several values of h\n",
    "needsPackage \"Text\"\n",
    "numericalDifferentiation = (f, x) -> TABLE {\n",
    "    prepend(TR {TH \"h\", TH \"forward 2-point\", TH \"central 2-point\", TH \"backward 2-point\", TH \"forward 3-point\",\n",
    "        TH \"backward 3-point\"},\n",
    "        {TR {1,2,3},{4,5,6}})}\n",
    "\n",
    "numericalDifferentiation(exp, 3)"
   ]
  }
 ],
 "metadata": {
  "kernelspec": {
   "display_name": "M2",
   "language": "text/x-macaulay2",
   "name": "m2"
  },
  "language_info": {
   "codemirror_mode": "macaulay2",
   "file_extension": ".m2",
   "mimetype": "text/x-macaulay2",
   "name": "Macaulay2"
  }
 },
 "nbformat": 4,
 "nbformat_minor": 5
}
