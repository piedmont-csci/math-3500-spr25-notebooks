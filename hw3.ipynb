{
 "cells": [
  {
   "cell_type": "markdown",
   "id": "cf2a8dd9",
   "metadata": {},
   "source": [
    "# Homework 3\n",
    "## Kincaid & Cheney Section 3.1\n",
    "### Problem 1\n",
    "First, note that our expression factors:\n",
    "\n",
    "$$x^2 - 4x\\sin x + (2\\sin x)^2 = (x - 2\\sin x)^2$$\n",
    "\n",
    "This is an important observation since in its original form, it always nonnegative and so the bisection method wouldn't work.  Indeed, we always want it to change signs on our interval.  But note that any solution is also a solution of $x - 2\\sin x = 0$, so we may use that instead.\n",
    "\n",
    "Looking at a graph of the curve $y = x - 2\\sin x$ (e.g., using Desmos), we see that a solution looks to be somewhere in the interval $[1, 2]$.  So let's start with that.  If $f(x) = x - 2\\sin x$, then\n",
    "\n",
    "\\begin{align*}\n",
    "f(1) &= 1 - 2\\sin 1 \\approx -0.6829 \\\\\n",
    "f(2) &= 2 - 2\\sin 2 \\approx 0.1814\n",
    "\\end{align*}\n",
    "\n",
    "And indeed, the sign changes somewhere in this interval.  Let's check the midpoint:\n",
    "$$f(1.5) = 1.5 - 2\\sin 1.5\\approx-0.4950$$\n",
    "\n",
    "Since the sign at the midpoint is different than the one on the right endpoint, we update our interval to $[1.5, 2]$.  Now let's check the new midpoint:\n",
    "\n",
    "$$f(1.75) = 1.75 - 2\\sin 1.75\\approx -0.2180$$\n",
    "\n",
    "Our interval is now $[1.75, 2]$.  Again:\n",
    "$$f(1.875) = 1.875 - 2\\sin 1.875\\approx -0.3317$$\n",
    "\n",
    "Now our interval is $[1.875, 2]$.  Again:\n",
    "$$f(1.9375) = 1.9375 - 2\\sin 1.9375\\approx 0.07047$$\n",
    "\n",
    "So now our interval is $[1.875, 1.9375]$.  Any number in this interval rounds to 1.9, so we have a solution accurate to two significant digits:\n",
    "$$x\\approx 1.9$$\n"
   ]
  },
  {
   "cell_type": "markdown",
   "id": "d8b84009",
   "metadata": {},
   "source": [
    "### Problem 2\n",
    "#### Part (a)\n",
    "\n",
    "Our initial width is $3.5 - 1.5 = 2$.  After halving this $n$ times, the width is\n",
    "$$2\\cdot 2^{-n} = 2^{1-n}$$\n",
    "\n",
    "#### Part (b)\n",
    "\n",
    "By Theorem 1,\n",
    "$$|r - c_n|\\leq 2^{-(n + 1)}\\cdot 2 = 2^{-n}$$\n"
   ]
  },
  {
   "cell_type": "markdown",
   "id": "f7a8ad94",
   "metadata": {},
   "source": [
    "### Problem 3\n",
    "We want\n",
    "$$|r - c_n| < 10^{-6}$$\n",
    "\n",
    "By Theorem 1, we may solve the inequality\n",
    "\\begin{align*}\n",
    "2^{-(n + 1)}(129 - 128) &< 10^{-6} \\\\\n",
    "-(n + 1)\\ln 2 &< -6\\ln 10 \\\\\n",
    "n + 1 &>  \\frac{6\\ln 10}{\\ln 2} \\approx 19.9316 \\\\\n",
    "n &> 18.9316 \\\\\n",
    "n &\\geq 19\n",
    "\\end{align*}\n",
    "\n",
    "So we want our error to be at most $2^{-19}$.\n",
    "\n",
    "However, since $128\\leq r \\leq 129$ and $128 = 2^7$, we can only guarantee an error of at most $2^{-24}\\times 2^{7}=2^{-17}$ when using single precision floating point numbers. \n",
    "\n",
    "$No$\n",
    "\n"
   ]
  },
  {
   "cell_type": "markdown",
   "id": "3cd44fdf",
   "metadata": {},
   "source": [
    "### Problem 7\n",
    "This begins in the same way as Problem 3.  The interval is different, but the width is the same, and that is all that matters to apply Theorem 1.  So in particular, we need at least 19 steps to obtain an error less than $10^{-6}$.\n",
    "\n",
    "For bounding the relative error, we have\n",
    "\\begin{align*}\n",
    "\\frac{|r - c_n|}{r} &\\leq \\frac{|r - c_n|}{2}\\text{ since }r\\geq 2 \\\\\n",
    "&\\leq \\frac{2^{-(n + 1)}}{2} \\\\\n",
    "&= 2^{-(n + 2)}\n",
    "\\end{align*}\n",
    "\n",
    "So, as in Problem 3, we have\n",
    "\\begin{align*}\n",
    "n + 2 &> 19.9316 \\\\\n",
    "n &> 17.9316 \\\\\n",
    "n &\\geq 18\n",
    "\\end{align*}\n",
    "\n",
    "We need at least 18 steps to obtain a relative error less than $10^{-6}$.\n",
    "\n",
    "Now let's move to single precision floating point numbers.  We'd like to find the smallest $n$ for which we can guarantee that $\\frac{|r - c_n|}{r}\\leq 2^{-24}$, using inequality (6) from Section 2.1.\n",
    "\n",
    "As above, we solve the following inequality:\n",
    "\\begin{align*}\n",
    "2^{-(n + 2)} &\\leq 2^{-24} \\\\\n",
    "n + 2 &\\geq 24 \\\\\n",
    "n &\\geq 22\n",
    "\\end{align*}\n",
    "\n",
    "So we need at least 22 steps to obtain a relative error than than $2^{-24}$."
   ]
  },
  {
   "cell_type": "markdown",
   "id": "2efe1e6a",
   "metadata": {},
   "source": [
    "### Problem 8\n",
    "#### Part (a)\n",
    "By Theorem 1,\n",
    "$$|e_n|\\leq 2^{-(n+1)}(b_0-a_0)$$\n",
    "\n",
    "Also, by construction, $b_0 - a_0 = 2(b_1 - a_1)$.\n",
    "\n",
    "Combining these, we get\n",
    "\\begin{align*}\n",
    "|e_n| &\\leq 2^{-(n+1)}\\cdot 2(b_1 - a_1) \\\\\n",
    "&= 2^{-n}(b_1 - a_1)\n",
    "\\end{align*}"
   ]
  },
  {
   "cell_type": "markdown",
   "id": "ee79334c",
   "metadata": {},
   "source": [
    "#### Part (c)\n",
    "\n",
    "*False*\n",
    "\n",
    "Here is a counterexample.  Consider a root $r = 0.6$ in the interval $[0, 1]$.  Our first estimate is $c_0 = 0.5$, and\n",
    "$$|e_0| = |0.6 - 0.5| = 0.1$$\n",
    "\n",
    "After the first step, our new interval is $[0.5, 1]$, and so $c_1 = 0.75$.  However,\n",
    "$$|e_1| = |0.6 - 0.75| = 0.15$$"
   ]
  },
  {
   "cell_type": "markdown",
   "id": "e69b142d",
   "metadata": {},
   "source": [
    "#### Part (e)\n",
    "By construction, $a_m\\leq r$ for all $m$ and $r\\leq b_n$ for all $n$.  So $a_m\\leq b_n$ by the transitive property."
   ]
  },
  {
   "cell_type": "markdown",
   "id": "b745546b",
   "metadata": {},
   "source": [
    "### Problem 15\n",
    "We know that $f(a)$ and $f(b)$ will have opposite signs, so without loss of generality, suppose $\\operatorname{sgn}(f(a)) = 1$ and $\\operatorname{sgn}(f(b)) = -1$.  Then the slope of the line through $(a, f(a))$ and $(b, f(b))$ is\n",
    "$$m = \\frac{-1 - 1}{b - a} = \\frac{-2}{b - a}$$\n",
    "\n",
    "So our line has equation\n",
    "\\begin{align*}\n",
    "y &= 1 - \\frac{2}{b-a}(x - a) \\\\\n",
    "\\end{align*}\n",
    "\n",
    "This crosses the $x$-axis when $y=0$, or\n",
    "\\begin{align*}\n",
    "0 &= 1 - \\frac{2}{b-a}(x - a) \\\\\n",
    "\\frac{2}{b-a}(x - a) &= 1 \\\\\n",
    "2x - 2a &= b - a\\\\\n",
    "x &= a + b \\\\\n",
    "x &= \\frac{a + b}{2}\n",
    "\\end{align*}\n"
   ]
  }
 ],
 "metadata": {
  "kernelspec": {
   "display_name": "M2",
   "language": "text/x-macaulay2",
   "name": "m2"
  },
  "language_info": {
   "codemirror_mode": "macaulay2",
   "file_extension": ".m2",
   "mimetype": "text/x-macaulay2",
   "name": "Macaulay2"
  }
 },
 "nbformat": 4,
 "nbformat_minor": 5
}
