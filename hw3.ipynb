{
 "cells": [
  {
   "cell_type": "markdown",
   "id": "cf2a8dd9",
   "metadata": {},
   "source": [
    "# Homework 3\n",
    "## Kincaid & Cheney Section 3.1\n",
    "### Problem 1\n",
    "First, note that our expression factors:\n",
    "\n",
    "$$x^2 - 4x\\sin x + (2\\sin x)^2 = (x - 2\\sin x)^2$$\n",
    "\n",
    "This is an important observation since in its original form, it always nonnegative and so the bisection method wouldn't work.  Indeed, we always want it to change signs on our interval.  But note that any solution is also a solution of $x - 2\\sin x = 0$, so we may use that instead.\n",
    "\n",
    "Looking at a graph of the curve $y = x - 2\\sin x$ (e.g., using Desmos), we see that a solution looks to be somewhere in the interval $[1, 2]$.  So let's start with that.  If $f(x) = x - 2\\sin x$, then\n",
    "\n",
    "\\begin{align*}\n",
    "f(1) &= 1 - 2\\sin 1 \\approx -0.6829 \\\\\n",
    "f(2) &= 2 - 2\\sin 2 \\approx 0.1814\n",
    "\\end{align*}\n",
    "\n",
    "And indeed, the sign changes somewhere in this interval.  Let's check the midpoint:\n",
    "$$f(1.5) = 1.5 - 2\\sin 1.5\\approx-0.4950$$\n",
    "\n",
    "Since the sign at the midpoint is different than the one on the right endpoint, we update our interval to $[1.5, 2]$.  Now let's check the new midpoint:\n",
    "\n",
    "$$f(1.75) = 1.75 - 2\\sin 1.75\\approx -0.2180$$\n",
    "\n",
    "Our interval is now $[1.75, 2]$.  Again:\n",
    "$$f(1.875) = 1.875 - 2\\sin 1.875\\approx -0.3317$$\n",
    "\n",
    "Now our interval is $[1.875, 2]$.  Again:\n",
    "$$f(1.9375) = 1.9375 - 2\\sin 1.9375\\approx 0.07047$$\n",
    "\n",
    "So now our interval is $[1.875, 1.9375]$.  Any number in this interval rounds to 1.9, so we have a solution accurate to two significant digits:\n",
    "$$x\\approx 1.9$$\n"
   ]
  },
  {
   "cell_type": "markdown",
   "id": "d8b84009",
   "metadata": {},
   "source": [
    "### Problem 2\n",
    "#### Part (a)\n",
    "\n",
    "Our initial width is $3.5 - 1.5 = 2$.  After halving this $n$ times, the width is\n",
    "$$2\\cdot 2^{-n} = 2^{1-n}$$\n",
    "\n",
    "#### Part (b)\n",
    "\n",
    "By Theorem 1,\n",
    "$$|r - c_n|\\leq 2^{-(n + 1)}\\cdot 2 = 2^{-n}$$\n"
   ]
  },
  {
   "cell_type": "markdown",
   "id": "f7a8ad94",
   "metadata": {},
   "source": [
    "### Problem 3\n",
    "We want\n",
    "$$|r - c_n| < 10^{-6}$$\n",
    "\n",
    "By Theorem 1, we may solve the inequality\n",
    "\\begin{align*}\n",
    "2^{-(n + 1)}(129 - 128) &< 10^{-6} \\\\\n",
    "-(n + 1)\\ln 2 &< -6\\ln 10 \\\\\n",
    "n + 1 &>  \\frac{6\\ln 10}{\\ln 2} \\approx 19.9316 \\\\\n",
    "n &> 18.9316 \\\\\n",
    "n &\\geq 19\n",
    "\\end{align*}\n",
    "\n",
    "So we want our error to be at most $2^{-19}$.\n",
    "\n",
    "However, since $128\\leq r \\leq 129$ and $128 = 2^7$, we can only guarantee an error of at most $2^{-24}\\times 2^{7}=2^{-17}$ when using single precision floating point numbers. \n",
    "\n",
    "$No$\n",
    "\n"
   ]
  },
  {
   "cell_type": "markdown",
   "id": "3cd44fdf",
   "metadata": {},
   "source": [
    "### Problem 7\n",
    "This begins in the same way as Problem 3.  The interval is different, but the width is the same, and that is all that matters to apply Theorem 1.  So in particular, we need at least 19 steps to obtain an error less than $10^{-6}$.\n",
    "\n",
    "For bounding the relative error, we have\n",
    "\\begin{align*}\n",
    "\\frac{|r - c_n|}{r} &\\leq \\frac{|r - c_n|}{2}\\text{ since }r\\geq 2 \\\\\n",
    "&\\leq \\frac{2^{-(n + 1)}}{2} \\\\\n",
    "&= 2^{-(n + 2)}\n",
    "\\end{align*}\n",
    "\n",
    "So, as in Problem 3, we have\n",
    "\\begin{align*}\n",
    "n + 2 &> 19.9316 \\\\\n",
    "n &> 17.9316 \\\\\n",
    "n &\\geq 18\n",
    "\\end{align*}\n",
    "\n",
    "We need at least 18 steps to obtain a relative error less than $10^{-6}$.\n",
    "\n",
    "Now let's move to single precision floating point numbers.  We'd like to find the smallest $n$ for which we can guarantee that $\\frac{|r - c_n|}{r}\\leq 2^{-24}$, using inequality (6) from Section 2.1.\n",
    "\n",
    "As above, we solve the following inequality:\n",
    "\\begin{align*}\n",
    "2^{-(n + 2)} &\\leq 2^{-24} \\\\\n",
    "n + 2 &\\geq 24 \\\\\n",
    "n &\\geq 22\n",
    "\\end{align*}\n",
    "\n",
    "So we need at least 22 steps to obtain a relative error than than $2^{-24}$."
   ]
  },
  {
   "cell_type": "markdown",
   "id": "2efe1e6a",
   "metadata": {},
   "source": [
    "### Problem 8\n",
    "#### Part (a)\n",
    "By Theorem 1,\n",
    "$$|e_n|\\leq 2^{-(n+1)}(b_0-a_0)$$\n",
    "\n",
    "Also, by construction, $b_0 - a_0 = 2(b_1 - a_1)$.\n",
    "\n",
    "Combining these, we get\n",
    "\\begin{align*}\n",
    "|e_n| &\\leq 2^{-(n+1)}\\cdot 2(b_1 - a_1) \\\\\n",
    "&= 2^{-n}(b_1 - a_1)\n",
    "\\end{align*}"
   ]
  },
  {
   "cell_type": "markdown",
   "id": "ee79334c",
   "metadata": {},
   "source": [
    "#### Part (c)\n",
    "\n",
    "*False*\n",
    "\n",
    "Here is a counterexample.  Consider a root $r = 0.6$ in the interval $[0, 1]$.  Our first estimate is $c_0 = 0.5$, and\n",
    "$$|e_0| = |0.6 - 0.5| = 0.1$$\n",
    "\n",
    "After the first step, our new interval is $[0.5, 1]$, and so $c_1 = 0.75$.  However,\n",
    "$$|e_1| = |0.6 - 0.75| = 0.15$$"
   ]
  },
  {
   "cell_type": "markdown",
   "id": "e69b142d",
   "metadata": {},
   "source": [
    "#### Part (e)\n",
    "By construction, $a_m\\leq r$ for all $m$ and $r\\leq b_n$ for all $n$.  So $a_m\\leq b_n$ by the transitive property."
   ]
  },
  {
   "cell_type": "markdown",
   "id": "b745546b",
   "metadata": {},
   "source": [
    "### Problem 15\n",
    "We know that $f(a)$ and $f(b)$ will have opposite signs, so without loss of generality, suppose $\\operatorname{sgn}(f(a)) = 1$ and $\\operatorname{sgn}(f(b)) = -1$.  Then the slope of the line through $(a, f(a))$ and $(b, f(b))$ is\n",
    "$$m = \\frac{-1 - 1}{b - a} = \\frac{-2}{b - a}$$\n",
    "\n",
    "So our line has equation\n",
    "\\begin{align*}\n",
    "y &= 1 - \\frac{2}{b-a}(x - a) \\\\\n",
    "\\end{align*}\n",
    "\n",
    "This crosses the $x$-axis when $y=0$, or\n",
    "\\begin{align*}\n",
    "0 &= 1 - \\frac{2}{b-a}(x - a) \\\\\n",
    "\\frac{2}{b-a}(x - a) &= 1 \\\\\n",
    "2x - 2a &= b - a\\\\\n",
    "x &= a + b \\\\\n",
    "x &= \\frac{a + b}{2}\n",
    "\\end{align*}\n"
   ]
  },
  {
   "cell_type": "markdown",
   "id": "da0a73ab",
   "metadata": {},
   "source": [
    "### Computer Problem 1\n",
    "\n",
    "Let's load our Macaulay2 code from class:"
   ]
  },
  {
   "cell_type": "code",
   "execution_count": 2,
   "id": "d7bdf650",
   "metadata": {},
   "outputs": [
    {
     "name": "stdout",
     "output_type": "stream",
     "text": [
      "\n",
      "o2 = bisection\n",
      "\n",
      "o2 : FunctionClosure\n",
      "\u001b[?2004h"
     ]
    }
   ],
   "source": [
    "sign = x -> (\n",
    "    if x > 0 then 1\n",
    "    else if x < 0 then -1\n",
    "    else 0)\n",
    "\n",
    "bisection = (f, a, b) -> (\n",
    "    M := 100; -- max # of iterations\n",
    "    delta := 2e-12; -- tolerance in x direction\n",
    "    epsilon := 8.881784197001252e-16; -- toler in y dir\n",
    "    u := f a;\n",
    "    v := f b;\n",
    "    e := b - a;\n",
    "    if sign u == sign v\n",
    "    then error \"signs at endpoints match\";\n",
    "    for k from 1 to M do (\n",
    "        e /= 2;\n",
    "        c := a + e;\n",
    "        w := f c;\n",
    "        if abs e < delta or abs w < epsilon then break;\n",
    "        if sign w != sign u\n",
    "        then (\n",
    "            b = c;\n",
    "            v = w;)\n",
    "        else (\n",
    "            a = c;\n",
    "            u = w));\n",
    "    (a, b))"
   ]
  },
  {
   "cell_type": "markdown",
   "id": "4251c250",
   "metadata": {},
   "source": [
    "#### Part (a)"
   ]
  },
  {
   "cell_type": "code",
   "execution_count": 5,
   "id": "ba6ec8b3",
   "metadata": {},
   "outputs": [
    {
     "name": "stdout",
     "output_type": "stream",
     "text": [
      "\u001b[?2004l\r",
      "stdio:36:16:(3):[2]: error: division by zero\n",
      "\u001b[?2004h"
     ]
    }
   ],
   "source": [
    "bisection(x -> x^(-1) - tan x, 0, pi/2)"
   ]
  },
  {
   "cell_type": "markdown",
   "id": "a6404bd6",
   "metadata": {},
   "source": [
    "Uh oh!  That makes sense, though, since $x^{-1}$ is undefined when $x=0$.  Let's just try something really small but close to 0:"
   ]
  },
  {
   "cell_type": "code",
   "execution_count": 8,
   "id": "8d1f08de",
   "metadata": {},
   "outputs": [
    {
     "name": "stdout",
     "output_type": "stream",
     "text": [
      "\n",
      "o8 = (.8603335890187093, .8603335890215665)\n",
      "\n",
      "o8 : Sequence\n",
      "\u001b[?2004h"
     ]
    }
   ],
   "source": [
    "printingPrecision = 0 -- so we see more significant digits in our answer\n",
    "bisection(x -> x^(-1) - tan x, 1e-16, pi/2)"
   ]
  },
  {
   "cell_type": "markdown",
   "id": "a5c5571c",
   "metadata": {},
   "source": [
    "#### Part (b)\n",
    "This one has the same division by zero problem as part (a)."
   ]
  },
  {
   "cell_type": "code",
   "execution_count": 9,
   "id": "79bd5337",
   "metadata": {},
   "outputs": [
    {
     "name": "stdout",
     "output_type": "stream",
     "text": [
      "\n",
      "o9 = (.6411857445018541, .641185744505492)\n",
      "\n",
      "o9 : Sequence\n",
      "\u001b[?2004h"
     ]
    }
   ],
   "source": [
    "bisection(x -> x^(-1) - 2^x, 1e-16, 1)"
   ]
  },
  {
   "cell_type": "markdown",
   "id": "e92f798e",
   "metadata": {},
   "source": [
    "#### Part (c)"
   ]
  },
  {
   "cell_type": "code",
   "execution_count": 12,
   "id": "97bb8c9b",
   "metadata": {},
   "outputs": [
    {
     "name": "stdout",
     "output_type": "stream",
     "text": [
      "\n",
      "o12 = (1.829383601932932, 1.82938360193657)\n",
      "\n",
      "o12 : Sequence\n",
      "\u001b[?2004h"
     ]
    }
   ],
   "source": [
    "bisection(x -> 2^(-x) + exp x + 2 * cos x - 6, 1.0, 3.0)"
   ]
  },
  {
   "cell_type": "markdown",
   "id": "8157e5db",
   "metadata": {},
   "source": [
    "#### Part (d)"
   ]
  },
  {
   "cell_type": "code",
   "execution_count": 14,
   "id": "c0f2359b",
   "metadata": {},
   "outputs": [
    {
     "name": "stdout",
     "output_type": "stream",
     "text": [
      "\n",
      "o14 = (.1178765667937114, .1178765667973494)\n",
      "\n",
      "o14 : Sequence\n",
      "\u001b[?2004h"
     ]
    }
   ],
   "source": [
    "bisection(x -> (x^3 + 4*x^2 + 3*x + 5)/(2*x^3 - 9*x^2 + 18*x - 2), 0.0, 4.0)"
   ]
  },
  {
   "cell_type": "markdown",
   "id": "8cf23721",
   "metadata": {},
   "source": [
    "## Section 3.2\n",
    "### Problem A\n",
    "\n",
    "**Theorem.**  For all nonnegative integers $m$,\n",
    "$$g^{(m)}(t) = \n",
    "\\begin{cases}\n",
    "\\displaystyle{f^{(m)}(t) - \\left(\\sum_{i=0}^{n - m} \\frac{f^{(i+m)}(x_0)}{i!}(t - x_0)^i + \\frac{K(n+1)!}{(n + 1 - m)!}(t - x_0)^{n + 1 - m}\\right)} &\\text{if }m\\leq n \\\\\n",
    "f^{(m)}(t) - K(n+1)! &\\text{if }m=n+1 \\\\\n",
    "f^{(m)}(t) &\\text{otherwise.}\n",
    "\\end{cases}\n",
    "$$\n",
    "\n",
    "*Proof.* We use induction on $m$.\n",
    "\n",
    "*Base case.*  When $m=0$, we have\n",
    "\\begin{align*}\n",
    "g^{(0)}(t) &= g(t) \\\\\n",
    "&= f(t) - \\left(\\sum_{i=0}^n \\frac{f^{(i)}(x_0)}{i!}(t - x_0)^i + K(t - x_0)^{n + 1 - 0}\\right) \\\\\n",
    "&= f^{(0)}(t) -\\left(\\sum_{i=0}^{n - 0} \\frac{f^{(i+0)}(x_0)}{i!}(t - x_0)^i + \\frac{K(n+1)!}{(n + 1 - 0)!}(t - x_0)^{n + 1 - 0}\\right)\n",
    "\\end{align*}\n",
    "\n",
    "*Inductive step.*  Suppose for some $k$ with $0\\leq k\\leq n - 1$ that\n",
    "\\begin{align*}\n",
    "g^{(k)}(t) &= f^{(k)}(t) - \\left(\\sum_{i=0}^{n - k} \\frac{f^{(i+k)}(x_0)}{i!}(t - x_0)^i + \\frac{K(n+1)!}{(n + 1 - k)!}(t - x_0)^{n + 1 - k}\\right) \\\\\n",
    "&= f^{(k)}(t) - \\left( f^{(k)}(x_0) + \\sum_{i=1}^{n - k} \\frac{f^{(i+k)}(x_0)}{i!}(t - x_0)^i + \\frac{K(n+1)!}{(n + 1 - k)!}(t - x_0)^{n + 1 - k}\\right) \\\\\n",
    "\\end{align*}\n",
    "\n",
    "Then\n",
    "\\begin{align*}\n",
    "g^{(k+1)}(t) &= f^{(k+1)}(t) - \\left( 0 + \\sum_{i=1}^{n - k} \\frac{f^{(i+k)}(x_0)}{i(i-1)!}\\cdot i(t - x_0)^{i - 1} + \\frac{K(n+1)!}{(n + 1 - k)(n - k)!}\\cdot(n + 1 - k)(t - x_0)^{n - k}\\right) \\\\\n",
    "&= f^{(k+1)}(t) - \\left( \\sum_{i=1}^{n - k} \\frac{f^{(i+k)}(x_0)}{(i-1)!}(t - x_0)^{i - 1} + \\frac{K(n+1)!}{(n - k)!}(t - x_0)^{n - k}\\right)\\\\\n",
    "&= f^{(k+1)}(t) - \\left(\\sum_{i=0}^{n - (k+1)} \\frac{f^{(i+k+1)}(x_0)}{i!}(t - x_0)^{i} + \\frac{K(n+1)!}{(n + 1 - (k + 1))!}(t - x_0)^{n + 1 - (k+ 1)}\\right)\n",
    "\\end{align*}\n",
    "\n",
    "Thus the result holds by induction for $0\\leq m\\leq n$.  Note that when $m=n$, we have\n",
    "\\begin{align*}\n",
    "g^{(n)}(t) &= f^{(n)}(t) - \\left( \\sum_{i=0}^{n - n} \\frac{f^{(i+n)}(x_0)}{i!}(t - x_0)^i + \\frac{K(n+1)!}{(n + 1 - n)!}(t - x_0)^{n + 1 - n}\\right)\\\\\n",
    "&= f^{(n)}(t) - \\left( f^{(n)}(x_0) + K(n+1)!(t-x_0)\\right)\\\\\n",
    "g^{(n+1)}(t) &= f^{(n+1)}(t) - K(n+1)! \\\\\n",
    "g^{(n+2)}(t) &= f^{(n+2)}(t)\n",
    "\\end{align*}\n",
    "And in particular, the $m$th derivatives of $g$ agree with those of $f$ for all $m > n + 1$.\n",
    "\n",
    "Finally, using our formula above, we see that for all $m\\leq n$,\n",
    "\\begin{align*}\n",
    "g^{(m)}(x_0) &= f^{(m)}(x_0) - \\left(\\sum_{i=0}^{n - m} \\frac{f^{(i+m)}(x_0)}{i!}(x_0 - x_0)^i + \\frac{K(n+1)!}{(n + 1 - m)!}(x_0 - x_0)^{n + 1 - m}\\right) \\\\\n",
    "&= f^{(m)}(x_0) -f^{(m)}(x_0)  \\\\\n",
    "&= 0\n",
    "\\end{align*}\n"
   ]
  },
  {
   "cell_type": "markdown",
   "id": "d75489f8",
   "metadata": {},
   "source": [
    "### Problem 1\n",
    "\n",
    "As noted in the hint, we are looking for the case where $|x_{n+1}| = |x_n|$ for all $n$, and so in particular for $n=0$.  Recall that if $f(x) = \\arctan x$, we have $f'(x) = \\frac{1}{1 + x^2}$.  So we are looking for a solution to the equation\n",
    "\n",
    "\\begin{align*}\n",
    "\\left|x_0 - \\frac{ \\arctan x_0}{\\frac{1}{1 + x_0^2}}\\right| &= |x_0| \\\\\n",
    "\\left|x_0 - (1 + x_0^2)\\arctan x_0\\right| &= |x_0| \\\\\n",
    "x_0 - (1 + x_0^2)\\arctan x_0 &= \\pm x_0\\\\\n",
    "\\end{align*}\n",
    "\n",
    "So we either have $x_0 - (1 + x_0^2)\\arctan x_0 = x_0$, which implies $(1 + x_0)^2\\arctan x_0 = 0$, which implies $\\arctan x_0 = 0$, which implies $x_0 = 0$, which contradictions our assumption that $x_0$ is positive, or we have\n",
    "\\begin{align*}\n",
    "x_0 - (1 + x_0^2)\\arctan x_0 &= -x_0\\\\\n",
    "2x_0 - (1 + x_0^2)\\arctan x_0 &= 0\\\\\n",
    "\\end{align*}\n",
    "\n",
    "Let's use Newton's method to estimate a solution to this equation.  First, we need to compute the derivative:\n",
    "\\begin{align*}\n",
    "g(x) &= 2x - (1 + x^2)\\arctan x \\\\\n",
    "g'(x) &= 2 - \\left((1 + x^2)\\cdot\\frac{1}{1+x^2} + 2x\\arctan x\\right)\\\\\n",
    "&= 2 - \\left(1 + 2x\\arctan x\\right) \\\\\n",
    "&= 1-2x\\arctan x\n",
    "\\end{align*}"
   ]
  },
  {
   "cell_type": "code",
   "execution_count": 18,
   "id": "cb1dc03f",
   "metadata": {},
   "outputs": [
    {
     "name": "stdout",
     "output_type": "stream",
     "text": [
      "\n",
      "o18 = 1.391745200270735\n",
      "\n",
      "o18 : RR (of precision 53)\n",
      "\u001b[?2004h"
     ]
    }
   ],
   "source": [
    "newton = (f, fPrime, x0) -> (\n",
    "    M := 100;\n",
    "    delta := 2e-12;\n",
    "    epsilon := 8.8818e-16;\n",
    "    v := f x0;\n",
    "    local x1;\n",
    "    if abs v < epsilon then return x0;\n",
    "    for k from 1 to M do (\n",
    "        x1 = x0 - v / fPrime x0;\n",
    "        v = f x1;\n",
    "        if abs(x1 - x0) < delta or abs v < epsilon\n",
    "        then break;\n",
    "        x0 = x1);\n",
    "    x1)\n",
    "\n",
    "newton(x -> 2*x - (1 + x^2) * atan x, x -> 1 - 2 * x * atan x, 1)"
   ]
  },
  {
   "cell_type": "markdown",
   "id": "3a2a3944",
   "metadata": {},
   "source": [
    "### Problem 8\n",
    "We have\n",
    "\\begin{align*}\n",
    "p(x) &= 4x^3 - 2x^2 + 3 \\\\\n",
    "p'(x) &= 12x^2 - 4x\n",
    "\\end{align*}\n",
    "And so\n",
    "\\begin{equation*}\n",
    "x_{n+1} = x_n - \\frac{4x_n^3 - 2x_n^2 + 3}{12x_n^2 - 4x_n}\n",
    "\\end{equation*}\n",
    "\n",
    "Using $x_0 = -1$, we have\n",
    "\\begin{align*}\n",
    "x_1 &= -1 - \\frac{4(-1)^3 - 2(-1)^2 + 3}{12(-1)^2 - 4(-1)} = -0.8125 \\\\\n",
    "x_2 &= -0.8125- \\frac{4(-0.8125)^3 - 2(-0.8125)^2 + 3}{12(-0.8125)^2 - 4(-0.8125)} = -0.770804 \\\\\n",
    "x_3 &= -0.770804- \\frac{4(-0.770804)^3 - 2(-0.770804)^2 + 3}{12(-0.770804)^2 - 4(-0.770804)} = -0.768832\\\\\n",
    "x_4 &= -0.768832- \\frac{4(-0.768832)^3 - 2(-0.768832)^2 + 3}{12(-0.768832)^2 - 4(-0.768832)} = -0.768828\\\\\n",
    "\\end{align*}"
   ]
  },
  {
   "cell_type": "markdown",
   "id": "8cb5f8b3",
   "metadata": {},
   "source": [
    "### Problem 9\n",
    "\n",
    "If $f(x) = x^3 - 2$, then $f'(x) = 3x^2$.  So we have\n",
    "\\begin{equation*}\n",
    "x_{n+1} = x_n - \\frac{x_n^3 - 2}{3x_n^2}\n",
    "\\end{equation*}\n",
    "\n",
    "So if $x_0 = 1$, then\n",
    "\\begin{align*}\n",
    "x_1 &= 1 - \\frac{1^3 - 2}{3\\cdot 1^2} = 1.333333 \\\\\n",
    "x_2 &= 1.333333 - \\frac{(1.333333)^3 - 2}{3\\cdot(1.333333)^2} = 1.263889\n",
    "\\end{align*}"
   ]
  },
  {
   "cell_type": "markdown",
   "id": "0ef1e427",
   "metadata": {},
   "source": [
    "### Computer Problem 1\n",
    "We want to find the roots of $f(x) = x - \\tan x$, so we use $f'(x) = 1 - \\sec^2 x$."
   ]
  },
  {
   "cell_type": "code",
   "execution_count": 19,
   "id": "826daaa3",
   "metadata": {},
   "outputs": [
    {
     "name": "stdout",
     "output_type": "stream",
     "text": [
      "\n",
      "o19 = 4.493409457909064\n",
      "\n",
      "o19 : RR (of precision 53)\n",
      "\u001b[?2004h"
     ]
    }
   ],
   "source": [
    "newton(x -> x - tan x, x -> 1 - (sec x)^2, 4.5)"
   ]
  },
  {
   "cell_type": "code",
   "execution_count": 20,
   "id": "6183c242",
   "metadata": {},
   "outputs": [
    {
     "name": "stdout",
     "output_type": "stream",
     "text": [
      "\n",
      "o20 = 7.725251836937707\n",
      "\n",
      "o20 : RR (of precision 53)\n",
      "\u001b[?2004h"
     ]
    }
   ],
   "source": [
    "newton(x -> x - tan x, x -> 1 - (sec x)^2, 7.7)"
   ]
  },
  {
   "cell_type": "markdown",
   "id": "6a38afd8",
   "metadata": {},
   "source": [
    "### Computer Problem 3\n",
    "\n",
    "We have\n",
    "\\begin{align*}\n",
    "f(x) &= \\frac{\\tan x}{x^2} \\\\\n",
    "f'(x) &= \\frac{x^2\\sec^2 x - 2x\\tan x}{x^4}\\\\\n",
    "&= \\frac{x\\sec^2 x - 2\\tan x}{x^3} \\\\\n",
    "f''(x) &= \\frac{x^3(x\\cdot 2\\sec x\\cdot\\sec x\\tan x + 1\\cdot \\sec^2 x - 2\\sec^2 x) - 3x^2(x\\sec^2 x - 2\\tan x)}{x^6} \\\\\n",
    "&= \\frac{2 x^2 \\sec^2 x \\tan x - 4x\\sec^2 x + 6\\tan x}{x^4} \\\\\n",
    "\\end{align*}\n",
    "\n",
    "Looking at a graph of the curve $y=\\frac{\\tan x}{x^2}$ using Desmos, it appears that a local minimum appears near 1, so let's use $x_0 = 1$."
   ]
  },
  {
   "cell_type": "code",
   "execution_count": 21,
   "id": "10c17915",
   "metadata": {},
   "outputs": [
    {
     "name": "stdout",
     "output_type": "stream",
     "text": [
      "\n",
      "o21 = .9477471335169906\n",
      "\n",
      "o21 : RR (of precision 53)\n",
      "\u001b[?2004h"
     ]
    }
   ],
   "source": [
    "newton(x -> (x * (sec x)^2 - 2 * tan x) / x^3, x -> (2 * x^2 * (sec x)^2 * tan x - 4 * x * (sec x)^2 + 6 * tan x) / x^4, 1)"
   ]
  },
  {
   "cell_type": "markdown",
   "id": "8ca7f160",
   "metadata": {},
   "source": [
    "### Computer Problem 5\n",
    "\n",
    "We have\n",
    "\\begin{align*}\n",
    "f(x) &= 2x^4 + 24x^3 + 61x^2 - 16x + 1 \\\\\n",
    "f'(x) &= 8x^3 + 72x^2 + 122x - 16\n",
    "\\end{align*}\n",
    "\n",
    "Let's use $x_0 = 0.1$ to find the first root.\n"
   ]
  },
  {
   "cell_type": "code",
   "execution_count": 22,
   "id": "a81ba508",
   "metadata": {
    "scrolled": true
   },
   "outputs": [
    {
     "name": "stdout",
     "output_type": "stream",
     "text": [
      "\n",
      "o22 = .1213203435596426\n",
      "\n",
      "o22 : RR (of precision 53)\n",
      "\u001b[?2004h"
     ]
    }
   ],
   "source": [
    "newton(x -> 2*x^4 + 24*x^3 + 61*x^2 - 16*x + 1, x -> 8*x^3 + 72*x^2 + 122*x - 16, 0.1)"
   ]
  },
  {
   "cell_type": "markdown",
   "id": "57f8e666",
   "metadata": {},
   "source": [
    "Using Desmos to graph the curve $y = 2x^4 + 24x^3 + 61x^2 - 16x + 1$, it looks like the other root is a bit to the right of this.  Let's try $x_0 = 0.123$."
   ]
  },
  {
   "cell_type": "code",
   "execution_count": 23,
   "id": "7d74cf66",
   "metadata": {
    "scrolled": true
   },
   "outputs": [
    {
     "name": "stdout",
     "output_type": "stream",
     "text": [
      "\n",
      "o23 = .1231056256176612\n",
      "\n",
      "o23 : RR (of precision 53)\n",
      "\u001b[?2004h"
     ]
    }
   ],
   "source": [
    "newton(x -> 2*x^4 + 24*x^3 + 61*x^2 - 16*x + 1, x -> 8*x^3 + 72*x^2 + 122*x - 16, 0.123)"
   ]
  }
 ],
 "metadata": {
  "kernelspec": {
   "display_name": "M2",
   "language": "text/x-macaulay2",
   "name": "m2"
  },
  "language_info": {
   "codemirror_mode": "macaulay2",
   "file_extension": ".m2",
   "mimetype": "text/x-macaulay2",
   "name": "Macaulay2"
  }
 },
 "nbformat": 4,
 "nbformat_minor": 5
}
